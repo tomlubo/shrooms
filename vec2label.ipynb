{
 "cells": [
  {
   "cell_type": "code",
   "execution_count": 1,
   "id": "33f59a55",
   "metadata": {},
   "outputs": [],
   "source": [
    "import torch\n",
    "import torch.nn as nn\n",
    "import torch.nn.functional as F\n",
    "import torch.optim as optim\n",
    "from torch.optim.lr_scheduler import ReduceLROnPlateau  # add import\n",
    "from torchvision.transforms import v2 as T\n",
    "from torch.utils.data import DataLoader, Dataset, WeightedRandomSampler\n",
    "from ShroomDataset import ShroomDataset, ClassBalancedBatchSampler\n",
    "from ShroomCNN import ShroomCNNAttentive, AuxSpeciesHead\n",
    "from sklearn.metrics import accuracy_score, f1_score, precision_score, recall_score\n",
    "from sklearn.metrics import classification_report, top_k_accuracy_score\n",
    "import numpy as np\n",
    "import matplotlib.pyplot as plt\n",
    "import time\n",
    "import pandas as pd\n",
    "from PIL import Image, ImageOps\n",
    "import os\n",
    "from tqdm.auto import tqdm\n",
    "from contextlib import nullcontext\n",
    "\n",
    "data_path = './data/'\n",
    "\n",
    "train_meta = pd.read_csv(os.path.join(data_path, 'train.csv'))#.iloc[:1000]\n",
    "val_meta = pd.read_csv(os.path.join(data_path, 'val.csv'))\n",
    "test_meta = pd.read_csv(os.path.join(data_path, 'test.csv'))\n"
   ]
  },
  {
   "cell_type": "code",
   "execution_count": 2,
   "id": "8435e4be",
   "metadata": {},
   "outputs": [
    {
     "name": "stdout",
     "output_type": "stream",
     "text": [
      "# classes: 169\n"
     ]
    }
   ],
   "source": [
    "IMG_SIZE = 256  # try 256/288 for accuracy later\n",
    "mean = (0.485, 0.456, 0.406)  # TODO: compute dataset stats\n",
    "std  = (0.229, 0.224, 0.225)\n",
    "\n",
    "train_tf = T.Compose([\n",
    "    T.RandomResizedCrop(IMG_SIZE, scale=(0.75, 1.0), ratio=(0.8, 1.25), antialias=False),\n",
    "    T.RandomHorizontalFlip(0.5),\n",
    "    T.RandomApply([T.RandomAffine(degrees=10, translate=(0.05, 0.05), scale=(0.95, 1.05))], p=0.35),\n",
    "    T.RandomApply([T.ColorJitter(0.2, 0.2, 0.2, 0.05)], p=0.35),\n",
    "    T.RandomErasing(p=0.1, scale=(0.02, 0.1), ratio=(0.3, 3.3)),  # new, mild\n",
    "    T.ToDtype(torch.float32, scale=True),\n",
    "    T.Normalize(mean, std),\n",
    "])\n",
    "val_tf = T.Compose([\n",
    "    T.Resize(IMG_SIZE, antialias=False),\n",
    "    T.CenterCrop(IMG_SIZE),\n",
    "    T.ToDtype(torch.float32, scale=True),\n",
    "    T.Normalize(mean, std),\n",
    "])\n",
    "\n",
    "train_ds = ShroomDataset(train_meta, data_path, transform=train_tf)\n",
    "val_ds   = ShroomDataset(val_meta,   data_path, transform=val_tf, label2idx=train_ds.label2idx)\n",
    "test_ds  = ShroomDataset(test_meta,  data_path, transform=val_tf, label2idx=train_ds.label2idx)\n",
    "\n",
    "num_classes = len(train_ds.label2idx)\n",
    "train_labels = np.asarray(train_ds.labels, dtype=np.int64)\n",
    "idx2label = {v: k for k,v in train_ds.label2idx.items()}\n",
    "\n",
    "counts = np.bincount(train_labels, minlength=num_classes)\n",
    "alpha = 0.5\n",
    "class_w = (np.maximum(counts, 1) ** -alpha)\n",
    "sample_w = class_w[train_labels]\n",
    "\n",
    "samples_per_epoch = 150_000\n",
    "sampler = WeightedRandomSampler(\n",
    "    weights=torch.DoubleTensor(sample_w),\n",
    "    num_samples=samples_per_epoch,\n",
    "    replacement=True\n",
    ")\n",
    "\n",
    "print(f\"# classes: {num_classes}\")\n",
    "BATCH = 128\n",
    "\n",
    "# MPS: pin_memory has no benefit; keep False\n",
    "DEVICE = 'mps' if torch.backends.mps.is_available() else ('cuda' if torch.cuda.is_available() else 'cpu')\n",
    "import os\n",
    "NUM_WORKERS = min(8, max(1, (os.cpu_count() or 4)//2))\n",
    "PIN = (DEVICE == \"cuda\")  # False on MPS\n",
    "PREFETCH = 2 if NUM_WORKERS > 0 else None\n",
    "\n",
    "cls_train_loader_kwargs = dict(\n",
    "    batch_size=BATCH,\n",
    "    sampler=sampler,\n",
    "    num_workers=NUM_WORKERS,\n",
    "    persistent_workers=(NUM_WORKERS > 0),\n",
    "    pin_memory=PIN,\n",
    ")\n",
    "if PREFETCH is not None:\n",
    "    cls_train_loader_kwargs[\"prefetch_factor\"] = PREFETCH\n",
    "\n",
    "cls_val_loader_kwargs = dict(\n",
    "    batch_size=BATCH,\n",
    "    shuffle=False,\n",
    "    num_workers=NUM_WORKERS,\n",
    "    persistent_workers=(NUM_WORKERS > 0),\n",
    "    pin_memory=PIN,\n",
    ")\n",
    "if PREFETCH is not None:\n",
    "    cls_val_loader_kwargs[\"prefetch_factor\"] = PREFETCH\n",
    "\n",
    "cls_test_loader_kwargs = dict(\n",
    "    batch_size=BATCH,\n",
    "    shuffle=False,\n",
    "    num_workers=NUM_WORKERS,\n",
    "    persistent_workers=(NUM_WORKERS > 0),\n",
    "    pin_memory=PIN,\n",
    ")\n",
    "if PREFETCH is not None:\n",
    "    cls_test_loader_kwargs[\"prefetch_factor\"] = PREFETCH\n",
    "\n",
    "cls_train_loader = DataLoader(train_ds, **cls_train_loader_kwargs)\n",
    "cls_val_loader   = DataLoader(val_ds,   **cls_val_loader_kwargs)\n",
    "cls_test_loader  = DataLoader(test_ds,  **cls_test_loader_kwargs)"
   ]
  },
  {
   "cell_type": "code",
   "execution_count": 3,
   "id": "49f33416",
   "metadata": {},
   "outputs": [],
   "source": [
    "class EncoderFromBackbone(nn.Module):\n",
    "    def __init__(self, backbone: nn.Module, feat_bn: bool = True):\n",
    "        super().__init__()\n",
    "        self.stem = getattr(backbone, 'stem', nn.Identity())\n",
    "        self.body = backbone.model\n",
    "        self.pool = backbone.global_pool\n",
    "        self.flatten = nn.Flatten()\n",
    "\n",
    "        # Prefer feature dim provided by backbone; fallback to first Linear in classifier.\n",
    "        out_dim = getattr(backbone, 'feat_dim', None)\n",
    "        if out_dim is None:\n",
    "            first_linear = None\n",
    "            for m in getattr(backbone, 'classifier', []):\n",
    "                if isinstance(m, nn.Linear):\n",
    "                    first_linear = m\n",
    "                    break\n",
    "            assert first_linear is not None, \"Couldn't infer feature dim: set backbone.feat_dim or start classifier with a Linear.\"\n",
    "            out_dim = first_linear.in_features\n",
    "\n",
    "        self.out_dim = int(out_dim)\n",
    "        self.bn = nn.BatchNorm1d(self.out_dim) if feat_bn else nn.Identity()\n",
    "\n",
    "    def forward(self, x):\n",
    "        x = self.stem(x)\n",
    "        x = self.body(x)\n",
    "        x = self.pool(x)\n",
    "        x = self.flatten(x)\n",
    "        x = x.contiguous()\n",
    "        x = self.bn(x)\n",
    "        return x"
   ]
  },
  {
   "cell_type": "code",
   "execution_count": 4,
   "id": "857cfc0f",
   "metadata": {},
   "outputs": [],
   "source": [
    "# must match the pretrain backbone config\n",
    "blocks = [\n",
    "    (64,   True,  False, True,  True),   # SE only\n",
    "    (128,  True,  False, True,  True),\n",
    "    (256,  True,  True,  True,  True),   # CBAM here\n",
    "    (320,  True,  False, True,  True),\n",
    "]\n",
    "\n",
    "def build_backbone():\n",
    "    # num_classes passed here is irrelevant for the encoder, but ctor needs it\n",
    "    return ShroomCNNAttentive(in_ch=3, block_cfgs=blocks, mlp_units=[1024,512], num_classes=num_classes)"
   ]
  },
  {
   "cell_type": "code",
   "execution_count": 5,
   "id": "c9751d72",
   "metadata": {},
   "outputs": [
    {
     "name": "stdout",
     "output_type": "stream",
     "text": [
      "feat_dim = 320\n"
     ]
    }
   ],
   "source": [
    "ENC_PATH = \"encoder_supcon_with_aux.pth\"  # path to the file you saved\n",
    "enc_state_dict = torch.load(ENC_PATH, map_location=\"cpu\")\n",
    "\n",
    "# derive feat_dim from the backbone itself (robust across notebooks)\n",
    "_tmp = EncoderFromBackbone(build_backbone())\n",
    "feat_dim = _tmp.out_dim\n",
    "del _tmp\n",
    "print(\"feat_dim =\", feat_dim)"
   ]
  },
  {
   "cell_type": "code",
   "execution_count": 6,
   "id": "b25a9404",
   "metadata": {},
   "outputs": [],
   "source": [
    "class LinearProbe(nn.Module):\n",
    "    def __init__(self, backbone_ctor, encoder_state_dict, feat_dim, num_classes):\n",
    "        super().__init__()\n",
    "        backbone = backbone_ctor()\n",
    "        self.encoder = EncoderFromBackbone(backbone)\n",
    "        self.encoder.load_state_dict(encoder_state_dict, strict=True)\n",
    "        for p in self.encoder.parameters(): \n",
    "            p.requires_grad = False\n",
    "        try:\n",
    "            self.encoder = self.encoder.to(memory_format=torch.channels_last)\n",
    "        except Exception:\n",
    "            pass\n",
    "\n",
    "        self.head = nn.Sequential(\n",
    "            nn.Linear(feat_dim, 512), nn.ReLU(inplace=True), nn.Dropout(0.4),\n",
    "            nn.Linear(512, num_classes)\n",
    "        )\n",
    "    def forward(self, x):\n",
    "        with torch.no_grad():\n",
    "            f = self.encoder(x)\n",
    "        return self.head(f)\n",
    "    \n",
    "class ClassifierWithEncoder(nn.Module):\n",
    "    def __init__(self, backbone_ctor, encoder_state_dict, feat_dim, num_classes):\n",
    "        super().__init__()\n",
    "        backbone = backbone_ctor()\n",
    "        self.encoder = EncoderFromBackbone(backbone)\n",
    "        self.encoder.load_state_dict(encoder_state_dict, strict=True)\n",
    "        try:\n",
    "            self.encoder = self.encoder.to(memory_format=torch.channels_last)\n",
    "        except Exception:\n",
    "            pass\n",
    "        self.head = nn.Sequential(\n",
    "            nn.Linear(feat_dim, 512), nn.ReLU(inplace=True), nn.Dropout(0.4),\n",
    "            nn.Linear(512, num_classes)\n",
    "        )\n",
    "\n",
    "    def freeze_encoder(self):\n",
    "        for p in self.encoder.parameters(): p.requires_grad = False\n",
    "\n",
    "    def unfreeze_last_k(self, k=2, bn_affine=True, bn_stats_train=False):\n",
    "        # unfreeze last k blocks in encoder.body (Sequential of ConvAttnBlocks / downsample convs)\n",
    "        modules = list(self.encoder.body.children())\n",
    "        for m in modules[-k:]:\n",
    "            for p in m.parameters(): p.requires_grad = True\n",
    "\n",
    "        # BN handling: allow affine to learn; keep running stats frozen (eval) if bn_stats_train=False\n",
    "        for m in self.encoder.modules():\n",
    "            if isinstance(m, (nn.BatchNorm2d, nn.BatchNorm1d)):\n",
    "                if bn_affine:\n",
    "                    if m.weight is not None: m.weight.requires_grad = True\n",
    "                    if m.bias  is not None: m.bias.requires_grad  = True\n",
    "                if not bn_stats_train:\n",
    "                    m.eval()   # keep running stats fixed for small batches\n",
    "    def unfreeze_all(self, bn_affine=True, bn_stats_train=False):\n",
    "        for p in self.encoder.parameters():\n",
    "            p.requires_grad = True\n",
    "        for m in self.encoder.modules():\n",
    "            if isinstance(m, (nn.BatchNorm2d, nn.BatchNorm1d)):\n",
    "                if bn_affine:\n",
    "                    if m.weight is not None: m.weight.requires_grad = True\n",
    "                    if m.bias  is not None: m.bias.requires_grad  = True\n",
    "                if not bn_stats_train:\n",
    "                    m.eval()\n",
    "                    \n",
    "    def forward(self, x):\n",
    "        f = self.encoder(x)     # encoder is allowed to grad if unfrozen\n",
    "        return self.head(f)"
   ]
  },
  {
   "cell_type": "code",
   "execution_count": 7,
   "id": "b23f6c85",
   "metadata": {},
   "outputs": [],
   "source": [
    "import math\n",
    "import numpy as np\n",
    "import torch\n",
    "\n",
    "def _rand_bbox(H, W, lam, device):\n",
    "    \"\"\"CutMix bbox. lam is area keep ratio; we cut area (1-lam).\"\"\"\n",
    "    cut_rat = math.sqrt(1.0 - lam)\n",
    "    cut_w = int(W * cut_rat)\n",
    "    cut_h = int(H * cut_rat)\n",
    "\n",
    "    # uniform center\n",
    "    cx = torch.randint(0, W, (1,), device=device).item()\n",
    "    cy = torch.randint(0, H, (1,), device=device).item()\n",
    "\n",
    "    x1 = max(cx - cut_w // 2, 0)\n",
    "    y1 = max(cy - cut_h // 2, 0)\n",
    "    x2 = min(cx + cut_w // 2, W)\n",
    "    y2 = min(cy + cut_h // 2, H)\n",
    "    return x1, y1, x2, y2\n",
    "\n",
    "def mixup_or_cutmix(x, y, mixup_alpha=0.2, cutmix_alpha=1.0, p_cutmix=0.3):\n",
    "    \"\"\"\n",
    "    Returns:\n",
    "      x_aug, y_a, lam, y_b\n",
    "    If CutMix not triggered/supported, falls back to MixUp (if alpha>0), else identity.\n",
    "    \"\"\"\n",
    "    if (p_cutmix > 0.0 and cutmix_alpha > 0.0) and (np.random.rand() < p_cutmix):\n",
    "        # ---- CutMix ----\n",
    "        lam = np.random.beta(cutmix_alpha, cutmix_alpha)\n",
    "        B, C, H, W = x.shape\n",
    "        idx = torch.randperm(B, device=x.device)\n",
    "        x1, y1, x2, y2 = _rand_bbox(H, W, lam, x.device)\n",
    "        x[:, :, y1:y2, x1:x2] = x[idx, :, y1:y2, x1:x2]\n",
    "        # adjust lam to the exact pixel ratio actually replaced\n",
    "        lam = 1.0 - ((x2 - x1) * (y2 - y1) / float(H * W))\n",
    "        return x, y, lam, y[idx]\n",
    "    elif mixup_alpha and mixup_alpha > 0.0:\n",
    "        # ---- MixUp ----\n",
    "        lam = np.random.beta(mixup_alpha, mixup_alpha)\n",
    "        idx = torch.randperm(x.size(0), device=x.device)\n",
    "        x = lam * x + (1.0 - lam) * x[idx]\n",
    "        return x, y, lam, y[idx]\n",
    "    else:\n",
    "        # identity\n",
    "        return x, y, 1.0, y"
   ]
  },
  {
   "cell_type": "code",
   "execution_count": 8,
   "id": "0af32aae",
   "metadata": {},
   "outputs": [],
   "source": [
    "from torch.optim import AdamW\n",
    "from math import pi\n",
    "\n",
    "\n",
    "def train_probe(model, train_loader, val_loader, epochs=15, base_lr=1e-3, weight_decay=1e-4,\n",
    "                mixup_alpha=0.2, mixup_alpha_end=0.05,    # decays linearly to end\n",
    "                cutmix_alpha=1.0, p_cutmix=0.25):\n",
    "    device = DEVICE\n",
    "    model.to(device)\n",
    "\n",
    "    cw = torch.tensor(class_w, dtype=torch.float32, device=device)\n",
    "    criterion = nn.CrossEntropyLoss(weight=cw, label_smoothing=0.1)\n",
    "\n",
    "    opt  = AdamW(model.head.parameters(), lr=base_lr, weight_decay=weight_decay)\n",
    "\n",
    "    steps_per_epoch = max(1, len(train_loader))\n",
    "    warmup_steps = steps_per_epoch * 1\n",
    "    total_steps  = steps_per_epoch * epochs\n",
    "    def lr_lambda(step):\n",
    "        if step < warmup_steps:\n",
    "            return (step + 1) / max(1, warmup_steps)\n",
    "        t = (step - warmup_steps) / max(1, total_steps - warmup_steps)\n",
    "        return 0.5 * (1 + np.cos(np.pi * t))\n",
    "    sched = optim.lr_scheduler.LambdaLR(opt, lr_lambda=lr_lambda)\n",
    "\n",
    "    use_amp = (device == \"cuda\")\n",
    "    if use_amp:\n",
    "        bf16_ok = torch.cuda.is_bf16_supported()\n",
    "        amp_dtype = torch.bfloat16 if bf16_ok else torch.float16\n",
    "        scaler = torch.amp.GradScaler(enabled=not bf16_ok)\n",
    "    else:\n",
    "        amp_dtype = None\n",
    "        scaler = None\n",
    "\n",
    "    best_loss=float('inf'); best_sd=None\n",
    "    history = []\n",
    "    global_step = 0\n",
    "\n",
    "    for ep in range(1, epochs+1):\n",
    "        model.train(); runL=acc=n=0\n",
    "        for x,y in tqdm(train_loader, desc=f\"Probe {ep}/{epochs}\", leave=False):\n",
    "            x = x.to(device, non_blocking=True)\n",
    "            y = y.to(device, non_blocking=True)\n",
    "\n",
    "            # Linearly decay mixup over training\n",
    "            frac = min(1.0, global_step / max(1, total_steps - 1))\n",
    "            mix_now = mixup_alpha + (mixup_alpha_end - mixup_alpha) * frac\n",
    "            x_aug, ya, lam, yb = mixup_or_cutmix(x, y, mixup_alpha=mix_now,\n",
    "                                                 cutmix_alpha=cutmix_alpha, p_cutmix=p_cutmix)\n",
    "\n",
    "            opt.zero_grad(set_to_none=True)\n",
    "            if use_amp:\n",
    "                with torch.autocast(device_type=\"cuda\", dtype=amp_dtype):\n",
    "                    out = model(x_aug)\n",
    "                    loss = lam*criterion(out, ya) + (1-lam)*criterion(out, yb)\n",
    "                scaler.scale(loss).backward()\n",
    "                scaler.step(opt); scaler.update()\n",
    "            else:\n",
    "                out = model(x_aug)\n",
    "                loss = lam*criterion(out, ya) + (1-lam)*criterion(out, yb)\n",
    "                loss.backward(); opt.step()\n",
    "\n",
    "            sched.step(); global_step += 1\n",
    "\n",
    "            runL += float(loss)*y.size(0); acc += (out.argmax(1)==y).sum().item(); n += y.size(0)\n",
    "\n",
    "        trL, trA = runL/n, acc/n\n",
    "\n",
    "        model.eval(); vL=vA=m=0\n",
    "        with torch.no_grad():\n",
    "            for x,y in val_loader:\n",
    "                x = x.to(device, non_blocking=True)\n",
    "                y = y.to(device, non_blocking=True)\n",
    "                out = model(x)\n",
    "                vL += float(criterion(out,y))*y.size(0)\n",
    "                vA += (out.argmax(1)==y).sum().item(); m += y.size(0)\n",
    "        vL, vA = vL/m, vA/m\n",
    "        if vL < best_loss - 1e-4:\n",
    "            best_loss=vL; best_sd={k:v.cpu().clone() for k,v in model.state_dict().items()}\n",
    "        curr_lr = sched.get_last_lr()[0]\n",
    "        print(f\"Epoch {ep:3d}/{epochs:3d} | Train {trL:.4f}/{trA:.4f} | Val {vL:.4f}/{vA:.4f} | LR {curr_lr:.2e}\")\n",
    "        history.append((trL, trA, vL, vA))\n",
    "        if DEVICE == \"mps\": torch.mps.empty_cache()\n",
    "\n",
    "    if best_sd: model.load_state_dict(best_sd)\n",
    "    return model, history\n",
    "\n",
    "def fine_tune(model, train_loader, val_loader, epochs=10,\n",
    "              lr_head=5e-4, lr_enc=5e-5,\n",
    "              weight_decay_head=1e-4, weight_decay_enc=5e-5,\n",
    "              mixup_alpha=0.2, mixup_alpha_end=0.05,\n",
    "              cutmix_alpha=1.0, p_cutmix=0.25):\n",
    "    device = DEVICE\n",
    "    model.to(device)\n",
    "\n",
    "    cw = torch.tensor(class_w, dtype=torch.float32, device=device)\n",
    "    criterion = nn.CrossEntropyLoss(weight=cw, label_smoothing=0.1)\n",
    "\n",
    "    # encoder param groups\n",
    "    enc_params_decay, enc_params_nod = [], []\n",
    "    for m in model.encoder.modules():\n",
    "        for n, p in m.named_parameters(recurse=False):\n",
    "            if not p.requires_grad: \n",
    "                continue\n",
    "            if isinstance(m, (nn.BatchNorm1d, nn.BatchNorm2d, nn.GroupNorm, nn.LayerNorm)) or n.endswith(\"bias\"):\n",
    "                enc_params_nod.append(p)\n",
    "            else:\n",
    "                enc_params_decay.append(p)\n",
    "    head_params = list(model.head.parameters())\n",
    "\n",
    "    param_groups = []\n",
    "    if enc_params_decay: param_groups.append({\"params\": enc_params_decay, \"lr\": lr_enc, \"weight_decay\": weight_decay_enc})\n",
    "    if enc_params_nod:   param_groups.append({\"params\": enc_params_nod,   \"lr\": lr_enc, \"weight_decay\": 0.0})\n",
    "    param_groups.append({\"params\": head_params, \"lr\": lr_head, \"weight_decay\": weight_decay_head})\n",
    "\n",
    "    opt = optim.AdamW(param_groups)\n",
    "\n",
    "    steps_per_epoch = max(1, len(train_loader))\n",
    "    warmup_steps = steps_per_epoch * 1\n",
    "    total_steps  = steps_per_epoch * epochs\n",
    "    def lr_lambda(step):\n",
    "        if step < warmup_steps: return (step + 1) / max(1, warmup_steps)\n",
    "        t = (step - warmup_steps) / max(1, total_steps - warmup_steps)\n",
    "        return 0.5 * (1 + np.cos(np.pi * t))\n",
    "    sched = optim.lr_scheduler.LambdaLR(opt, lr_lambda=lr_lambda)\n",
    "\n",
    "    use_amp = (DEVICE == \"cuda\")\n",
    "    if use_amp:\n",
    "        bf16_ok = torch.cuda.is_bf16_supported()\n",
    "        amp_dtype = torch.bfloat16 if bf16_ok else torch.float16\n",
    "        scaler = torch.amp.GradScaler(enabled=not bf16_ok)\n",
    "    else:\n",
    "        amp_dtype = None\n",
    "        scaler = None\n",
    "\n",
    "    best = {\"vloss\": float(\"inf\"), \"sd\": None}\n",
    "    hist = []\n",
    "    global_step = 0\n",
    "\n",
    "    for ep in range(1, epochs+1):\n",
    "        model.train(); runL=acc=n=0\n",
    "\n",
    "        for x,y in tqdm(train_loader, desc=f\"FT {ep}/{epochs}\", leave=False):\n",
    "            x = x.to(device, non_blocking=True)\n",
    "            y = y.to(device, non_blocking=True)\n",
    "\n",
    "            # linear decay of mixup strength to end\n",
    "            frac = min(1.0, global_step / max(1, total_steps - 1))\n",
    "            mix_now = mixup_alpha + (mixup_alpha_end - mixup_alpha) * frac\n",
    "            x_aug, ya, lam, yb = mixup_or_cutmix(\n",
    "                x, y,\n",
    "                mixup_alpha=mix_now,\n",
    "                cutmix_alpha=cutmix_alpha, p_cutmix=p_cutmix\n",
    "            )\n",
    "\n",
    "            opt.zero_grad(set_to_none=True)\n",
    "            if use_amp:\n",
    "                with torch.autocast(device_type=\"cuda\", dtype=amp_dtype):\n",
    "                    out  = model(x_aug)\n",
    "                    loss = lam*criterion(out, ya) + (1-lam)*criterion(out, yb)\n",
    "                scaler.scale(loss).backward()\n",
    "                torch.nn.utils.clip_grad_norm_(model.parameters(), 1.0)\n",
    "                scaler.step(opt); scaler.update()\n",
    "            else:\n",
    "                out  = model(x_aug)\n",
    "                loss = lam*criterion(out, ya) + (1-lam)*criterion(out, yb)\n",
    "                loss.backward()\n",
    "                torch.nn.utils.clip_grad_norm_(model.parameters(), 1.0)\n",
    "                opt.step()\n",
    "\n",
    "            sched.step(); global_step += 1\n",
    "\n",
    "            runL += float(loss)*y.size(0); acc += (out.argmax(1)==y).sum().item(); n += y.size(0)\n",
    "\n",
    "        trL, trA = runL/max(1,n), acc/max(1,n)\n",
    "\n",
    "        # validation\n",
    "        model.eval(); vL=vA=m=0\n",
    "        with torch.no_grad():\n",
    "            for x,y in val_loader:\n",
    "                x = x.to(device, non_blocking=True)\n",
    "                y = y.to(device, non_blocking=True)\n",
    "                out = model(x)\n",
    "                vL += float(criterion(out,y))*y.size(0)\n",
    "                vA += (out.argmax(1)==y).sum().item(); m += y.size(0)\n",
    "        vL, vA = vL/max(1,m), vA/max(1,m)\n",
    "\n",
    "        if vL < best[\"vloss\"] - 1e-4:\n",
    "            best[\"vloss\"] = vL\n",
    "            best[\"sd\"] = {k: v.detach().cpu().clone() for k,v in model.state_dict().items()}\n",
    "\n",
    "        print(f\"Epoch {ep:2d}/{epochs:2d} | Train {trL:.4f}/{trA:.4f} | Val {vL:.4f}/{vA:.4f} | \"\n",
    "              f\"LR(enc/head) {[pg['lr'] for pg in opt.param_groups[:-1]] + [opt.param_groups[-1]['lr']]}\")\n",
    "\n",
    "        hist.append((trL,trA,vL,vA))\n",
    "        if DEVICE == \"mps\": torch.mps.empty_cache()\n",
    "\n",
    "    if best[\"sd\"] is not None:\n",
    "        model.load_state_dict(best[\"sd\"])\n",
    "    return model, hist"
   ]
  },
  {
   "cell_type": "code",
   "execution_count": 9,
   "id": "78aab542",
   "metadata": {},
   "outputs": [],
   "source": [
    "@torch.no_grad()\n",
    "def evaluate_classifier(model, loader, classes, tta_hflip=True):\n",
    "    device = DEVICE\n",
    "    model.to(device).eval()\n",
    "    y_true, y_pred, y_logits = [], [], []\n",
    "    for x, y in loader:\n",
    "        x = x.to(device, non_blocking=True).contiguous(memory_format=torch.channels_last)\n",
    "        y = y.to(device, non_blocking=True)\n",
    "\n",
    "        logits = model(x)\n",
    "        if tta_hflip:\n",
    "            xf = torch.flip(x, dims=[-1])\n",
    "            logits = logits + model(xf)\n",
    "            logits = logits * 0.5\n",
    "\n",
    "        preds = logits.argmax(1)\n",
    "        y_logits.append(logits.cpu()); y_pred.append(preds.cpu()); y_true.append(y.cpu())\n",
    "    y_true  = torch.cat(y_true).numpy()\n",
    "    y_pred  = torch.cat(y_pred).numpy()\n",
    "    y_logits= torch.cat(y_logits).numpy()\n",
    "    num_classes = len(classes)\n",
    "    return dict(\n",
    "        top1=accuracy_score(y_true, y_pred),\n",
    "        top5=top_k_accuracy_score(y_true, y_logits, k=min(3, num_classes), labels=list(range(num_classes))),\n",
    "        f1=f1_score(y_true, y_pred, average='weighted', zero_division=0),\n",
    "        precision=precision_score(y_true, y_pred, average='weighted', zero_division=0),\n",
    "        recall=recall_score(y_true, y_pred, average='weighted', zero_division=0),\n",
    "    )"
   ]
  },
  {
   "cell_type": "code",
   "execution_count": 10,
   "id": "f23c6c03",
   "metadata": {},
   "outputs": [
    {
     "data": {
      "application/vnd.jupyter.widget-view+json": {
       "model_id": "3bb555b108e746f2aa5b65ddea2ac67c",
       "version_major": 2,
       "version_minor": 0
      },
      "text/plain": [
       "Probe 1/16:   0%|          | 0/1172 [00:09<?, ?it/s]"
      ]
     },
     "metadata": {},
     "output_type": "display_data"
    },
    {
     "name": "stdout",
     "output_type": "stream",
     "text": [
      "Epoch   1/ 16 | Train 3.0913/0.2915 | Val 2.0986/0.6305 | LR 5.00e-03\n"
     ]
    },
    {
     "data": {
      "application/vnd.jupyter.widget-view+json": {
       "model_id": "9a57a42cfb254812996af47eef98515b",
       "version_major": 2,
       "version_minor": 0
      },
      "text/plain": [
       "Probe 2/16:   0%|          | 0/1172 [00:00<?, ?it/s]"
      ]
     },
     "metadata": {},
     "output_type": "display_data"
    },
    {
     "name": "stdout",
     "output_type": "stream",
     "text": [
      "Epoch   2/ 16 | Train 3.0162/0.3201 | Val 2.0485/0.6642 | LR 4.95e-03\n"
     ]
    },
    {
     "data": {
      "application/vnd.jupyter.widget-view+json": {
       "model_id": "42218e673af54e91ab2329133b2693df",
       "version_major": 2,
       "version_minor": 0
      },
      "text/plain": [
       "Probe 3/16:   0%|          | 0/1172 [00:00<?, ?it/s]"
      ]
     },
     "metadata": {},
     "output_type": "display_data"
    },
    {
     "name": "stdout",
     "output_type": "stream",
     "text": [
      "Epoch   3/ 16 | Train 2.9614/0.3230 | Val 2.0266/0.6709 | LR 4.78e-03\n"
     ]
    },
    {
     "data": {
      "application/vnd.jupyter.widget-view+json": {
       "model_id": "17c052ea11474e7a9da49322c6950d9d",
       "version_major": 2,
       "version_minor": 0
      },
      "text/plain": [
       "Probe 4/16:   0%|          | 0/1172 [00:00<?, ?it/s]"
      ]
     },
     "metadata": {},
     "output_type": "display_data"
    },
    {
     "name": "stdout",
     "output_type": "stream",
     "text": [
      "Epoch   4/ 16 | Train 2.9169/0.3155 | Val 2.0425/0.6642 | LR 4.52e-03\n"
     ]
    },
    {
     "data": {
      "application/vnd.jupyter.widget-view+json": {
       "model_id": "58be0447586048679b2efe28b87bdd6b",
       "version_major": 2,
       "version_minor": 0
      },
      "text/plain": [
       "Probe 5/16:   0%|          | 0/1172 [00:00<?, ?it/s]"
      ]
     },
     "metadata": {},
     "output_type": "display_data"
    },
    {
     "name": "stdout",
     "output_type": "stream",
     "text": [
      "Epoch   5/ 16 | Train 2.8498/0.3321 | Val 2.0138/0.6755 | LR 4.17e-03\n"
     ]
    },
    {
     "data": {
      "application/vnd.jupyter.widget-view+json": {
       "model_id": "fc372a659657487ebd2d87e771268b10",
       "version_major": 2,
       "version_minor": 0
      },
      "text/plain": [
       "Probe 6/16:   0%|          | 0/1172 [00:00<?, ?it/s]"
      ]
     },
     "metadata": {},
     "output_type": "display_data"
    },
    {
     "name": "stdout",
     "output_type": "stream",
     "text": [
      "Epoch   6/ 16 | Train 2.8441/0.3193 | Val 2.0438/0.6628 | LR 3.75e-03\n"
     ]
    },
    {
     "data": {
      "application/vnd.jupyter.widget-view+json": {
       "model_id": "7267f83b244d45a7baf9ab91f1f47704",
       "version_major": 2,
       "version_minor": 0
      },
      "text/plain": [
       "Probe 7/16:   0%|          | 0/1172 [00:00<?, ?it/s]"
      ]
     },
     "metadata": {},
     "output_type": "display_data"
    },
    {
     "name": "stdout",
     "output_type": "stream",
     "text": [
      "Epoch   7/ 16 | Train 2.8012/0.3282 | Val 2.0214/0.6689 | LR 3.27e-03\n"
     ]
    },
    {
     "data": {
      "application/vnd.jupyter.widget-view+json": {
       "model_id": "d19f473ae8dd450d86f126c012e00d02",
       "version_major": 2,
       "version_minor": 0
      },
      "text/plain": [
       "Probe 8/16:   0%|          | 0/1172 [00:00<?, ?it/s]"
      ]
     },
     "metadata": {},
     "output_type": "display_data"
    },
    {
     "name": "stdout",
     "output_type": "stream",
     "text": [
      "Epoch   8/ 16 | Train 2.7177/0.3573 | Val 1.9931/0.6754 | LR 2.76e-03\n"
     ]
    },
    {
     "data": {
      "application/vnd.jupyter.widget-view+json": {
       "model_id": "695cfadf6a6b42b088a2256425d8cd81",
       "version_major": 2,
       "version_minor": 0
      },
      "text/plain": [
       "Probe 9/16:   0%|          | 0/1172 [00:00<?, ?it/s]"
      ]
     },
     "metadata": {},
     "output_type": "display_data"
    },
    {
     "name": "stdout",
     "output_type": "stream",
     "text": [
      "Epoch   9/ 16 | Train 2.6818/0.3521 | Val 1.9514/0.6857 | LR 2.24e-03\n"
     ]
    },
    {
     "data": {
      "application/vnd.jupyter.widget-view+json": {
       "model_id": "81b96c1f063d4026b80a50efdaafb32f",
       "version_major": 2,
       "version_minor": 0
      },
      "text/plain": [
       "Probe 10/16:   0%|          | 0/1172 [00:00<?, ?it/s]"
      ]
     },
     "metadata": {},
     "output_type": "display_data"
    },
    {
     "name": "stdout",
     "output_type": "stream",
     "text": [
      "Epoch  10/ 16 | Train 2.5402/0.3555 | Val 1.8988/0.7015 | LR 1.73e-03\n"
     ]
    },
    {
     "data": {
      "application/vnd.jupyter.widget-view+json": {
       "model_id": "804a017e49124561839a0295e1928186",
       "version_major": 2,
       "version_minor": 0
      },
      "text/plain": [
       "Probe 11/16:   0%|          | 0/1172 [00:00<?, ?it/s]"
      ]
     },
     "metadata": {},
     "output_type": "display_data"
    },
    {
     "name": "stdout",
     "output_type": "stream",
     "text": [
      "Epoch  11/ 16 | Train 2.5063/0.3636 | Val 1.8867/0.6985 | LR 1.25e-03\n"
     ]
    },
    {
     "data": {
      "application/vnd.jupyter.widget-view+json": {
       "model_id": "8827300d018c4279aa51e1e2e8982bf3",
       "version_major": 2,
       "version_minor": 0
      },
      "text/plain": [
       "Probe 12/16:   0%|          | 0/1172 [00:00<?, ?it/s]"
      ]
     },
     "metadata": {},
     "output_type": "display_data"
    },
    {
     "name": "stdout",
     "output_type": "stream",
     "text": [
      "Epoch  12/ 16 | Train 2.4689/0.3796 | Val 1.8450/0.7076 | LR 8.27e-04\n"
     ]
    },
    {
     "data": {
      "application/vnd.jupyter.widget-view+json": {
       "model_id": "a5245b5fdea44a879275ac920bce93a2",
       "version_major": 2,
       "version_minor": 0
      },
      "text/plain": [
       "Probe 13/16:   0%|          | 0/1172 [00:00<?, ?it/s]"
      ]
     },
     "metadata": {},
     "output_type": "display_data"
    },
    {
     "name": "stdout",
     "output_type": "stream",
     "text": [
      "Epoch  13/ 16 | Train 2.4473/0.3576 | Val 1.8451/0.7091 | LR 4.77e-04\n"
     ]
    },
    {
     "data": {
      "application/vnd.jupyter.widget-view+json": {
       "model_id": "af378d38efc14149a40ccea456291331",
       "version_major": 2,
       "version_minor": 0
      },
      "text/plain": [
       "Probe 14/16:   0%|          | 0/1172 [00:00<?, ?it/s]"
      ]
     },
     "metadata": {},
     "output_type": "display_data"
    },
    {
     "name": "stdout",
     "output_type": "stream",
     "text": [
      "Epoch  14/ 16 | Train 2.3701/0.3679 | Val 1.8376/0.7116 | LR 2.16e-04\n"
     ]
    },
    {
     "data": {
      "application/vnd.jupyter.widget-view+json": {
       "model_id": "a6b54df6a2824e5f85925489066aee9e",
       "version_major": 2,
       "version_minor": 0
      },
      "text/plain": [
       "Probe 15/16:   0%|          | 0/1172 [00:00<?, ?it/s]"
      ]
     },
     "metadata": {},
     "output_type": "display_data"
    },
    {
     "name": "stdout",
     "output_type": "stream",
     "text": [
      "Epoch  15/ 16 | Train 2.2919/0.3914 | Val 1.8254/0.7116 | LR 5.46e-05\n"
     ]
    },
    {
     "data": {
      "application/vnd.jupyter.widget-view+json": {
       "model_id": "271f9bf4ba5d47189d68af75bcae2b2e",
       "version_major": 2,
       "version_minor": 0
      },
      "text/plain": [
       "Probe 16/16:   0%|          | 0/1172 [00:00<?, ?it/s]"
      ]
     },
     "metadata": {},
     "output_type": "display_data"
    },
    {
     "name": "stdout",
     "output_type": "stream",
     "text": [
      "Epoch  16/ 16 | Train 2.2986/0.3859 | Val 1.8176/0.7140 | LR 0.00e+00\n"
     ]
    },
    {
     "data": {
      "image/png": "[encoded data removed]",
      "text/plain": [
       "<Figure size 1000x400 with 1 Axes>"
      ]
     },
     "metadata": {},
     "output_type": "display_data"
    },
    {
     "data": {
      "image/png": "[encoded data removed]",
      "text/plain": [
       "<Figure size 1000x400 with 1 Axes>"
      ]
     },
     "metadata": {},
     "output_type": "display_data"
    }
   ],
   "source": [
    "probe = LinearProbe(build_backbone, enc_state_dict, feat_dim, num_classes=num_classes)\n",
    "probe, history = train_probe(probe, cls_train_loader, cls_val_loader, epochs=16, base_lr=5e-3)\n",
    "\n",
    "plt.figure(figsize=(10,4))\n",
    "plt.plot([h[0] for h in history], label='Train loss')\n",
    "plt.plot([h[2] for h in history], label='Val loss')\n",
    "plt.legend(); plt.show()\n",
    "plt.figure(figsize=(10,4))\n",
    "plt.plot([h[1] for h in history], label='Train acc')\n",
    "plt.plot([h[3] for h in history], label='Val acc')\n",
    "plt.legend(); plt.show()\n",
    "\n"
   ]
  },
  {
   "cell_type": "code",
   "execution_count": 11,
   "id": "bc9b6d05",
   "metadata": {},
   "outputs": [
    {
     "name": "stdout",
     "output_type": "stream",
     "text": [
      "Loaded probe head into fine-tune model.\n"
     ]
    },
    {
     "data": {
      "application/vnd.jupyter.widget-view+json": {
       "model_id": "ad8ce154122c40b68acb9ea01ff447e1",
       "version_major": 2,
       "version_minor": 0
      },
      "text/plain": [
       "FT 1/13:   0%|          | 0/1172 [00:00<?, ?it/s]"
      ]
     },
     "metadata": {},
     "output_type": "display_data"
    },
    {
     "name": "stdout",
     "output_type": "stream",
     "text": [
      "Epoch  1/13 | Train 2.4106/0.3691 | Val 1.7288/0.7358 | LR(enc/head) [0.0001, 0.0001, 0.001]\n"
     ]
    },
    {
     "data": {
      "application/vnd.jupyter.widget-view+json": {
       "model_id": "5d52b291b77045acbcce217f112ca40f",
       "version_major": 2,
       "version_minor": 0
      },
      "text/plain": [
       "FT 2/13:   0%|          | 0/1172 [00:00<?, ?it/s]"
      ]
     },
     "metadata": {},
     "output_type": "display_data"
    },
    {
     "name": "stdout",
     "output_type": "stream",
     "text": [
      "Epoch  2/13 | Train 2.2769/0.3808 | Val 1.7040/0.7485 | LR(enc/head) [9.829629131445342e-05, 9.829629131445342e-05, 0.0009829629131445341]\n"
     ]
    },
    {
     "data": {
      "application/vnd.jupyter.widget-view+json": {
       "model_id": "b2b113961a8441a8839d2c5788130e14",
       "version_major": 2,
       "version_minor": 0
      },
      "text/plain": [
       "FT 3/13:   0%|          | 0/1172 [00:00<?, ?it/s]"
      ]
     },
     "metadata": {},
     "output_type": "display_data"
    },
    {
     "name": "stdout",
     "output_type": "stream",
     "text": [
      "Epoch  3/13 | Train 2.1836/0.4142 | Val 1.6525/0.7606 | LR(enc/head) [9.330127018922194e-05, 9.330127018922194e-05, 0.0009330127018922195]\n"
     ]
    },
    {
     "data": {
      "application/vnd.jupyter.widget-view+json": {
       "model_id": "829f547a1a02425f806034a0e0b4e258",
       "version_major": 2,
       "version_minor": 0
      },
      "text/plain": [
       "FT 4/13:   0%|          | 0/1172 [00:00<?, ?it/s]"
      ]
     },
     "metadata": {},
     "output_type": "display_data"
    },
    {
     "name": "stdout",
     "output_type": "stream",
     "text": [
      "Epoch  4/13 | Train 2.1120/0.4155 | Val 1.6307/0.7617 | LR(enc/head) [8.535533905932738e-05, 8.535533905932738e-05, 0.0008535533905932737]\n"
     ]
    },
    {
     "data": {
      "application/vnd.jupyter.widget-view+json": {
       "model_id": "0ece50d7f84e4eda92987af2e1504760",
       "version_major": 2,
       "version_minor": 0
      },
      "text/plain": [
       "FT 5/13:   0%|          | 0/1172 [00:00<?, ?it/s]"
      ]
     },
     "metadata": {},
     "output_type": "display_data"
    },
    {
     "name": "stdout",
     "output_type": "stream",
     "text": [
      "Epoch  5/13 | Train 2.0281/0.4010 | Val 1.6146/0.7671 | LR(enc/head) [7.500000000000001e-05, 7.500000000000001e-05, 0.00075]\n"
     ]
    },
    {
     "data": {
      "application/vnd.jupyter.widget-view+json": {
       "model_id": "9e0e9f42f8c84b1e93d59392da99117e",
       "version_major": 2,
       "version_minor": 0
      },
      "text/plain": [
       "FT 6/13:   0%|          | 0/1172 [00:00<?, ?it/s]"
      ]
     },
     "metadata": {},
     "output_type": "display_data"
    },
    {
     "name": "stdout",
     "output_type": "stream",
     "text": [
      "Epoch  6/13 | Train 1.9616/0.4352 | Val 1.5979/0.7745 | LR(enc/head) [6.294095225512603e-05, 6.294095225512603e-05, 0.0006294095225512603]\n"
     ]
    },
    {
     "data": {
      "application/vnd.jupyter.widget-view+json": {
       "model_id": "eb9e4e3367ad4be3a0525da88c7fac42",
       "version_major": 2,
       "version_minor": 0
      },
      "text/plain": [
       "FT 7/13:   0%|          | 0/1172 [00:00<?, ?it/s]"
      ]
     },
     "metadata": {},
     "output_type": "display_data"
    },
    {
     "name": "stdout",
     "output_type": "stream",
     "text": [
      "Epoch  7/13 | Train 1.9969/0.4235 | Val 1.5860/0.7754 | LR(enc/head) [5e-05, 5e-05, 0.0005]\n"
     ]
    },
    {
     "data": {
      "application/vnd.jupyter.widget-view+json": {
       "model_id": "df8a20547e8b4967aeebc4408d9b8fb4",
       "version_major": 2,
       "version_minor": 0
      },
      "text/plain": [
       "FT 8/13:   0%|          | 0/1172 [00:00<?, ?it/s]"
      ]
     },
     "metadata": {},
     "output_type": "display_data"
    },
    {
     "name": "stdout",
     "output_type": "stream",
     "text": [
      "Epoch  8/13 | Train 1.8792/0.4204 | Val 1.5826/0.7766 | LR(enc/head) [3.705904774487396e-05, 3.705904774487396e-05, 0.0003705904774487396]\n"
     ]
    },
    {
     "data": {
      "application/vnd.jupyter.widget-view+json": {
       "model_id": "54511c245ecf4f9f9bb4f78d07a4ee61",
       "version_major": 2,
       "version_minor": 0
      },
      "text/plain": [
       "FT 9/13:   0%|          | 0/1172 [00:00<?, ?it/s]"
      ]
     },
     "metadata": {},
     "output_type": "display_data"
    },
    {
     "name": "stdout",
     "output_type": "stream",
     "text": [
      "Epoch  9/13 | Train 1.8577/0.4295 | Val 1.5570/0.7855 | LR(enc/head) [2.500000000000001e-05, 2.500000000000001e-05, 0.0002500000000000001]\n"
     ]
    },
    {
     "data": {
      "application/vnd.jupyter.widget-view+json": {
       "model_id": "3d30fb09d8ea4cbbb8d2051419134a07",
       "version_major": 2,
       "version_minor": 0
      },
      "text/plain": [
       "FT 10/13:   0%|          | 0/1172 [00:00<?, ?it/s]"
      ]
     },
     "metadata": {},
     "output_type": "display_data"
    },
    {
     "name": "stdout",
     "output_type": "stream",
     "text": [
      "Epoch 10/13 | Train 1.7881/0.4419 | Val 1.5604/0.7855 | LR(enc/head) [1.4644660940672627e-05, 1.4644660940672627e-05, 0.00014644660940672628]\n"
     ]
    },
    {
     "data": {
      "application/vnd.jupyter.widget-view+json": {
       "model_id": "880a49c14c4643a1b0f18b0ca074ae4d",
       "version_major": 2,
       "version_minor": 0
      },
      "text/plain": [
       "FT 11/13:   0%|          | 0/1172 [00:00<?, ?it/s]"
      ]
     },
     "metadata": {},
     "output_type": "display_data"
    },
    {
     "name": "stdout",
     "output_type": "stream",
     "text": [
      "Epoch 11/13 | Train 1.7708/0.4213 | Val 1.5523/0.7859 | LR(enc/head) [6.698729810778065e-06, 6.698729810778065e-06, 6.698729810778065e-05]\n"
     ]
    },
    {
     "data": {
      "application/vnd.jupyter.widget-view+json": {
       "model_id": "3125f4268df64cf9b8c5e6b5eec35589",
       "version_major": 2,
       "version_minor": 0
      },
      "text/plain": [
       "FT 12/13:   0%|          | 0/1172 [00:00<?, ?it/s]"
      ]
     },
     "metadata": {},
     "output_type": "display_data"
    },
    {
     "name": "stdout",
     "output_type": "stream",
     "text": [
      "Epoch 12/13 | Train 1.7483/0.4492 | Val 1.5505/0.7877 | LR(enc/head) [1.70370868554659e-06, 1.70370868554659e-06, 1.70370868554659e-05]\n"
     ]
    },
    {
     "data": {
      "application/vnd.jupyter.widget-view+json": {
       "model_id": "e31a3e6a1cc844bbb7d85feccb5cdd82",
       "version_major": 2,
       "version_minor": 0
      },
      "text/plain": [
       "FT 13/13:   0%|          | 0/1172 [00:00<?, ?it/s]"
      ]
     },
     "metadata": {},
     "output_type": "display_data"
    },
    {
     "name": "stdout",
     "output_type": "stream",
     "text": [
      "Epoch 13/13 | Train 1.6690/0.4394 | Val 1.5482/0.7881 | LR(enc/head) [0.0, 0.0, 0.0]\n"
     ]
    },
    {
     "data": {
      "image/png": "[encoded data removed]",
      "text/plain": [
       "<Figure size 1000x400 with 1 Axes>"
      ]
     },
     "metadata": {},
     "output_type": "display_data"
    },
    {
     "data": {
      "image/png": "[encoded data removed]",
      "text/plain": [
       "<Figure size 1000x400 with 1 Axes>"
      ]
     },
     "metadata": {},
     "output_type": "display_data"
    }
   ],
   "source": [
    "# start from your best probe head weights\n",
    "ft = ClassifierWithEncoder(build_backbone, enc_state_dict, feat_dim, num_classes)\n",
    "# warm-start head from the trained probe head if you have it:\n",
    "try:\n",
    "    ft.head.load_state_dict(probe.head.state_dict(), strict=True)\n",
    "    print(\"Loaded probe head into fine-tune model.\")\n",
    "except Exception:\n",
    "    pass\n",
    "\n",
    "# unfreeze last 2 blocks; train BN affine but freeze BN running stats (stable for small batches)\n",
    "ft.unfreeze_last_k(k=2, bn_affine=True, bn_stats_train=False)\n",
    "\n",
    "# try 10–15 epochs; head lr 5e-4, encoder lr 5e-5 (10× smaller)\n",
    "ft, ft_hist = fine_tune(\n",
    "    ft, cls_train_loader, cls_val_loader,\n",
    "    epochs=13, lr_head=1e-3, lr_enc=1e-4,\n",
    "    mixup_alpha=0.2, mixup_alpha_end=0.05,   # decay mixup late\n",
    "    cutmix_alpha=1.0, p_cutmix=0.1\n",
    ")\n",
    "\n",
    "plt.figure(figsize=(10,4))\n",
    "plt.plot([h[0] for h in ft_hist], label='Train loss')\n",
    "plt.plot([h[2] for h in ft_hist], label='Val loss')\n",
    "plt.legend(); plt.show()\n",
    "plt.figure(figsize=(10,4))\n",
    "plt.plot([h[1] for h in ft_hist], label='Train acc')\n",
    "plt.plot([h[3] for h in ft_hist], label='Val acc')\n",
    "plt.legend(); plt.show()\n"
   ]
  },
  {
   "cell_type": "code",
   "execution_count": 12,
   "id": "c26750d1",
   "metadata": {},
   "outputs": [
    {
     "data": {
      "application/vnd.jupyter.widget-view+json": {
       "model_id": "be9937d71a4f497daa66ca635bb3df2a",
       "version_major": 2,
       "version_minor": 0
      },
      "text/plain": [
       "FT 1/12:   0%|          | 0/1172 [00:00<?, ?it/s]"
      ]
     },
     "metadata": {},
     "output_type": "display_data"
    },
    {
     "name": "stdout",
     "output_type": "stream",
     "text": [
      "Epoch  1/12 | Train 2.0313/0.4368 | Val 1.5716/0.7797 | LR(enc/head) [5e-05, 5e-05, 0.0005]\n"
     ]
    },
    {
     "data": {
      "application/vnd.jupyter.widget-view+json": {
       "model_id": "970f81cfd54c423c940d30465dde9c22",
       "version_major": 2,
       "version_minor": 0
      },
      "text/plain": [
       "FT 2/12:   0%|          | 0/1172 [00:00<?, ?it/s]"
      ]
     },
     "metadata": {},
     "output_type": "display_data"
    },
    {
     "name": "stdout",
     "output_type": "stream",
     "text": [
      "Epoch  2/12 | Train 2.0255/0.4377 | Val 1.5488/0.7882 | LR(enc/head) [4.898732434036244e-05, 4.898732434036244e-05, 0.0004898732434036243]\n"
     ]
    },
    {
     "data": {
      "application/vnd.jupyter.widget-view+json": {
       "model_id": "db4ebe8d35444e94ae35fcaf442ffa11",
       "version_major": 2,
       "version_minor": 0
      },
      "text/plain": [
       "FT 3/12:   0%|          | 0/1172 [00:00<?, ?it/s]"
      ]
     },
     "metadata": {},
     "output_type": "display_data"
    },
    {
     "name": "stdout",
     "output_type": "stream",
     "text": [
      "Epoch  3/12 | Train 1.9829/0.4134 | Val 1.5512/0.7882 | LR(enc/head) [4.6031338320779534e-05, 4.6031338320779534e-05, 0.0004603133832077953]\n"
     ]
    },
    {
     "data": {
      "application/vnd.jupyter.widget-view+json": {
       "model_id": "2555e3b7c38f47b5b694c29e8ac5411b",
       "version_major": 2,
       "version_minor": 0
      },
      "text/plain": [
       "FT 4/12:   0%|          | 0/1172 [00:00<?, ?it/s]"
      ]
     },
     "metadata": {},
     "output_type": "display_data"
    },
    {
     "name": "stdout",
     "output_type": "stream",
     "text": [
      "Epoch  4/12 | Train 1.9473/0.4407 | Val 1.5426/0.7886 | LR(enc/head) [4.137151834863213e-05, 4.137151834863213e-05, 0.0004137151834863213]\n"
     ]
    },
    {
     "data": {
      "application/vnd.jupyter.widget-view+json": {
       "model_id": "00b57b38d90f4b73923ef6ba1363c77a",
       "version_major": 2,
       "version_minor": 0
      },
      "text/plain": [
       "FT 5/12:   0%|          | 0/1172 [00:00<?, ?it/s]"
      ]
     },
     "metadata": {},
     "output_type": "display_data"
    },
    {
     "name": "stdout",
     "output_type": "stream",
     "text": [
      "Epoch  5/12 | Train 1.9085/0.4569 | Val 1.5301/0.7918 | LR(enc/head) [3.5385375325047166e-05, 3.5385375325047166e-05, 0.00035385375325047166]\n"
     ]
    },
    {
     "data": {
      "application/vnd.jupyter.widget-view+json": {
       "model_id": "f1822a990aec408cabf3ecfd613939a8",
       "version_major": 2,
       "version_minor": 0
      },
      "text/plain": [
       "FT 6/12:   0%|          | 0/1172 [00:00<?, ?it/s]"
      ]
     },
     "metadata": {},
     "output_type": "display_data"
    },
    {
     "name": "stdout",
     "output_type": "stream",
     "text": [
      "Epoch  6/12 | Train 1.8482/0.4385 | Val 1.5291/0.7923 | LR(enc/head) [2.8557870956832132e-05, 2.8557870956832132e-05, 0.00028557870956832135]\n"
     ]
    },
    {
     "data": {
      "application/vnd.jupyter.widget-view+json": {
       "model_id": "b83f425f85f4400697c80132f5f30dfa",
       "version_major": 2,
       "version_minor": 0
      },
      "text/plain": [
       "FT 7/12:   0%|          | 0/1172 [00:00<?, ?it/s]"
      ]
     },
     "metadata": {},
     "output_type": "display_data"
    },
    {
     "name": "stdout",
     "output_type": "stream",
     "text": [
      "Epoch  7/12 | Train 1.7991/0.4433 | Val 1.5371/0.7893 | LR(enc/head) [2.1442129043167874e-05, 2.1442129043167874e-05, 0.00021442129043167875]\n"
     ]
    },
    {
     "data": {
      "application/vnd.jupyter.widget-view+json": {
       "model_id": "a0e04f20dfd54291810f758d843dc842",
       "version_major": 2,
       "version_minor": 0
      },
      "text/plain": [
       "FT 8/12:   0%|          | 0/1172 [00:00<?, ?it/s]"
      ]
     },
     "metadata": {},
     "output_type": "display_data"
    },
    {
     "name": "stdout",
     "output_type": "stream",
     "text": [
      "Epoch  8/12 | Train 1.7334/0.4679 | Val 1.5257/0.7935 | LR(enc/head) [1.4614624674952842e-05, 1.4614624674952842e-05, 0.0001461462467495284]\n"
     ]
    },
    {
     "data": {
      "application/vnd.jupyter.widget-view+json": {
       "model_id": "a0d46d597556416e8e5528d39d240bf1",
       "version_major": 2,
       "version_minor": 0
      },
      "text/plain": [
       "FT 9/12:   0%|          | 0/1172 [00:00<?, ?it/s]"
      ]
     },
     "metadata": {},
     "output_type": "display_data"
    },
    {
     "name": "stdout",
     "output_type": "stream",
     "text": [
      "Epoch  9/12 | Train 1.7364/0.4496 | Val 1.5184/0.7939 | LR(enc/head) [8.628481651367872e-06, 8.628481651367872e-06, 8.628481651367872e-05]\n"
     ]
    },
    {
     "data": {
      "application/vnd.jupyter.widget-view+json": {
       "model_id": "09d2ad217dec45ac86a1ce340af87ecc",
       "version_major": 2,
       "version_minor": 0
      },
      "text/plain": [
       "FT 10/12:   0%|          | 0/1172 [00:00<?, ?it/s]"
      ]
     },
     "metadata": {},
     "output_type": "display_data"
    },
    {
     "name": "stdout",
     "output_type": "stream",
     "text": [
      "Epoch 10/12 | Train 1.7221/0.4938 | Val 1.5203/0.7939 | LR(enc/head) [3.968661679220468e-06, 3.968661679220468e-06, 3.968661679220467e-05]\n"
     ]
    },
    {
     "data": {
      "application/vnd.jupyter.widget-view+json": {
       "model_id": "5aedf0067b514583979c00726fd9fe61",
       "version_major": 2,
       "version_minor": 0
      },
      "text/plain": [
       "FT 11/12:   0%|          | 0/1172 [00:00<?, ?it/s]"
      ]
     },
     "metadata": {},
     "output_type": "display_data"
    },
    {
     "name": "stdout",
     "output_type": "stream",
     "text": [
      "Epoch 11/12 | Train 1.6372/0.4529 | Val 1.5163/0.7953 | LR(enc/head) [1.0126756596375686e-06, 1.0126756596375686e-06, 1.0126756596375685e-05]\n"
     ]
    },
    {
     "data": {
      "application/vnd.jupyter.widget-view+json": {
       "model_id": "9921510dda0d4b10bc9b9ca54c87a9b3",
       "version_major": 2,
       "version_minor": 0
      },
      "text/plain": [
       "FT 12/12:   0%|          | 0/1172 [00:00<?, ?it/s]"
      ]
     },
     "metadata": {},
     "output_type": "display_data"
    },
    {
     "name": "stdout",
     "output_type": "stream",
     "text": [
      "Epoch 12/12 | Train 1.5812/0.4691 | Val 1.5202/0.7940 | LR(enc/head) [0.0, 0.0, 0.0]\n",
      "Val (A): {'top1': 0.7991803278688525, 'top5': 0.9302638319672131, 'f1': 0.8032674241347576, 'precision': 0.8151733556530066, 'recall': 0.7991803278688525}\n"
     ]
    },
    {
     "data": {
      "image/png": "[encoded data removed]",
      "text/plain": [
       "<Figure size 1000x400 with 1 Axes>"
      ]
     },
     "metadata": {},
     "output_type": "display_data"
    },
    {
     "data": {
      "image/png": "[encoded data removed]",
      "text/plain": [
       "<Figure size 1000x400 with 1 Axes>"
      ]
     },
     "metadata": {},
     "output_type": "display_data"
    }
   ],
   "source": [
    "# continue from your 'ft' model after loading probe head\n",
    "ft.unfreeze_last_k(k=3, bn_affine=True, bn_stats_train=False)\n",
    "\n",
    "ft, histA = fine_tune(\n",
    "    ft, cls_train_loader, cls_val_loader,\n",
    "    epochs=12,\n",
    "    lr_head=5e-4, lr_enc=5e-5,\n",
    "    mixup_alpha=0.2, mixup_alpha_end=0.05,   # decay mixup late\n",
    "    cutmix_alpha=1.0, p_cutmix=0.1\n",
    ")\n",
    "\n",
    "valA = evaluate_classifier(ft, cls_val_loader, classes=[idx2label[i] for i in range(num_classes)], tta_hflip=True)\n",
    "print(\"Val (A):\", valA)\n",
    "\n",
    "plt.figure(figsize=(10,4))\n",
    "plt.plot([h[0] for h in histA], label='Train loss')\n",
    "plt.plot([h[2] for h in histA], label='Val loss')\n",
    "plt.legend(); plt.show()\n",
    "plt.figure(figsize=(10,4))\n",
    "plt.plot([h[1] for h in histA], label='Train acc')\n",
    "plt.plot([h[3] for h in histA], label='Val acc')\n",
    "plt.legend(); plt.show()\n"
   ]
  },
  {
   "cell_type": "code",
   "execution_count": 15,
   "id": "50edc117",
   "metadata": {},
   "outputs": [
    {
     "data": {
      "application/vnd.jupyter.widget-view+json": {
       "model_id": "6bf60910342d4e5285a4f035c4227c43",
       "version_major": 2,
       "version_minor": 0
      },
      "text/plain": [
       "FT 1/10:   0%|          | 0/1172 [00:00<?, ?it/s]"
      ]
     },
     "metadata": {},
     "output_type": "display_data"
    },
    {
     "name": "stdout",
     "output_type": "stream",
     "text": [
      "Epoch  1/10 | Train 1.9719/0.4642 | Val 1.5620/0.7862 | LR(enc/head) [9e-05, 9e-05, 0.0009]\n"
     ]
    },
    {
     "data": {
      "application/vnd.jupyter.widget-view+json": {
       "model_id": "a267d6e467c54d6987ba227aa2309262",
       "version_major": 2,
       "version_minor": 0
      },
      "text/plain": [
       "FT 2/10:   0%|          | 0/1172 [00:00<?, ?it/s]"
      ]
     },
     "metadata": {},
     "output_type": "display_data"
    },
    {
     "name": "stdout",
     "output_type": "stream",
     "text": [
      "Epoch  2/10 | Train 1.9932/0.4354 | Val 1.5308/0.7919 | LR(enc/head) [8.728616793536588e-05, 8.728616793536588e-05, 0.0008728616793536588]\n"
     ]
    },
    {
     "data": {
      "application/vnd.jupyter.widget-view+json": {
       "model_id": "474a628b0575403ba3ff7ea2787f3011",
       "version_major": 2,
       "version_minor": 0
      },
      "text/plain": [
       "FT 3/10:   0%|          | 0/1172 [00:00<?, ?it/s]"
      ]
     },
     "metadata": {},
     "output_type": "display_data"
    },
    {
     "name": "stdout",
     "output_type": "stream",
     "text": [
      "Epoch  3/10 | Train 1.9158/0.4578 | Val 1.5181/0.7965 | LR(enc/head) [7.947199994035401e-05, 7.947199994035401e-05, 0.00079471999940354]\n"
     ]
    },
    {
     "data": {
      "application/vnd.jupyter.widget-view+json": {
       "model_id": "4dba4d84e2e14d40afd39973c72983d6",
       "version_major": 2,
       "version_minor": 0
      },
      "text/plain": [
       "FT 4/10:   0%|          | 0/1172 [00:00<?, ?it/s]"
      ]
     },
     "metadata": {},
     "output_type": "display_data"
    },
    {
     "name": "stdout",
     "output_type": "stream",
     "text": [
      "Epoch  4/10 | Train 1.8924/0.4637 | Val 1.5229/0.7943 | LR(enc/head) [6.75e-05, 6.75e-05, 0.000675]\n"
     ]
    },
    {
     "data": {
      "application/vnd.jupyter.widget-view+json": {
       "model_id": "59230487cd134de8b81f4ce32c51336e",
       "version_major": 2,
       "version_minor": 0
      },
      "text/plain": [
       "FT 5/10:   0%|          | 0/1172 [00:00<?, ?it/s]"
      ]
     },
     "metadata": {},
     "output_type": "display_data"
    },
    {
     "name": "stdout",
     "output_type": "stream",
     "text": [
      "Epoch  5/10 | Train 1.8450/0.4727 | Val 1.5035/0.8039 | LR(enc/head) [5.2814167995011876e-05, 5.2814167995011876e-05, 0.0005281416799501188]\n"
     ]
    },
    {
     "data": {
      "application/vnd.jupyter.widget-view+json": {
       "model_id": "4053eff70f1c46b6ac692657211ae4e5",
       "version_major": 2,
       "version_minor": 0
      },
      "text/plain": [
       "FT 6/10:   0%|          | 0/1172 [00:00<?, ?it/s]"
      ]
     },
     "metadata": {},
     "output_type": "display_data"
    },
    {
     "name": "stdout",
     "output_type": "stream",
     "text": [
      "Epoch  6/10 | Train 1.7511/0.4802 | Val 1.5003/0.8034 | LR(enc/head) [3.7185832004988136e-05, 3.7185832004988136e-05, 0.0003718583200498814]\n"
     ]
    },
    {
     "data": {
      "application/vnd.jupyter.widget-view+json": {
       "model_id": "47048a825bea4e6ea575ce57fed55e6c",
       "version_major": 2,
       "version_minor": 0
      },
      "text/plain": [
       "FT 7/10:   0%|          | 0/1172 [00:00<?, ?it/s]"
      ]
     },
     "metadata": {},
     "output_type": "display_data"
    },
    {
     "name": "stdout",
     "output_type": "stream",
     "text": [
      "Epoch  7/10 | Train 1.7019/0.4862 | Val 1.4971/0.8036 | LR(enc/head) [2.250000000000001e-05, 2.250000000000001e-05, 0.0002250000000000001]\n"
     ]
    },
    {
     "data": {
      "application/vnd.jupyter.widget-view+json": {
       "model_id": "d6c28306d7d945b5985af741a70e2cc0",
       "version_major": 2,
       "version_minor": 0
      },
      "text/plain": [
       "FT 8/10:   0%|          | 0/1172 [00:00<?, ?it/s]"
      ]
     },
     "metadata": {},
     "output_type": "display_data"
    },
    {
     "name": "stdout",
     "output_type": "stream",
     "text": [
      "Epoch  8/10 | Train 1.6420/0.4802 | Val 1.4913/0.8038 | LR(enc/head) [1.0528000059645995e-05, 1.0528000059645995e-05, 0.00010528000059645994]\n"
     ]
    },
    {
     "data": {
      "application/vnd.jupyter.widget-view+json": {
       "model_id": "0c7cb7d4007a4045bb527e7743b611c5",
       "version_major": 2,
       "version_minor": 0
      },
      "text/plain": [
       "FT 9/10:   0%|          | 0/1172 [00:00<?, ?it/s]"
      ]
     },
     "metadata": {},
     "output_type": "display_data"
    },
    {
     "name": "stdout",
     "output_type": "stream",
     "text": [
      "Epoch  9/10 | Train 1.5762/0.4794 | Val 1.4907/0.8065 | LR(enc/head) [2.7138320646341257e-06, 2.7138320646341257e-06, 2.7138320646341256e-05]\n"
     ]
    },
    {
     "data": {
      "application/vnd.jupyter.widget-view+json": {
       "model_id": "586f121448da4e83aec51da4a16bd378",
       "version_major": 2,
       "version_minor": 0
      },
      "text/plain": [
       "FT 10/10:   0%|          | 0/1172 [00:00<?, ?it/s]"
      ]
     },
     "metadata": {},
     "output_type": "display_data"
    },
    {
     "name": "stdout",
     "output_type": "stream",
     "text": [
      "Epoch 10/10 | Train 1.5766/0.4884 | Val 1.4898/0.8042 | LR(enc/head) [0.0, 0.0, 0.0]\n",
      "Val (B): {'top1': 0.809234118852459, 'top5': 0.934234118852459, 'f1': 0.8123490734744802, 'precision': 0.8225755057486756, 'recall': 0.809234118852459}\n",
      "Test (B): {'top1': 0.8077366465992059, 'top5': 0.9319200717304983, 'f1': 0.8113468493423692, 'precision': 0.822904249726467, 'recall': 0.8077366465992059}\n"
     ]
    },
    {
     "data": {
      "image/png": "[encoded data removed]",
      "text/plain": [
       "<Figure size 1000x400 with 1 Axes>"
      ]
     },
     "metadata": {},
     "output_type": "display_data"
    },
    {
     "data": {
      "image/png": "[encoded data removed]",
      "text/plain": [
       "<Figure size 1000x400 with 1 Axes>"
      ]
     },
     "metadata": {},
     "output_type": "display_data"
    }
   ],
   "source": [
    "ft.unfreeze_all(bn_affine=True, bn_stats_train=False)\n",
    "\n",
    "ft, histB = fine_tune(\n",
    "    ft, cls_train_loader, cls_val_loader,\n",
    "    epochs=10,\n",
    "    lr_head=9e-4, lr_enc=9e-5,               # 10× ratio stays\n",
    "    mixup_alpha=0.15, mixup_alpha_end=0.0,   # turn off by the end to sharpen\n",
    "    cutmix_alpha=1.0, p_cutmix=0.20\n",
    ")\n",
    "\n",
    "valB  = evaluate_classifier(ft, cls_val_loader,  classes=[idx2label[i] for i in range(num_classes)], tta_hflip=True)\n",
    "testB = evaluate_classifier(ft, cls_test_loader, classes=[idx2label[i] for i in range(num_classes)], tta_hflip=True)\n",
    "print(\"Val (B):\",  valB)\n",
    "print(\"Test (B):\", testB)\n",
    "\n",
    "plt.figure(figsize=(10,4))\n",
    "plt.plot([h[0] for h in histB], label='Train loss')\n",
    "plt.plot([h[2] for h in histB], label='Val loss')\n",
    "plt.legend(); plt.show()\n",
    "plt.figure(figsize=(10,4))\n",
    "plt.plot([h[1] for h in histB], label='Train acc')\n",
    "plt.plot([h[3] for h in histB], label='Val acc')\n",
    "plt.legend(); plt.show()\n"
   ]
  },
  {
   "cell_type": "code",
   "execution_count": 16,
   "id": "a3e1c7c0",
   "metadata": {},
   "outputs": [
    {
     "name": "stdout",
     "output_type": "stream",
     "text": [
      "Val: {'top1': 0.809234118852459, 'top5': 0.934234118852459, 'f1': 0.8123490734744802, 'precision': 0.8225755057486756, 'recall': 0.809234118852459}\n",
      "Test: {'top1': 0.8077366465992059, 'top5': 0.9319200717304983, 'f1': 0.8113468493423692, 'precision': 0.822904249726467, 'recall': 0.8077366465992059}\n"
     ]
    }
   ],
   "source": [
    "classes = [idx2label[i] for i in range(num_classes)]\n",
    "val_metrics  = evaluate_classifier(ft, cls_val_loader,  classes)\n",
    "test_metrics = evaluate_classifier(ft, cls_test_loader, classes)\n",
    "print(\"Val:\",  val_metrics)\n",
    "print(\"Test:\", test_metrics)"
   ]
  },
  {
   "cell_type": "code",
   "execution_count": 17,
   "id": "6d7af209",
   "metadata": {},
   "outputs": [],
   "source": [
    "ft_sd = {k: v.detach().cpu() for k, v in ft.state_dict().items()}\n",
    "torch.save(ft_sd, \"bird2vec2label.pth\")"
   ]
  },
  {
   "cell_type": "code",
   "execution_count": null,
   "id": "01a9b6ab",
   "metadata": {},
   "outputs": [],
   "source": []
  }
 ],
 "metadata": {
  "kernelspec": {
   "display_name": "cpsc330",
   "language": "python",
   "name": "python3"
  },
  "language_info": {
   "codemirror_mode": {
    "name": "ipython",
    "version": 3
   },
   "file_extension": ".py",
   "mimetype": "text/x-python",
   "name": "python",
   "nbconvert_exporter": "python",
   "pygments_lexer": "ipython3",
   "version": "3.10.0"
  }
 },
 "nbformat": 4,
 "nbformat_minor": 5
}
