{
 "cells": [
  {
   "cell_type": "markdown",
   "id": "1ead40ea",
   "metadata": {},
   "source": [
    "# This is a baseline, Do not run, it will not execute properly"
   ]
  },
  {
   "cell_type": "code",
   "execution_count": 1,
   "id": "94fc7169",
   "metadata": {},
   "outputs": [],
   "source": [
    "import torch\n",
    "import torch.nn as nn\n",
    "\n",
    "import torch.optim as optim\n",
    "from torch.optim.lr_scheduler import ReduceLROnPlateau  # add import\n",
    "\n",
    "from torchvision import transforms, datasets\n",
    "from torchvision.transforms import InterpolationMode\n",
    "from torchvision.transforms import v2 as T\n",
    "\n",
    "from torch.utils.data import DataLoader, Dataset, WeightedRandomSampler\n",
    "\n",
    "from ShroomDataset import ShroomDataset\n",
    "\n",
    "from sklearn.metrics import accuracy_score, f1_score, precision_score, recall_score\n",
    "from sklearn.metrics import classification_report, top_k_accuracy_score\n",
    "\n",
    "import numpy as np\n",
    "import matplotlib.pyplot as plt\n",
    "\n",
    "import time\n",
    "import pandas as pd\n",
    "from PIL import Image, ImageOps\n",
    "import os\n",
    "from tqdm.auto import tqdm\n",
    "\n",
    "data_path = './data/'\n",
    "\n",
    "train_meta = pd.read_csv(os.path.join(data_path, 'train.csv'))#.iloc[:1000]\n",
    "val_meta = pd.read_csv(os.path.join(data_path, 'val.csv'))\n",
    "test_meta = pd.read_csv(os.path.join(data_path, 'test.csv'))\n",
    "\n",
    "# val_meta = train_meta\n",
    "# test_meta = train_meta\n"
   ]
  },
  {
   "cell_type": "code",
   "execution_count": 2,
   "id": "0ffdcc37",
   "metadata": {},
   "outputs": [],
   "source": [
    "# class ShroomDataset(Dataset):\n",
    "\n",
    "#     def __init__(self, df, base_path = './data/', transform = None, label2idx = None):\n",
    "#         self.df = df\n",
    "#         self.base_path = base_path\n",
    "#         self.transform = transform\n",
    "\n",
    "#         if label2idx is None:\n",
    "#             unique = sorted(self.df['label'].unique())\n",
    "#             self.label2idx = {label : idx for idx, label in enumerate(unique)}\n",
    "#         else:\n",
    "#             self.label2idx = label2idx\n",
    "\n",
    "#     def __len__(self):\n",
    "#         return len(self.df)\n",
    "    \n",
    "#     def __getitem__(self, index):\n",
    "        \n",
    "#         row  =  self.df.iloc[index]\n",
    "\n",
    "#         img_path = self.base_path + row['image_path']\n",
    "#         img = Image.open(img_path)\n",
    "#         img = ImageOps.exif_transpose(img)       # handle camera rotation\n",
    "#         if img.mode != 'RGB':                    # <- key line\n",
    "#             img = img.convert('RGB')\n",
    "\n",
    "#         if self.transform:\n",
    "#             img = self.transform(img)\n",
    "        \n",
    "#         label = self.label2idx[row['label']]\n",
    "\n",
    "#         return img, label\n",
    "    \n",
    "\n"
   ]
  },
  {
   "cell_type": "code",
   "execution_count": null,
   "id": "a901dbd3",
   "metadata": {},
   "outputs": [
    {
     "name": "stdout",
     "output_type": "stream",
     "text": [
      "# classes: 169\n"
     ]
    }
   ],
   "source": [
    "\n",
    "IMG_SIZE = 224 # im doing the same size as imageNET cause why not\n",
    "\n",
    "mean = (0.485, 0.456, 0.406)  # these are just imagenet stats,\n",
    "# but i should get the actual dataset stats, for this version it doesnt really matter\n",
    "# cause this is just a CNN, no pretraining, so idc\n",
    "std  = (0.229, 0.224, 0.225)\n",
    "\n",
    "\n",
    "# make the transforms for training and validation\n",
    "# we want the train images to be really hard to classify and when we give \n",
    "# the model the validation images, they should be easier to classify, so will lead to less overfitting?\n",
    "train_tf = T.Compose([\n",
    "    T.RandomResizedCrop(IMG_SIZE, scale=(0.75, 1.0), ratio=(0.8, 1.25), antialias=True),\n",
    "    T.RandomHorizontalFlip(0.5),\n",
    "    T.RandomApply([T.ColorJitter(0.15,0.15,0.15,0.05)], p=0.3),\n",
    "    T.RandomApply([T.RandomRotation(10)], p=0.25),\n",
    "    T.ToDtype(torch.float32, scale=True),\n",
    "    T.Normalize(mean, std),\n",
    "])\n",
    "\n",
    "val_tf = T.Compose([\n",
    "    T.Resize(IMG_SIZE, antialias=True),\n",
    "    T.CenterCrop(IMG_SIZE),\n",
    "    T.ToDtype(torch.float32, scale=True),\n",
    "    T.Normalize(mean, std),\n",
    "])\n",
    "\n",
    "# make dataset opjects with the transforms\n",
    "train_ds = ShroomDataset(train_meta, data_path, transform=train_tf)\n",
    "val_ds   = ShroomDataset(val_meta,   data_path, transform=val_tf, label2idx=train_ds.label2idx)\n",
    "test_ds  = ShroomDataset(test_meta,  data_path, transform=val_tf, label2idx=train_ds.label2idx)\n",
    "\n",
    "# calculate weights for the sampler\n",
    "num_classes = len(train_ds.label2idx)\n",
    "train_labels = np.asarray(train_ds.labels, dtype=np.int64)\n",
    "idx2label = {v: k for k,v in train_ds.label2idx.items()}\n",
    "# frequency-based weights (inverse freq)\n",
    "counts = np.bincount(train_labels, minlength=num_classes)\n",
    "alpha = 0.5  # try 0.3–0.7\n",
    "class_w = (np.maximum(counts, 1) ** -alpha)\n",
    "sample_w = class_w[train_labels]\n",
    "\n",
    "# draw 100k samples per epoch with replacement\n",
    "samples_per_epoch = 200_000\n",
    "sampler = WeightedRandomSampler(weights=torch.DoubleTensor(sample_w),\n",
    "                                num_samples=samples_per_epoch,\n",
    "                                replacement=True)\n",
    "\n",
    "\n",
    "\n",
    "\n",
    "print(f\"# classes: {num_classes}\")\n",
    "\n",
    "# this part it very machine dependent, \n",
    "# there are some reduncencies cause i was switching from MPS to CUDA to MPS frequently\n",
    "BATCH = 64\n",
    "NUM_WORKERS = 6\n",
    "\n",
    "train_loader = DataLoader(\n",
    "    train_ds, batch_size=BATCH, sampler=sampler,\n",
    "    num_workers=NUM_WORKERS, persistent_workers=True, pin_memory=False, prefetch_factor=4\n",
    ")\n",
    "val_loader = DataLoader(\n",
    "    val_ds, batch_size=BATCH, shuffle=False,\n",
    "    num_workers=NUM_WORKERS, persistent_workers=True, pin_memory=False, prefetch_factor=4\n",
    ")\n",
    "test_loader = DataLoader(\n",
    "    test_ds, batch_size=BATCH, shuffle=False,\n",
    "    num_workers=NUM_WORKERS, persistent_workers=True, pin_memory=False, prefetch_factor=4\n",
    ")\n"
   ]
  },
  {
   "cell_type": "code",
   "execution_count": null,
   "id": "d7efdeb0",
   "metadata": {},
   "outputs": [],
   "source": [
    "\n",
    "# class SEBlock(nn.Module):\n",
    "#     \"\"\"Squeeze-and-Excitation block using 1×1 convolutions for efficiency.\"\"\"\n",
    "#     def __init__(self, channels, reduction=16):\n",
    "#         super().__init__()\n",
    "#         self.avg_pool = nn.AdaptiveAvgPool2d(1)\n",
    "#         self.fc = nn.Sequential(\n",
    "#             nn.Conv2d(channels, channels // reduction, 1, bias=False),\n",
    "#             nn.GELU(),\n",
    "#             nn.Conv2d(channels // reduction, channels, 1, bias=False),\n",
    "#             nn.Sigmoid()\n",
    "#         )\n",
    "\n",
    "#     def forward(self, x):\n",
    "#         # Squeeze: global spatial info\n",
    "#         y = self.avg_pool(x)\n",
    "#         # Excitation & scale\n",
    "#         y = self.fc(y)\n",
    "#         return x * y\n",
    "\n",
    "\n",
    "# class CBAM(nn.Module):\n",
    "#     \"\"\"Convolutional Block Attention Module (CBAM) with streamlined operations.\"\"\"\n",
    "#     def __init__(self, channels, reduction=16, kernel_size=5):\n",
    "#         super().__init__()\n",
    "#         # Channel attention\n",
    "#         self.channel_attn = nn.Sequential(\n",
    "#             nn.AdaptiveAvgPool2d(1),\n",
    "#             nn.Conv2d(channels, channels // reduction, 1, bias=False),\n",
    "#             nn.BatchNorm2d(channels // reduction),\n",
    "#             nn.GELU(),\n",
    "#             nn.Dropout(0.2),\n",
    "#             nn.Conv2d(channels // reduction, channels, 1, bias=False),\n",
    "#             nn.Sigmoid()\n",
    "#         )\n",
    "#         # Spatial attention\n",
    "#         self.spatial_attn = nn.Sequential(\n",
    "#             nn.Conv2d(2, 1, kernel_size, padding=kernel_size // 2, bias=False),\n",
    "#             nn.Sigmoid()\n",
    "#         )\n",
    "\n",
    "#     def forward(self, x):\n",
    "#         # Channel attention: refine channel weights\n",
    "#         ca = self.channel_attn(x)\n",
    "#         x = x * ca\n",
    "\n",
    "#         # Spatial attention: refine spatial focus\n",
    "#         max_pool, _ = x.max(dim=1, keepdim=True)\n",
    "#         avg_pool = x.mean(dim=1, keepdim=True)\n",
    "#         sa = self.spatial_attn(torch.cat([max_pool, avg_pool], dim=1))\n",
    "#         return x * sa\n",
    "\n",
    "\n",
    "# class ResidualBlock(nn.Module):\n",
    "#     def __init__(self, channels, use_se=False, reduction=16):\n",
    "#         super().__init__()\n",
    "#         self.use_se = use_se\n",
    "#         self.conv1 = nn.Conv2d(channels, channels, 3, padding=1, bias=False)\n",
    "#         self.bn1   = nn.BatchNorm2d(channels)\n",
    "#         self.conv2 = nn.Conv2d(channels, channels, 3, padding=1, bias=False)\n",
    "#         self.bn2   = nn.BatchNorm2d(channels)\n",
    "#         if use_se:\n",
    "#             self.se = SEBlock(channels, reduction)\n",
    "#         self.act = nn.GELU()\n",
    "#     def forward(self, x):\n",
    "#         out = self.act(self.bn1(self.conv1(x)))\n",
    "#         out = self.bn2(self.conv2(out))\n",
    "#         if self.use_se:\n",
    "#             out = self.se(out)\n",
    "#         return self.act(x + out)\n",
    "\n",
    "\n",
    "\n",
    "# class ConvAttnBlock(nn.Module):\n",
    "#     \"\"\"\n",
    "#     Modular conv block:\n",
    "#       1) Conv → BN → GELU\n",
    "#       2) Optional CBAM attention\n",
    "#       3) Optional ResidualBlock (with SE)\n",
    "#     \"\"\"\n",
    "#     def __init__(self, in_channels, out_channels,\n",
    "#                  use_cbam=False, use_res=False, use_se=False):\n",
    "#         super().__init__()\n",
    "#         self.conv = nn.Sequential(\n",
    "#             nn.Conv2d(in_channels, out_channels, 3, padding=1, bias=False),\n",
    "#             nn.BatchNorm2d(out_channels),\n",
    "#             nn.GELU(),\n",
    "#             nn.Dropout(0.3)\n",
    "#         )\n",
    "#         self.attn = CBAM(out_channels) if use_cbam else nn.Identity()\n",
    "#         self.res  = ResidualBlock(out_channels, use_se=use_se) if use_res else nn.Identity()\n",
    "\n",
    "#     def forward(self, x):\n",
    "#         x = self.conv(x)\n",
    "#         x = self.attn(x)\n",
    "#         x = self.res(x)\n",
    "#         return x\n",
    "\n",
    "\n",
    "# class ShroomCNNAttentive(nn.Module):\n",
    "#     def __init__(self, in_ch=3, block_cfgs=None,\n",
    "#                  mlp_units=(512,), num_classes=162):\n",
    "#         super().__init__()\n",
    "        \n",
    "#         self.stem = nn.Sequential(\n",
    "#             nn.Conv2d(in_ch, 32, kernel_size=3, stride=2, padding=1, bias=False),  # down to 192×192\n",
    "#             nn.BatchNorm2d(32),\n",
    "#             nn.GELU(),\n",
    "#             nn.Conv2d(32, 64, kernel_size=3, stride=1, padding=1, bias=False),\n",
    "#             nn.BatchNorm2d(64),\n",
    "#             nn.GELU(),\n",
    "#         )\n",
    "#         layers, ch = [], in_ch\n",
    "#         ch = 64\n",
    "#         for out_ch, do_pool, cbam, res, se in block_cfgs:\n",
    "#             layers.append(ConvAttnBlock(ch, out_ch,\n",
    "#                                        use_cbam=cbam,\n",
    "#                                        use_res=res,\n",
    "#                                        use_se=se))\n",
    "#             if do_pool:\n",
    "#                 # stride-2 conv instead of MaxPool for more capacity\n",
    "#                 layers.append(nn.Conv2d(out_ch, out_ch, kernel_size=3, stride=2, padding=1, bias=False))\n",
    "#                 layers.append(nn.BatchNorm2d(out_ch))\n",
    "#                 layers.append(nn.GELU())\n",
    "#             ch = out_ch\n",
    "#         self.model       = nn.Sequential(*layers)\n",
    "#         self.global_pool = nn.AdaptiveAvgPool2d(1)\n",
    "\n",
    "#         # classifier\n",
    "#         mlp = []\n",
    "#         in_feat = ch\n",
    "#         for u in mlp_units:\n",
    "#             mlp += [nn.Linear(in_feat, u),\n",
    "#                     nn.BatchNorm1d(u),\n",
    "#                     nn.GELU(),\n",
    "#                     nn.Dropout(0.4)]\n",
    "#             in_feat = u\n",
    "#         mlp.append(nn.Linear(in_feat, num_classes))\n",
    "#         self.classifier = nn.Sequential(*mlp)\n",
    "\n",
    "#         self.apply(self._init_weights)\n",
    "#         self.name = 'Attentive CNN'\n",
    "    \n",
    "#     @staticmethod\n",
    "#     def _init_weights(m):\n",
    "#         if isinstance(m, (nn.Conv2d, nn.Linear)):\n",
    "#             nn.init.kaiming_normal_(m.weight, nonlinearity='relu')\n",
    "#             if getattr(m, 'bias', None) is not None: nn.init.zeros_(m.bias)\n",
    "#         if isinstance(m, (nn.BatchNorm2d, nn.BatchNorm1d)):\n",
    "#             nn.init.ones_(m.weight); nn.init.zeros_(m.bias)\n",
    "#     def forward(self, x):\n",
    "#         x = self.stem(x)\n",
    "#         x = self.model(x)\n",
    "#         x = self.global_pool(x).view(x.size(0), -1)\n",
    "#         return self.classifier(x)\n",
    "    \n",
    "from ShroomCNN import ShroomCNNAttentive\n",
    "\n",
    "blocks = [\n",
    "    (64,   True,  False, True,  True),   # SE only\n",
    "    (128,  True,  False, True,  True),\n",
    "    (256,  True,  True,  True,  True),   # CBAM only here\n",
    "    (320,  True,  False, True,  True),\n",
    "]\n",
    "# add more models to compare here\n",
    "models = { 'attentive': ShroomCNNAttentive(in_ch=3, block_cfgs=blocks,\n",
    "                    mlp_units=[1024, 512], num_classes=num_classes)}"
   ]
  },
  {
   "cell_type": "code",
   "execution_count": null,
   "id": "09ff40b6",
   "metadata": {},
   "outputs": [],
   "source": [
    "\n",
    "class SAM(torch.optim.Optimizer):\n",
    "    \"\"\"\n",
    "    Sharpness-Aware Minimization (SAM) optimizer wrapper.\n",
    "    Wraps any base optimizer (e.g. SGD or AdamW) to perform the two-step SAM update.\n",
    "    \"\"\"\n",
    "\n",
    "    def __init__(self, params, base_optimizer, rho=0.05, **kwargs):\n",
    "        \"\"\"\n",
    "        params         : iterable of parameters to optimize\n",
    "        base_optimizer : torch.optim.Optimizer class (not instance), e.g. torch.optim.SGD\n",
    "        rho            : SAM neighborhood size\n",
    "        kwargs         : arguments for the base optimizer (lr, momentum, weight_decay, etc.)\n",
    "        \"\"\"\n",
    "        assert rho >= 0.0, \"rho must be non-negative\"\n",
    "        defaults = dict(rho=rho, **kwargs)\n",
    "        super().__init__(params, defaults)\n",
    "        # instantiate your base optimizer with the same param groups\n",
    "        self.base_optimizer = base_optimizer(self.param_groups, **kwargs)\n",
    "\n",
    "    @torch.no_grad()\n",
    "    def first_step(self, zero_grad=True):\n",
    "        \"\"\"\n",
    "        1) Ascent step: move to the worst‐case neighbor w + ε\n",
    "        \"\"\"\n",
    "        # 1a) Compute the L2 norm of all gradients\n",
    "        grad_norm = torch.norm(\n",
    "            torch.stack([\n",
    "                p.grad.norm(p=2)\n",
    "                for group in self.param_groups for p in group['params']\n",
    "                if p.grad is not None\n",
    "            ]),\n",
    "            p=2\n",
    "        )\n",
    "        scale = self.param_groups[0]['rho'] / (grad_norm + 1e-12)\n",
    "\n",
    "        # 1b) Perturb each parameter by ε = scale * grad\n",
    "        for group in self.param_groups:\n",
    "            for p in group['params']:\n",
    "                if p.grad is None:\n",
    "                    continue\n",
    "                e_w = p.grad * scale.to(p)\n",
    "                p.add_(e_w)                  # w = w + ε\n",
    "                self.state[p]['eps'] = e_w   # store ε for the second step\n",
    "\n",
    "        if zero_grad:\n",
    "            self.zero_grad()\n",
    "\n",
    "    @torch.no_grad()\n",
    "    def second_step(self, zero_grad=True):\n",
    "        \"\"\"\n",
    "        2) Descent step: take an optimizer step from the perturbed weights,\n",
    "           then restore w ← w + ε − ε = the new w.\n",
    "        \"\"\"\n",
    "        # 2a) descent on the perturbed weights\n",
    "        self.base_optimizer.step()\n",
    "\n",
    "        # 2b) subtract ε to return to the updated original weights\n",
    "        for group in self.param_groups:\n",
    "            for p in group['params']:\n",
    "                eps = self.state[p].get('eps')\n",
    "                if eps is None:\n",
    "                    continue\n",
    "                p.sub_(eps)\n",
    "\n",
    "        if zero_grad:\n",
    "            self.zero_grad()\n",
    "\n",
    "    def step(self, closure=None):\n",
    "        \"\"\"\n",
    "        We don’t use this—call first_step() and second_step() explicitly.\n",
    "        \"\"\"\n",
    "        raise NotImplementedError(\"Use first_step() and second_step() instead\")"
   ]
  },
  {
   "cell_type": "code",
   "execution_count": 6,
   "id": "3aef6f52",
   "metadata": {},
   "outputs": [],
   "source": [
    "def mixup_batch(x, y, alpha=0.2):\n",
    "    if alpha <= 0: return x, y, 1.0, y\n",
    "    lam = np.random.beta(alpha, alpha)\n",
    "    idx = torch.randperm(x.size(0), device=x.device)\n",
    "    x_m = lam * x + (1 - lam) * x[idx]\n",
    "    y_a, y_b = y, y[idx]\n",
    "    return x_m, y_a, lam, y_b\n",
    "\n",
    "def train(model,\n",
    "          train_loader,\n",
    "          val_loader,\n",
    "          epochs: int = 50,\n",
    "          lr: float = 1e-3,\n",
    "          weight_decay: float = 5e-4):\n",
    "    \"\"\"\n",
    "    Train `model` with SAM, logging per-epoch loss & accuracy.\n",
    "    Returns: (train_loss_hist, train_acc_hist, val_loss_hist, val_acc_hist)\n",
    "    \"\"\"\n",
    "    # 1) Device setup\n",
    "    device = 'mps' if torch.backends.mps.is_available() else \\\n",
    "             'cuda' if torch.cuda.is_available() else 'cpu'\n",
    "    print(f\"[Training] using device = {device}\")\n",
    "    model.to(device)\n",
    "    best_loss = float('inf'); best_sd = None\n",
    "\n",
    "    # 2) Loss, optimizer, scheduler\n",
    "    loss_fn = nn.CrossEntropyLoss(label_smoothing=0.1)\n",
    "    optimizer = optim.AdamW(\n",
    "        model.parameters(),\n",
    "        lr=lr,\n",
    "        weight_decay=weight_decay\n",
    "    )\n",
    "\n",
    "\n",
    "    scheduler = ReduceLROnPlateau(\n",
    "        optimizer,   # <- important with SAM\n",
    "        mode='min',\n",
    "        factor=0.1,                 # LR *= 0.5  (try 0.2–0.5)\n",
    "        patience=3,                 # epochs with no val improvement before reducing\n",
    "        threshold=1e-3,             # “min improvement” to count as progress\n",
    "        cooldown=0,\n",
    "        min_lr=1e-6\n",
    "    )\n",
    "\n",
    "    # 3) History buffers\n",
    "    train_loss_hist, train_acc_hist = [], []\n",
    "    val_loss_hist,   val_acc_hist   = [], []\n",
    "\n",
    "    # 4) Epoch loop\n",
    "    for epoch in range(1, epochs+1):\n",
    "        model.train()\n",
    "        running_loss, running_correct, running_total = 0.0, 0, 0\n",
    "        i = 0\n",
    "        for X, y in tqdm(train_loader, desc=f\"Epoch {epoch}/{epochs}\", leave=False):\n",
    "            X, y = X.to(device), y.to(device)\n",
    "\n",
    "            optimizer.zero_grad(set_to_none=True)\n",
    "            X, y_a, lam, y_b = mixup_batch(X, y, alpha=0.2)\n",
    "            logits = model(X)\n",
    "            loss   = lam * loss_fn(logits, y_a) + (1 - lam) * loss_fn(logits, y_b)\n",
    "            loss.backward()\n",
    "\n",
    "            running_loss += loss.item() * y.size(0)\n",
    "            running_correct += (logits.argmax(1) == y).sum().item()\n",
    "            running_total   += y.size(0)\n",
    "\n",
    "            optimizer.step()\n",
    "\n",
    "            \n",
    "            # print(f\"Epoch {epoch}: loss={running_loss/running_total:.4f}, \"\n",
    "            #     f\"acc={running_correct/running_total:.4f}\")\n",
    "\n",
    "\n",
    "        epoch_loss = running_loss / running_total\n",
    "        epoch_acc  = running_correct / running_total\n",
    "        train_loss_hist.append(epoch_loss)\n",
    "        train_acc_hist.append(epoch_acc)\n",
    "\n",
    "        # ---- validation ----\n",
    "        model.eval()\n",
    "        val_loss, val_correct, val_total = 0.0, 0, 0\n",
    "\n",
    "        with torch.no_grad():\n",
    "            for Xv, yv in tqdm(val_loader, desc=f\"Epoch {epoch}/{epochs}\", leave=False):\n",
    "                Xv, yv = Xv.to(device), yv.to(device)\n",
    "                out = model(Xv)\n",
    "                val_loss += loss_fn(out, yv).item() * yv.size(0)\n",
    "                val_correct += (out.argmax(dim=1) == yv).sum().item()\n",
    "                val_total   += yv.size(0)\n",
    "\n",
    "        val_loss /= val_total\n",
    "        scheduler.step(val_loss)\n",
    "        val_acc   = val_correct / val_total\n",
    "\n",
    "        if val_loss < best_loss - 1e-4:\n",
    "            best_loss = val_loss\n",
    "            best_sd = {k: v.cpu().clone() for k, v in model.state_dict().items()}\n",
    "\n",
    "        val_loss_hist.append(val_loss)\n",
    "        val_acc_hist.append(val_acc)\n",
    "        curr_lr = optimizer.param_groups[0]['lr']\n",
    "\n",
    "        print(f\"Epoch {epoch:3d}/{epochs:3d} | \"\n",
    "              f\"Train Loss: {epoch_loss:.4f}, Train Acc: {epoch_acc:.4f} | \"\n",
    "              f\"Val Loss: {val_loss:.4f}, Val Acc: {val_acc:.4f} | \"\n",
    "              f\"LR: {curr_lr:.6g}\")\n",
    "        \n",
    " \n",
    "    if best_sd is not None:\n",
    "        model.load_state_dict(best_sd)\n",
    "    return train_loss_hist, train_acc_hist, val_loss_hist, val_acc_hist"
   ]
  },
  {
   "cell_type": "code",
   "execution_count": 7,
   "id": "9a5fb44b",
   "metadata": {},
   "outputs": [],
   "source": [
    "def train_models(models, train_loader, val_loader, epochs = 20, lr = 0.001):\n",
    "\n",
    "    ''' trains a dictionary of models with the given params'''\n",
    "    \n",
    "    model_history = {}\n",
    "    for model in models.values():\n",
    "        start_time = time.time()\n",
    "        print('######################################################')\n",
    "        print(f'###         TRAINING MODEL: {model.name}          ###')\n",
    "        print('######################################################')\n",
    "\n",
    "        history = train(model,\n",
    "                train_loader,\n",
    "                val_loader,\n",
    "                epochs=epochs,\n",
    "                lr=lr)\n",
    "        \n",
    "        model_history[model.name] = history\n",
    "\n",
    "        print('######################################################')\n",
    "        print(f'##         TIME TO TRAIN MODEL:{model.name}       ###')\n",
    "        print(f'###     {(time.time() - start_time)/60} MINUTES   ###')\n",
    "        print('######################################################')\n",
    "\n",
    "    return model_history\n",
    "\n",
    "        \n"
   ]
  },
  {
   "cell_type": "code",
   "execution_count": 8,
   "id": "4bff9b1d",
   "metadata": {},
   "outputs": [],
   "source": [
    "def evaluate_models(models, test_loader, classes = idx2label.values()):\n",
    "\n",
    "    ''' evaluate the models on never seen test data'''\n",
    "\n",
    "    for model in models.values():\n",
    "        print('######################################################')\n",
    "        print(f'###         EVALUATING MODEL: {model.name}          ###')\n",
    "        print('######################################################')\n",
    "        \n",
    "        # set device\n",
    "        device = 'mps' if torch.backends.mps.is_available() else 'cuda' if torch.cuda.is_available() else 'cpu'\n",
    "        model.to(device)\n",
    "        model.eval()\n",
    "\n",
    "        # collect predictions and true labels to calculate metrics\n",
    "        y_true = []\n",
    "        y_pred = []\n",
    "        y_logits = []\n",
    "\n",
    "        with torch.no_grad():\n",
    "            # load data\n",
    "            for X, y in test_loader:\n",
    "                # to gpu\n",
    "                X = X.to(device)\n",
    "                y = y.to(device)\n",
    "\n",
    "                # make predictions\n",
    "                logits = model(X)\n",
    "\n",
    "                # get most confident\n",
    "                preds = logits.argmax(dim=1)\n",
    "\n",
    "                y_logits.append(logits.cpu())\n",
    "                y_pred.extend(preds.cpu().numpy())\n",
    "                y_true.extend(y.cpu().numpy())\n",
    "\n",
    "        # convert stacked logits\n",
    "        y_logits = torch.cat(y_logits).numpy()\n",
    "\n",
    "        # top-k accuracy\n",
    "        top1_acc = accuracy_score(y_true, y_pred)\n",
    "        top5_acc = top_k_accuracy_score(y_true, y_logits, k=5, labels=list(range(len(classes))))  # labels=class range\n",
    "\n",
    "        # other classification metrics from sklearn\n",
    "        f1 = f1_score(y_true, y_pred, average='weighted')\n",
    "        precision = precision_score(y_true, y_pred, average='weighted')\n",
    "        recall = recall_score(y_true, y_pred, average='weighted')\n",
    "\n",
    "        print(f\"\\nTest Accuracy (Top-1): {top1_acc:.4f}\")\n",
    "        print(f\"Top-5 Accuracy: {top5_acc:.4f}\")\n",
    "        print(f\"F1 Score (weighted): {f1:.4f}\")\n",
    "        print(f\"Precision (weighted): {precision:.4f}\")\n",
    "        print(f\"Recall (weighted): {recall:.4f}\")\n",
    "\n",
    "        # per-class performance\n",
    "        print(\"\\nPer-Class Report:\")\n",
    "        cl_report = classification_report(y_true, y_pred, target_names=classes)\n",
    "        print(cl_report)\n",
    "    return (top1_acc, top5_acc, f1, precision, recall, cl_report)"
   ]
  },
  {
   "cell_type": "code",
   "execution_count": 9,
   "id": "4fca5fec",
   "metadata": {},
   "outputs": [],
   "source": [
    "def compare_models(models, train_loader, val_loader, test_loader, epochs=50, lr=0.001, class_names=None):\n",
    "\n",
    "    # train all models\n",
    "    model_history = train_models(models, train_loader, val_loader, epochs=epochs, lr=lr)\n",
    "\n",
    "    # evaluate all models\n",
    "    eval_results = {}\n",
    "    for name, model in models.items():\n",
    "        print(\"\\n\\n\")\n",
    "        results = evaluate_models({name: model}, test_loader, classes=class_names)\n",
    "        eval_results[name] = results\n",
    "\n",
    "    # plot training curves\n",
    "    fig, axs = plt.subplots(2, 1, figsize=(10, 10))\n",
    "    for model_name, history in model_history.items():\n",
    "        train_loss, train_acc, val_loss, val_acc = history\n",
    "        axs[0].plot(train_loss, label=f'{model_name} - Train' )\n",
    "        axs[0].plot(val_loss, label=f'{model_name} - Val',marker='o', markersize=4 )\n",
    "        axs[1].plot(train_acc, label=f'{model_name} - Train')\n",
    "        axs[1].plot(val_acc, label=f'{model_name} - Val', marker='o', markersize=4)\n",
    "\n",
    "    axs[0].set_title('Loss Curves')\n",
    "    axs[0].set_xlabel('Epoch')\n",
    "    axs[0].set_ylabel('Loss')\n",
    "    axs[0].legend()\n",
    "\n",
    "    axs[1].set_title('Accuracy Curves')\n",
    "    axs[1].set_xlabel('Epoch')\n",
    "    axs[1].set_ylabel('Accuracy')\n",
    "    axs[1].legend()\n",
    "\n",
    "    plt.tight_layout()\n",
    "    plt.show()\n",
    "\n",
    "    # return eval results and training history for data logging\n",
    "    return model_history, eval_results"
   ]
  },
  {
   "cell_type": "code",
   "execution_count": 10,
   "id": "d1bef758",
   "metadata": {},
   "outputs": [
    {
     "name": "stdout",
     "output_type": "stream",
     "text": [
      "######################################################\n",
      "###         TRAINING MODEL: Attentive CNN          ###\n",
      "######################################################\n",
      "[Training] using device = mps\n"
     ]
    },
    {
     "data": {
      "application/vnd.jupyter.widget-view+json": {
       "model_id": "6da24a5f95bb49ea92a0962357ef3a73",
       "version_major": 2,
       "version_minor": 0
      },
      "text/plain": [
       "Epoch 1/25:   0%|          | 0/3125 [00:22<?, ?it/s]"
      ]
     },
     "metadata": {},
     "output_type": "display_data"
    },
    {
     "data": {
      "application/vnd.jupyter.widget-view+json": {
       "model_id": "853cb11f2ce54924b4e2f828157c39c8",
       "version_major": 2,
       "version_minor": 0
      },
      "text/plain": [
       "Epoch 1/25:   0%|          | 0/244 [00:08<?, ?it/s]"
      ]
     },
     "metadata": {},
     "output_type": "display_data"
    },
    {
     "name": "stdout",
     "output_type": "stream",
     "text": [
      "Epoch   1/ 25 | Train Loss: 4.6910, Train Acc: 0.0313 | Val Loss: 4.0140, Val Acc: 0.1395 | LR: 0.001\n"
     ]
    },
    {
     "data": {
      "application/vnd.jupyter.widget-view+json": {
       "model_id": "e21c9e207a024acb9f315cded16f1c99",
       "version_major": 2,
       "version_minor": 0
      },
      "text/plain": [
       "Epoch 2/25:   0%|          | 0/3125 [00:00<?, ?it/s]"
      ]
     },
     "metadata": {},
     "output_type": "display_data"
    },
    {
     "data": {
      "application/vnd.jupyter.widget-view+json": {
       "model_id": "65d09a7ed1ed43c5a3e213af2f18438f",
       "version_major": 2,
       "version_minor": 0
      },
      "text/plain": [
       "Epoch 2/25:   0%|          | 0/244 [00:00<?, ?it/s]"
      ]
     },
     "metadata": {},
     "output_type": "display_data"
    },
    {
     "name": "stdout",
     "output_type": "stream",
     "text": [
      "Epoch   2/ 25 | Train Loss: 3.8637, Train Acc: 0.1153 | Val Loss: 3.0822, Val Acc: 0.3471 | LR: 0.001\n"
     ]
    },
    {
     "data": {
      "application/vnd.jupyter.widget-view+json": {
       "model_id": "b6d0e7b3a3b44442b6f3350697879e6e",
       "version_major": 2,
       "version_minor": 0
      },
      "text/plain": [
       "Epoch 3/25:   0%|          | 0/3125 [00:00<?, ?it/s]"
      ]
     },
     "metadata": {},
     "output_type": "display_data"
    },
    {
     "data": {
      "application/vnd.jupyter.widget-view+json": {
       "model_id": "3577fb5c185f4e47aa31daa9f3691ff8",
       "version_major": 2,
       "version_minor": 0
      },
      "text/plain": [
       "Epoch 3/25:   0%|          | 0/244 [00:00<?, ?it/s]"
      ]
     },
     "metadata": {},
     "output_type": "display_data"
    },
    {
     "name": "stdout",
     "output_type": "stream",
     "text": [
      "Epoch   3/ 25 | Train Loss: 3.2641, Train Acc: 0.2023 | Val Loss: 2.5237, Val Acc: 0.5012 | LR: 0.001\n"
     ]
    },
    {
     "data": {
      "application/vnd.jupyter.widget-view+json": {
       "model_id": "da34db9704134564ad874466d86d3237",
       "version_major": 2,
       "version_minor": 0
      },
      "text/plain": [
       "Epoch 4/25:   0%|          | 0/3125 [00:00<?, ?it/s]"
      ]
     },
     "metadata": {},
     "output_type": "display_data"
    },
    {
     "data": {
      "application/vnd.jupyter.widget-view+json": {
       "model_id": "163f4f83433d42af8996a538544f24af",
       "version_major": 2,
       "version_minor": 0
      },
      "text/plain": [
       "Epoch 4/25:   0%|          | 0/244 [00:00<?, ?it/s]"
      ]
     },
     "metadata": {},
     "output_type": "display_data"
    },
    {
     "name": "stdout",
     "output_type": "stream",
     "text": [
      "Epoch   4/ 25 | Train Loss: 2.8896, Train Acc: 0.2573 | Val Loss: 2.2775, Val Acc: 0.5697 | LR: 0.001\n"
     ]
    },
    {
     "data": {
      "application/vnd.jupyter.widget-view+json": {
       "model_id": "66aa451ab74c46adb1dae4fd8484a929",
       "version_major": 2,
       "version_minor": 0
      },
      "text/plain": [
       "Epoch 5/25:   0%|          | 0/3125 [00:00<?, ?it/s]"
      ]
     },
     "metadata": {},
     "output_type": "display_data"
    },
    {
     "data": {
      "application/vnd.jupyter.widget-view+json": {
       "model_id": "3f868ffca0e24835a884f8b61d8feefd",
       "version_major": 2,
       "version_minor": 0
      },
      "text/plain": [
       "Epoch 5/25:   0%|          | 0/244 [00:00<?, ?it/s]"
      ]
     },
     "metadata": {},
     "output_type": "display_data"
    },
    {
     "name": "stdout",
     "output_type": "stream",
     "text": [
      "Epoch   5/ 25 | Train Loss: 2.6007, Train Acc: 0.3053 | Val Loss: 2.1724, Val Acc: 0.5939 | LR: 0.001\n"
     ]
    },
    {
     "data": {
      "application/vnd.jupyter.widget-view+json": {
       "model_id": "752aa7434b7648bb9fba494aa1000e0e",
       "version_major": 2,
       "version_minor": 0
      },
      "text/plain": [
       "Epoch 6/25:   0%|          | 0/3125 [00:00<?, ?it/s]"
      ]
     },
     "metadata": {},
     "output_type": "display_data"
    },
    {
     "data": {
      "application/vnd.jupyter.widget-view+json": {
       "model_id": "5c2b2526ba564bdfa2737f594fe767f9",
       "version_major": 2,
       "version_minor": 0
      },
      "text/plain": [
       "Epoch 6/25:   0%|          | 0/244 [00:00<?, ?it/s]"
      ]
     },
     "metadata": {},
     "output_type": "display_data"
    },
    {
     "name": "stdout",
     "output_type": "stream",
     "text": [
      "Epoch   6/ 25 | Train Loss: 2.4282, Train Acc: 0.3327 | Val Loss: 2.0350, Val Acc: 0.6384 | LR: 0.001\n"
     ]
    },
    {
     "data": {
      "application/vnd.jupyter.widget-view+json": {
       "model_id": "440cbef155744e2d90908af96a6bf449",
       "version_major": 2,
       "version_minor": 0
      },
      "text/plain": [
       "Epoch 7/25:   0%|          | 0/3125 [00:00<?, ?it/s]"
      ]
     },
     "metadata": {},
     "output_type": "display_data"
    },
    {
     "data": {
      "application/vnd.jupyter.widget-view+json": {
       "model_id": "eb70a70c7fd94665a5cc6c103e041398",
       "version_major": 2,
       "version_minor": 0
      },
      "text/plain": [
       "Epoch 7/25:   0%|          | 0/244 [00:00<?, ?it/s]"
      ]
     },
     "metadata": {},
     "output_type": "display_data"
    },
    {
     "name": "stdout",
     "output_type": "stream",
     "text": [
      "Epoch   7/ 25 | Train Loss: 2.2698, Train Acc: 0.3640 | Val Loss: 2.0239, Val Acc: 0.6524 | LR: 0.001\n"
     ]
    },
    {
     "data": {
      "application/vnd.jupyter.widget-view+json": {
       "model_id": "63f62d3d18f841c79d0acdd8425b4b3f",
       "version_major": 2,
       "version_minor": 0
      },
      "text/plain": [
       "Epoch 8/25:   0%|          | 0/3125 [00:00<?, ?it/s]"
      ]
     },
     "metadata": {},
     "output_type": "display_data"
    },
    {
     "data": {
      "application/vnd.jupyter.widget-view+json": {
       "model_id": "a1ab212bea124f26bbfafd23f0316687",
       "version_major": 2,
       "version_minor": 0
      },
      "text/plain": [
       "Epoch 8/25:   0%|          | 0/244 [00:00<?, ?it/s]"
      ]
     },
     "metadata": {},
     "output_type": "display_data"
    },
    {
     "name": "stdout",
     "output_type": "stream",
     "text": [
      "Epoch   8/ 25 | Train Loss: 2.1897, Train Acc: 0.3777 | Val Loss: 1.9152, Val Acc: 0.6783 | LR: 0.001\n"
     ]
    },
    {
     "data": {
      "application/vnd.jupyter.widget-view+json": {
       "model_id": "70a6ca4c6db342ec86e08ef54d0f9e60",
       "version_major": 2,
       "version_minor": 0
      },
      "text/plain": [
       "Epoch 9/25:   0%|          | 0/3125 [00:00<?, ?it/s]"
      ]
     },
     "metadata": {},
     "output_type": "display_data"
    },
    {
     "data": {
      "application/vnd.jupyter.widget-view+json": {
       "model_id": "0c88c33853ad4dabba5922ad0362db4d",
       "version_major": 2,
       "version_minor": 0
      },
      "text/plain": [
       "Epoch 9/25:   0%|          | 0/244 [00:00<?, ?it/s]"
      ]
     },
     "metadata": {},
     "output_type": "display_data"
    },
    {
     "name": "stdout",
     "output_type": "stream",
     "text": [
      "Epoch   9/ 25 | Train Loss: 2.0944, Train Acc: 0.4013 | Val Loss: 1.8393, Val Acc: 0.7019 | LR: 0.001\n"
     ]
    },
    {
     "data": {
      "application/vnd.jupyter.widget-view+json": {
       "model_id": "366604dcc1494857ac75402c64b0a884",
       "version_major": 2,
       "version_minor": 0
      },
      "text/plain": [
       "Epoch 10/25:   0%|          | 0/3125 [00:00<?, ?it/s]"
      ]
     },
     "metadata": {},
     "output_type": "display_data"
    },
    {
     "data": {
      "application/vnd.jupyter.widget-view+json": {
       "model_id": "298e04a1da6c4aca8ff174dd23a1e0f5",
       "version_major": 2,
       "version_minor": 0
      },
      "text/plain": [
       "Epoch 10/25:   0%|          | 0/244 [00:00<?, ?it/s]"
      ]
     },
     "metadata": {},
     "output_type": "display_data"
    },
    {
     "name": "stdout",
     "output_type": "stream",
     "text": [
      "Epoch  10/ 25 | Train Loss: 2.0367, Train Acc: 0.4129 | Val Loss: 1.8592, Val Acc: 0.7094 | LR: 0.001\n"
     ]
    },
    {
     "data": {
      "application/vnd.jupyter.widget-view+json": {
       "model_id": "601d86ff6bff4d69acc12a5d5b886190",
       "version_major": 2,
       "version_minor": 0
      },
      "text/plain": [
       "Epoch 11/25:   0%|          | 0/3125 [00:00<?, ?it/s]"
      ]
     },
     "metadata": {},
     "output_type": "display_data"
    },
    {
     "data": {
      "application/vnd.jupyter.widget-view+json": {
       "model_id": "9aa501395ed641d1b43764d084d29869",
       "version_major": 2,
       "version_minor": 0
      },
      "text/plain": [
       "Epoch 11/25:   0%|          | 0/244 [00:00<?, ?it/s]"
      ]
     },
     "metadata": {},
     "output_type": "display_data"
    },
    {
     "name": "stdout",
     "output_type": "stream",
     "text": [
      "Epoch  11/ 25 | Train Loss: 1.9784, Train Acc: 0.4257 | Val Loss: 1.7731, Val Acc: 0.7172 | LR: 0.001\n"
     ]
    },
    {
     "data": {
      "application/vnd.jupyter.widget-view+json": {
       "model_id": "2f87d8474d154be088ca7381016569f0",
       "version_major": 2,
       "version_minor": 0
      },
      "text/plain": [
       "Epoch 12/25:   0%|          | 0/3125 [00:00<?, ?it/s]"
      ]
     },
     "metadata": {},
     "output_type": "display_data"
    },
    {
     "data": {
      "application/vnd.jupyter.widget-view+json": {
       "model_id": "09fef26876c141d88e4b98ddde22a5ba",
       "version_major": 2,
       "version_minor": 0
      },
      "text/plain": [
       "Epoch 12/25:   0%|          | 0/244 [00:00<?, ?it/s]"
      ]
     },
     "metadata": {},
     "output_type": "display_data"
    },
    {
     "name": "stdout",
     "output_type": "stream",
     "text": [
      "Epoch  12/ 25 | Train Loss: 1.9425, Train Acc: 0.4239 | Val Loss: 1.7648, Val Acc: 0.7298 | LR: 0.001\n"
     ]
    },
    {
     "data": {
      "application/vnd.jupyter.widget-view+json": {
       "model_id": "1d9248cbd7184c938f220ab3637db243",
       "version_major": 2,
       "version_minor": 0
      },
      "text/plain": [
       "Epoch 13/25:   0%|          | 0/3125 [00:00<?, ?it/s]"
      ]
     },
     "metadata": {},
     "output_type": "display_data"
    },
    {
     "data": {
      "application/vnd.jupyter.widget-view+json": {
       "model_id": "be0da91e2bbf4109b501fa237e357dbb",
       "version_major": 2,
       "version_minor": 0
      },
      "text/plain": [
       "Epoch 13/25:   0%|          | 0/244 [00:00<?, ?it/s]"
      ]
     },
     "metadata": {},
     "output_type": "display_data"
    },
    {
     "name": "stdout",
     "output_type": "stream",
     "text": [
      "Epoch  13/ 25 | Train Loss: 1.9116, Train Acc: 0.4297 | Val Loss: 1.7541, Val Acc: 0.7282 | LR: 0.001\n"
     ]
    },
    {
     "data": {
      "application/vnd.jupyter.widget-view+json": {
       "model_id": "0f036e8f51b64eaab0f9dff3493671e6",
       "version_major": 2,
       "version_minor": 0
      },
      "text/plain": [
       "Epoch 14/25:   0%|          | 0/3125 [00:00<?, ?it/s]"
      ]
     },
     "metadata": {},
     "output_type": "display_data"
    },
    {
     "data": {
      "application/vnd.jupyter.widget-view+json": {
       "model_id": "a9bc6895222d4861b9216ca7b0555f2c",
       "version_major": 2,
       "version_minor": 0
      },
      "text/plain": [
       "Epoch 14/25:   0%|          | 0/244 [00:00<?, ?it/s]"
      ]
     },
     "metadata": {},
     "output_type": "display_data"
    },
    {
     "name": "stdout",
     "output_type": "stream",
     "text": [
      "Epoch  14/ 25 | Train Loss: 1.8648, Train Acc: 0.4462 | Val Loss: 1.7402, Val Acc: 0.7426 | LR: 0.001\n"
     ]
    },
    {
     "data": {
      "application/vnd.jupyter.widget-view+json": {
       "model_id": "a43dd560be994a8d98cfa270a9063154",
       "version_major": 2,
       "version_minor": 0
      },
      "text/plain": [
       "Epoch 15/25:   0%|          | 0/3125 [00:00<?, ?it/s]"
      ]
     },
     "metadata": {},
     "output_type": "display_data"
    },
    {
     "data": {
      "application/vnd.jupyter.widget-view+json": {
       "model_id": "14f439f9463f46b58ef5097bf9dedac2",
       "version_major": 2,
       "version_minor": 0
      },
      "text/plain": [
       "Epoch 15/25:   0%|          | 0/244 [00:00<?, ?it/s]"
      ]
     },
     "metadata": {},
     "output_type": "display_data"
    },
    {
     "name": "stdout",
     "output_type": "stream",
     "text": [
      "Epoch  15/ 25 | Train Loss: 1.8605, Train Acc: 0.4578 | Val Loss: 1.7243, Val Acc: 0.7356 | LR: 0.001\n"
     ]
    },
    {
     "data": {
      "application/vnd.jupyter.widget-view+json": {
       "model_id": "3e51fa83d949430b9960d83ac41b8bcc",
       "version_major": 2,
       "version_minor": 0
      },
      "text/plain": [
       "Epoch 16/25:   0%|          | 0/3125 [00:00<?, ?it/s]"
      ]
     },
     "metadata": {},
     "output_type": "display_data"
    },
    {
     "data": {
      "application/vnd.jupyter.widget-view+json": {
       "model_id": "f0937ace373c40558f8e1172cecffc19",
       "version_major": 2,
       "version_minor": 0
      },
      "text/plain": [
       "Epoch 16/25:   0%|          | 0/244 [00:00<?, ?it/s]"
      ]
     },
     "metadata": {},
     "output_type": "display_data"
    },
    {
     "name": "stdout",
     "output_type": "stream",
     "text": [
      "Epoch  16/ 25 | Train Loss: 1.8279, Train Acc: 0.4435 | Val Loss: 1.7293, Val Acc: 0.7494 | LR: 0.001\n"
     ]
    },
    {
     "data": {
      "application/vnd.jupyter.widget-view+json": {
       "model_id": "a6d0ecc0e5f144b19bd8a16aec88ed2c",
       "version_major": 2,
       "version_minor": 0
      },
      "text/plain": [
       "Epoch 17/25:   0%|          | 0/3125 [00:00<?, ?it/s]"
      ]
     },
     "metadata": {},
     "output_type": "display_data"
    },
    {
     "data": {
      "application/vnd.jupyter.widget-view+json": {
       "model_id": "9fd3b4f2d10f462d8ec404f08f810db6",
       "version_major": 2,
       "version_minor": 0
      },
      "text/plain": [
       "Epoch 17/25:   0%|          | 0/244 [00:00<?, ?it/s]"
      ]
     },
     "metadata": {},
     "output_type": "display_data"
    },
    {
     "name": "stdout",
     "output_type": "stream",
     "text": [
      "Epoch  17/ 25 | Train Loss: 1.7924, Train Acc: 0.4552 | Val Loss: 1.6995, Val Acc: 0.7474 | LR: 0.001\n"
     ]
    },
    {
     "data": {
      "application/vnd.jupyter.widget-view+json": {
       "model_id": "3944bcaa38df48e7930aa01dbe17665d",
       "version_major": 2,
       "version_minor": 0
      },
      "text/plain": [
       "Epoch 18/25:   0%|          | 0/3125 [00:00<?, ?it/s]"
      ]
     },
     "metadata": {},
     "output_type": "display_data"
    },
    {
     "data": {
      "application/vnd.jupyter.widget-view+json": {
       "model_id": "8d19c396633148699332d80e08b895ff",
       "version_major": 2,
       "version_minor": 0
      },
      "text/plain": [
       "Epoch 18/25:   0%|          | 0/244 [00:00<?, ?it/s]"
      ]
     },
     "metadata": {},
     "output_type": "display_data"
    },
    {
     "name": "stdout",
     "output_type": "stream",
     "text": [
      "Epoch  18/ 25 | Train Loss: 1.8010, Train Acc: 0.4650 | Val Loss: 1.6800, Val Acc: 0.7572 | LR: 0.001\n"
     ]
    },
    {
     "data": {
      "application/vnd.jupyter.widget-view+json": {
       "model_id": "faf45233a9494f7e96ebf6b892a0148b",
       "version_major": 2,
       "version_minor": 0
      },
      "text/plain": [
       "Epoch 19/25:   0%|          | 0/3125 [00:00<?, ?it/s]"
      ]
     },
     "metadata": {},
     "output_type": "display_data"
    },
    {
     "data": {
      "application/vnd.jupyter.widget-view+json": {
       "model_id": "373306b8ec864dfe903b63751e786617",
       "version_major": 2,
       "version_minor": 0
      },
      "text/plain": [
       "Epoch 19/25:   0%|          | 0/244 [00:00<?, ?it/s]"
      ]
     },
     "metadata": {},
     "output_type": "display_data"
    },
    {
     "name": "stdout",
     "output_type": "stream",
     "text": [
      "Epoch  19/ 25 | Train Loss: 1.7742, Train Acc: 0.4547 | Val Loss: 1.7357, Val Acc: 0.7604 | LR: 0.001\n"
     ]
    },
    {
     "data": {
      "application/vnd.jupyter.widget-view+json": {
       "model_id": "aa1f37043636431ba593fc519c5905ae",
       "version_major": 2,
       "version_minor": 0
      },
      "text/plain": [
       "Epoch 20/25:   0%|          | 0/3125 [00:00<?, ?it/s]"
      ]
     },
     "metadata": {},
     "output_type": "display_data"
    },
    {
     "data": {
      "application/vnd.jupyter.widget-view+json": {
       "model_id": "4019069bcf58448ea91cdb7e8730de6f",
       "version_major": 2,
       "version_minor": 0
      },
      "text/plain": [
       "Epoch 20/25:   0%|          | 0/244 [00:00<?, ?it/s]"
      ]
     },
     "metadata": {},
     "output_type": "display_data"
    },
    {
     "name": "stdout",
     "output_type": "stream",
     "text": [
      "Epoch  20/ 25 | Train Loss: 1.7753, Train Acc: 0.4431 | Val Loss: 1.6967, Val Acc: 0.7549 | LR: 0.001\n"
     ]
    },
    {
     "data": {
      "application/vnd.jupyter.widget-view+json": {
       "model_id": "a96fb0302da6494988507014260fc853",
       "version_major": 2,
       "version_minor": 0
      },
      "text/plain": [
       "Epoch 21/25:   0%|          | 0/3125 [00:00<?, ?it/s]"
      ]
     },
     "metadata": {},
     "output_type": "display_data"
    },
    {
     "data": {
      "application/vnd.jupyter.widget-view+json": {
       "model_id": "0600147646b843699073354526efad4e",
       "version_major": 2,
       "version_minor": 0
      },
      "text/plain": [
       "Epoch 21/25:   0%|          | 0/244 [00:00<?, ?it/s]"
      ]
     },
     "metadata": {},
     "output_type": "display_data"
    },
    {
     "name": "stdout",
     "output_type": "stream",
     "text": [
      "Epoch  21/ 25 | Train Loss: 1.7455, Train Acc: 0.4642 | Val Loss: 1.7027, Val Acc: 0.7580 | LR: 0.001\n"
     ]
    },
    {
     "data": {
      "application/vnd.jupyter.widget-view+json": {
       "model_id": "9be50c0a842a42ae88cc2dcbdea57d4c",
       "version_major": 2,
       "version_minor": 0
      },
      "text/plain": [
       "Epoch 22/25:   0%|          | 0/3125 [00:00<?, ?it/s]"
      ]
     },
     "metadata": {},
     "output_type": "display_data"
    },
    {
     "data": {
      "application/vnd.jupyter.widget-view+json": {
       "model_id": "8576e174c75f491a9ae293f75273fb17",
       "version_major": 2,
       "version_minor": 0
      },
      "text/plain": [
       "Epoch 22/25:   0%|          | 0/244 [00:00<?, ?it/s]"
      ]
     },
     "metadata": {},
     "output_type": "display_data"
    },
    {
     "name": "stdout",
     "output_type": "stream",
     "text": [
      "Epoch  22/ 25 | Train Loss: 1.7586, Train Acc: 0.4642 | Val Loss: 1.6915, Val Acc: 0.7528 | LR: 0.0001\n"
     ]
    },
    {
     "data": {
      "application/vnd.jupyter.widget-view+json": {
       "model_id": "9d8c099883c44870afcf14caa07e71da",
       "version_major": 2,
       "version_minor": 0
      },
      "text/plain": [
       "Epoch 23/25:   0%|          | 0/3125 [00:00<?, ?it/s]"
      ]
     },
     "metadata": {},
     "output_type": "display_data"
    },
    {
     "data": {
      "application/vnd.jupyter.widget-view+json": {
       "model_id": "196136c4892f47b7a8a3c4d5e66470d2",
       "version_major": 2,
       "version_minor": 0
      },
      "text/plain": [
       "Epoch 23/25:   0%|          | 0/244 [00:00<?, ?it/s]"
      ]
     },
     "metadata": {},
     "output_type": "display_data"
    },
    {
     "name": "stdout",
     "output_type": "stream",
     "text": [
      "Epoch  23/ 25 | Train Loss: 1.6681, Train Acc: 0.4750 | Val Loss: 1.5664, Val Acc: 0.7936 | LR: 0.0001\n"
     ]
    },
    {
     "data": {
      "application/vnd.jupyter.widget-view+json": {
       "model_id": "4073e0dcef4e4390bce47104d5f37aee",
       "version_major": 2,
       "version_minor": 0
      },
      "text/plain": [
       "Epoch 24/25:   0%|          | 0/3125 [00:00<?, ?it/s]"
      ]
     },
     "metadata": {},
     "output_type": "display_data"
    },
    {
     "data": {
      "application/vnd.jupyter.widget-view+json": {
       "model_id": "c8d33d3c3f874a0092f6b187320c731d",
       "version_major": 2,
       "version_minor": 0
      },
      "text/plain": [
       "Epoch 24/25:   0%|          | 0/244 [00:00<?, ?it/s]"
      ]
     },
     "metadata": {},
     "output_type": "display_data"
    },
    {
     "name": "stdout",
     "output_type": "stream",
     "text": [
      "Epoch  24/ 25 | Train Loss: 1.6630, Train Acc: 0.4821 | Val Loss: 1.5571, Val Acc: 0.7960 | LR: 0.0001\n"
     ]
    },
    {
     "data": {
      "application/vnd.jupyter.widget-view+json": {
       "model_id": "09052ebc9c474597817d76cf40e47d0f",
       "version_major": 2,
       "version_minor": 0
      },
      "text/plain": [
       "Epoch 25/25:   0%|          | 0/3125 [00:00<?, ?it/s]"
      ]
     },
     "metadata": {},
     "output_type": "display_data"
    },
    {
     "data": {
      "application/vnd.jupyter.widget-view+json": {
       "model_id": "5d273630433a4cc5bf9be37077306ded",
       "version_major": 2,
       "version_minor": 0
      },
      "text/plain": [
       "Epoch 25/25:   0%|          | 0/244 [00:00<?, ?it/s]"
      ]
     },
     "metadata": {},
     "output_type": "display_data"
    },
    {
     "name": "stdout",
     "output_type": "stream",
     "text": [
      "Epoch  25/ 25 | Train Loss: 1.6285, Train Acc: 0.4782 | Val Loss: 1.6246, Val Acc: 0.7926 | LR: 0.0001\n",
      "######################################################\n",
      "##         TIME TO TRAIN MODEL:Attentive CNN       ###\n",
      "###     658.7660345196724 MINUTES   ###\n",
      "######################################################\n",
      "\n",
      "\n",
      "\n",
      "######################################################\n",
      "###         EVALUATING MODEL: Attentive CNN          ###\n",
      "######################################################\n",
      "\n",
      "Test Accuracy (Top-1): 0.7904\n",
      "Top-5 Accuracy: 0.9445\n",
      "F1 Score (weighted): 0.7924\n",
      "Precision (weighted): 0.8000\n",
      "Recall (weighted): 0.7904\n",
      "\n",
      "Per-Class Report:\n",
      "                             precision    recall  f1-score   support\n",
      "\n",
      "          Agaricus augustus       0.82      0.65      0.73        51\n",
      "      Agaricus xanthodermus       0.66      0.46      0.54        46\n",
      "     Amanita amerirubescens       0.50      0.48      0.49        50\n",
      "            Amanita augusta       0.87      0.66      0.75        50\n",
      "        Amanita brunnescens       0.59      0.80      0.68        46\n",
      "      Amanita calyptroderma       0.65      0.67      0.66        49\n",
      "            Amanita citrina       0.70      0.70      0.70        44\n",
      "         Amanita flavoconia       0.83      0.79      0.81        48\n",
      "           Amanita muscaria       0.98      0.88      0.93       687\n",
      "         Amanita pantherina       0.72      0.84      0.77        51\n",
      "          Amanita persicina       0.54      0.56      0.55        39\n",
      "         Amanita phalloides       0.62      0.62      0.62        48\n",
      "          Amanita rubescens       0.56      0.62      0.59        79\n",
      "             Amanita velosa       0.69      0.83      0.75        42\n",
      "       Apioperdon pyriforme       0.73      0.78      0.76       152\n",
      "        Armillaria borealis       0.57      0.60      0.59        40\n",
      "          Armillaria mellea       0.51      0.55      0.53        49\n",
      "       Armillaria tabescens       0.63      0.83      0.72        53\n",
      "        Artomyces pyxidatus       0.97      0.98      0.97       191\n",
      "         Bjerkandera adusta       0.70      0.73      0.71        70\n",
      "         Bolbitius titubans       0.84      0.88      0.86        48\n",
      "             Boletus edulis       0.85      0.71      0.77       220\n",
      "           Boletus pallidus       0.66      0.79      0.72        48\n",
      "        Boletus reticulatus       0.37      0.50      0.43        38\n",
      "          Boletus rex-veris       0.82      0.72      0.77        46\n",
      "           Calocera viscosa       0.94      1.00      0.97        63\n",
      "           Calycina citrina       0.90      0.92      0.91        90\n",
      "  Cantharellus californicus       0.82      0.73      0.77        49\n",
      "      Cantharellus cibarius       0.83      0.83      0.83       126\n",
      "  Cantharellus cinnabarinus       0.83      0.90      0.87        50\n",
      "       Cerioporus squamosus       0.86      0.83      0.84       315\n",
      "         Cetraria islandica       0.84      0.94      0.88        65\n",
      "Chlorociboria aeruginascens       0.88      0.96      0.92        51\n",
      "     Chlorophyllum brunneum       0.51      0.63      0.57        41\n",
      "   Chlorophyllum molybdites       0.43      0.43      0.43        35\n",
      "   Chondrostereum purpureum       0.76      0.76      0.76        49\n",
      "         Cladonia fimbriata       0.79      0.81      0.80        47\n",
      "       Cladonia rangiferina       0.86      0.79      0.82        38\n",
      "         Cladonia stellaris       0.85      0.93      0.88        54\n",
      "        Clitocybe nebularis       0.73      0.78      0.75        68\n",
      "             Clitocybe nuda       0.79      0.81      0.80        72\n",
      "         Coltricia perennis       0.63      0.73      0.68        37\n",
      "   Coprinellus disseminatus       0.77      0.94      0.85        68\n",
      "       Coprinellus micaceus       0.81      0.79      0.80       110\n",
      "   Coprinopsis atramentaria       0.66      0.67      0.67        43\n",
      "        Coprinopsis lagopus       0.67      0.92      0.78        36\n",
      "           Coprinus comatus       0.96      0.91      0.93       242\n",
      "           Crucibulum laeve       0.84      0.80      0.82        85\n",
      "       Cryptoporus volvatus       0.52      0.66      0.58        35\n",
      "    Daedaleopsis confragosa       0.61      0.62      0.62       120\n",
      "      Daedaleopsis tricolor       0.58      0.76      0.66        41\n",
      "         Entoloma abortivum       0.70      0.64      0.67        44\n",
      "         Evernia mesomorpha       0.75      0.73      0.74       106\n",
      "          Evernia prunastri       0.80      0.82      0.81       219\n",
      "       Flammulina velutipes       0.80      0.66      0.72       146\n",
      "          Fomes fomentarius       0.86      0.84      0.85       787\n",
      "        Fomitopsis betulina       0.75      0.80      0.77       238\n",
      "        Fomitopsis mounceae       0.53      0.47      0.50        40\n",
      "        Fomitopsis pinicola       0.95      0.79      0.86       764\n",
      "         Galerina marginata       0.53      0.66      0.59        35\n",
      "       Ganoderma applanatum       0.59      0.75      0.66       173\n",
      "         Ganoderma curtisii       0.64      0.54      0.58        39\n",
      "       Ganoderma oregonense       0.88      0.62      0.73        37\n",
      "           Ganoderma tsugae       0.71      0.72      0.72        40\n",
      "     Gliophorus psittacinus       0.82      0.69      0.75        39\n",
      "     Gloeophyllum sepiarium       0.71      0.62      0.67        40\n",
      "            Graphis scripta       0.76      0.94      0.84        51\n",
      "           Grifola frondosa       0.60      0.80      0.69        45\n",
      "     Gymnopilus luteofolius       0.69      0.61      0.65        36\n",
      "        Gyromitra esculenta       0.84      0.85      0.84        72\n",
      "            Gyromitra gigas       0.93      0.97      0.95       218\n",
      "           Gyromitra infula       0.83      0.83      0.83        47\n",
      "       Hericium coralloides       0.93      0.93      0.93       136\n",
      "         Hericium erinaceus       0.71      0.68      0.69        40\n",
      "  Hygrophoropsis aurantiaca       0.80      0.76      0.78        86\n",
      "      Hypholoma fasciculare       0.80      0.71      0.75        80\n",
      "       Hypholoma lateritium       0.88      0.75      0.81        92\n",
      "        Hypogymnia physodes       0.86      0.82      0.84       324\n",
      "     Hypomyces lactifluorum       0.90      0.71      0.80        49\n",
      "              Imleria badia       0.56      0.57      0.56        44\n",
      "          Inonotus obliquus       0.82      0.96      0.89       140\n",
      "      Ischnoderma resinosum       0.62      0.57      0.60        44\n",
      "    Kuehneromyces mutabilis       0.66      0.76      0.71        99\n",
      "     Laccaria ochropurpurea       0.79      0.74      0.76        35\n",
      "       Lactarius deliciosus       0.64      0.69      0.67        42\n",
      "       Lactarius torminosus       0.86      0.81      0.83        52\n",
      "           Lactarius turpis       0.79      0.78      0.78        40\n",
      "      Laetiporus sulphureus       0.95      0.87      0.91       389\n",
      "    Leccinum albostipitatum       0.69      0.77      0.73        70\n",
      "       Leccinum aurantiacum       0.51      0.43      0.46        82\n",
      "           Leccinum scabrum       0.73      0.77      0.75       254\n",
      "        Leccinum versipelle       0.50      0.64      0.56        64\n",
      "               Lepista nuda       0.72      0.72      0.72        43\n",
      "         Leratiomyces ceres       0.75      0.69      0.72        39\n",
      "   Leucoagaricus americanus       0.65      0.38      0.48        40\n",
      "  Leucoagaricus leucothites       0.54      0.51      0.53        39\n",
      "         Lobaria pulmonaria       0.84      0.88      0.86        93\n",
      "        Lycogala epidendrum       0.70      0.84      0.77        37\n",
      "        Lycoperdon perlatum       0.79      0.81      0.80       216\n",
      "       Lycoperdon pyriforme       0.54      0.56      0.55        45\n",
      "       Macrolepiota procera       0.83      0.87      0.85       135\n",
      "       Merulius tremellosus       0.66      0.63      0.64        59\n",
      "          Mutinus ravenelii       0.91      1.00      0.95        41\n",
      "          Mycena haematopus       0.75      0.82      0.78        44\n",
      "             Mycena leaiana       0.89      0.81      0.85        48\n",
      "        Nectria cinnabarina       0.81      0.92      0.86        48\n",
      "        Omphalotus illudens       0.69      0.67      0.68        46\n",
      "      Omphalotus olivascens       0.86      0.71      0.78        42\n",
      "    Panaeolus papilionaceus       0.82      0.85      0.84        33\n",
      "         Panellus stipticus       0.70      0.65      0.68        78\n",
      "           Parmelia sulcata       0.87      0.83      0.85       396\n",
      "         Paxillus involutus       0.53      0.70      0.60       129\n",
      "         Peltigera aphthosa       0.89      0.98      0.93        42\n",
      "      Peltigera praetextata       0.93      0.91      0.92        44\n",
      "      Phaeolus schweinitzii       0.61      0.64      0.62        44\n",
      "   Phaeophyscia orbicularis       0.46      0.70      0.56        37\n",
      "          Phallus impudicus       0.84      0.87      0.86        55\n",
      "        Phellinus igniarius       0.51      0.72      0.60        50\n",
      "         Phellinus tremulae       0.66      0.84      0.74        49\n",
      "            Phlebia radiata       0.88      0.86      0.87        43\n",
      "         Phlebia tremellosa       0.51      0.60      0.55        43\n",
      "         Pholiota aurivella       0.92      0.79      0.85        61\n",
      "         Pholiota squarrosa       0.69      0.78      0.73        51\n",
      "      Phyllotopsis nidulans       0.64      0.64      0.64        44\n",
      "         Physcia adscendens       0.53      0.60      0.56        55\n",
      "         Platismatia glauca       0.78      0.90      0.84        60\n",
      "        Pleurotus ostreatus       0.65      0.58      0.61       122\n",
      "      Pleurotus pulmonarius       0.68      0.71      0.69        96\n",
      "    Psathyrella candolleana       0.59      0.56      0.57        36\n",
      "    Pseudevernia furfuracea       0.57      0.67      0.62        67\n",
      "   Pseudohydnum gelatinosum       0.72      0.76      0.74        41\n",
      "       Psilocybe azurescens       0.82      0.87      0.85        38\n",
      "     Psilocybe caerulescens       0.65      0.47      0.55        32\n",
      "         Psilocybe cubensis       0.84      0.70      0.76        37\n",
      "       Psilocybe cyanescens       0.67      0.77      0.71        39\n",
      "Psilocybe ovoideocystidiata       0.64      0.74      0.68        38\n",
      "      Psilocybe pelliculosa       0.81      0.95      0.88        44\n",
      "      Retiboletus ornatipes       0.85      0.80      0.82        44\n",
      "          Rhytisma acerinum       0.87      0.97      0.91       120\n",
      "         Sarcomyxa serotina       0.59      0.53      0.56        81\n",
      "      Sarcoscypha austriaca       0.84      0.97      0.90        59\n",
      "         Sarcosoma globosum       0.81      0.93      0.87        42\n",
      "      Schizophyllum commune       0.77      0.83      0.80       205\n",
      "           Stereum hirsutum       0.77      0.59      0.67        46\n",
      "             Stereum ostrea       0.82      0.73      0.78        45\n",
      "      Stropharia aeruginosa       0.98      0.92      0.95        50\n",
      "         Stropharia ambigua       0.92      0.82      0.87        44\n",
      "         Suillus americanus       0.69      0.60      0.64        42\n",
      "         Suillus granulatus       0.52      0.62      0.56        68\n",
      "          Suillus grevillei       0.61      0.53      0.57        36\n",
      "             Suillus luteus       0.60      0.65      0.62        96\n",
      "           Suillus spraguei       0.98      0.93      0.95        43\n",
      "    Tapinella atrotomentosa       0.49      0.60      0.54        45\n",
      "          Trametes betulina       0.68      0.59      0.63        44\n",
      "           Trametes gibbosa       0.56      0.65      0.60        37\n",
      "           Trametes hirsuta       0.30      0.38      0.33        42\n",
      "          Trametes ochracea       0.56      0.50      0.53        40\n",
      "        Trametes versicolor       0.76      0.78      0.77       139\n",
      "       Tremella mesenterica       0.97      0.83      0.89        86\n",
      "         Trichaptum biforme       0.80      0.68      0.74       138\n",
      "    Tricholoma murrillianum       0.75      0.79      0.77        42\n",
      "    Tricholomopsis rutilans       0.86      0.78      0.82        78\n",
      "          Tylopilus felleus       0.66      0.89      0.75        45\n",
      "    Tylopilus rubrobrunneus       0.75      0.82      0.78        44\n",
      "           Urnula craterium       0.81      0.93      0.87        45\n",
      "             Verpa bohemica       0.91      0.86      0.88       118\n",
      " Volvopluteus gloiocephalus       0.55      0.49      0.52        35\n",
      "         Vulpicida pinastri       0.82      0.92      0.87       129\n",
      "        Xanthoria parietina       0.98      0.93      0.95       874\n",
      "\n",
      "                   accuracy                           0.79     15614\n",
      "                  macro avg       0.73      0.74      0.73     15614\n",
      "               weighted avg       0.80      0.79      0.79     15614\n",
      "\n"
     ]
    },
    {
     "data": {
      "image/png": "[encoded data removed]",
      "text/plain": [
       "<Figure size 1000x1000 with 2 Axes>"
      ]
     },
     "metadata": {},
     "output_type": "display_data"
    }
   ],
   "source": [
    "num_epochs = 25\n",
    "lr = 1e-3\n",
    "classes = [idx2label[i] for i in range(num_classes)]\n",
    "\n",
    "model_history, eval_results = compare_models(models, train_loader, val_loader, test_loader,\n",
    "                                             epochs=num_epochs, lr=lr, class_names=classes)"
   ]
  },
  {
   "cell_type": "code",
   "execution_count": null,
   "id": "5db36a4f",
   "metadata": {},
   "outputs": [],
   "source": []
  },
  {
   "cell_type": "raw",
   "id": "cc218597",
   "metadata": {
    "vscode": {
     "languageId": "raw"
    }
   },
   "source": []
  }
 ],
 "metadata": {
  "kernelspec": {
   "display_name": "cpsc330",
   "language": "python",
   "name": "python3"
  },
  "language_info": {
   "codemirror_mode": {
    "name": "ipython",
    "version": 3
   },
   "file_extension": ".py",
   "mimetype": "text/x-python",
   "name": "python",
   "nbconvert_exporter": "python",
   "pygments_lexer": "ipython3",
   "version": "3.10.0"
  }
 },
 "nbformat": 4,
 "nbformat_minor": 5
}
