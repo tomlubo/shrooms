{
 "cells": [
  {
   "cell_type": "code",
   "execution_count": null,
   "id": "33f59a55",
   "metadata": {},
   "outputs": [],
   "source": [
    "# imports\n",
    "import torch\n",
    "import torch.nn as nn\n",
    "import torch.nn.functional as F\n",
    "import torch.optim as optim\n",
    "from torch.optim.lr_scheduler import ReduceLROnPlateau  # add import\n",
    "from torchvision.transforms import v2 as T\n",
    "from torch.utils.data import DataLoader, Dataset, WeightedRandomSampler\n",
    "from ShroomDataset import ShroomDataset, ClassBalancedBatchSampler\n",
    "from ShroomCNN import ShroomCNNAttentive, AuxSpeciesHead\n",
    "from sklearn.metrics import accuracy_score, f1_score, precision_score, recall_score\n",
    "from sklearn.metrics import classification_report, top_k_accuracy_score\n",
    "import numpy as np\n",
    "import matplotlib.pyplot as plt\n",
    "import time\n",
    "import pandas as pd\n",
    "from PIL import Image, ImageOps\n",
    "import os\n",
    "from tqdm.auto import tqdm\n",
    "from contextlib import nullcontext\n",
    "\n",
    "import math\n",
    "\n",
    "\n",
    "data_path = './data/'\n",
    "\n",
    "train_meta = pd.read_csv(os.path.join(data_path, 'train.csv'))#.iloc[:1000]\n",
    "val_meta = pd.read_csv(os.path.join(data_path, 'val.csv'))\n",
    "test_meta = pd.read_csv(os.path.join(data_path, 'test.csv'))\n"
   ]
  },
  {
   "cell_type": "code",
   "execution_count": null,
   "id": "8435e4be",
   "metadata": {},
   "outputs": [
    {
     "name": "stdout",
     "output_type": "stream",
     "text": [
      "# classes: 169\n"
     ]
    }
   ],
   "source": [
    "IMG_SIZE = 256  # use a slightly larger resolution for the classifier\n",
    "# dataset specific stats (computed in shroom2vec_extended.ipynb)\n",
    "mean = (0.43458297848701477, 0.40228864550590515, 0.332194983959198)\n",
    "std  = (0.25477853417396545, 0.24025271832942963, 0.2363586127758026)\n",
    "\n",
    "# transforms \n",
    "train_tf = T.Compose([\n",
    "    T.RandomResizedCrop(IMG_SIZE, scale=(0.75, 1.0), ratio=(0.8, 1.25), antialias=False),\n",
    "    T.RandomHorizontalFlip(0.5),\n",
    "    T.RandomApply([T.RandomAffine(degrees=10, translate=(0.05, 0.05), scale=(0.95, 1.05))], p=0.35),\n",
    "    T.RandomApply([T.ColorJitter(0.2, 0.2, 0.2, 0.05)], p=0.35),\n",
    "    T.RandomErasing(p=0.1, scale=(0.02, 0.1), ratio=(0.3, 3.3)),  # new, mild\n",
    "    T.ToDtype(torch.float32, scale=True),\n",
    "    T.Normalize(mean, std),\n",
    "])\n",
    "val_tf = T.Compose([\n",
    "    T.Resize(IMG_SIZE, antialias=False),\n",
    "    T.CenterCrop(IMG_SIZE),\n",
    "    T.ToDtype(torch.float32, scale=True),\n",
    "    T.Normalize(mean, std),\n",
    "])\n",
    "\n",
    "# share label mapping across splits so indices are consistent\n",
    "train_ds = ShroomDataset(train_meta, data_path, transform=train_tf)\n",
    "val_ds   = ShroomDataset(val_meta,   data_path, transform=val_tf, label2idx=train_ds.label2idx)\n",
    "test_ds  = ShroomDataset(test_meta,  data_path, transform=val_tf, label2idx=train_ds.label2idx)\n",
    "\n",
    "num_classes = len(train_ds.label2idx)\n",
    "train_labels = np.asarray(train_ds.labels, dtype=np.int64)\n",
    "idx2label = {v: k for k,v in train_ds.label2idx.items()}\n",
    "\n",
    "from ShroomDataset import ClassBalancedBatchSampler\n",
    "\n",
    "classes_per_batch = 32\n",
    "images_per_class  = 4\n",
    "steps = int(np.ceil(150_000 / (classes_per_batch * images_per_class)))\n",
    "cb_sampler = ClassBalancedBatchSampler(\n",
    "    labels=np.asarray(train_ds.labels, dtype=np.int64),\n",
    "    classes_per_batch=classes_per_batch,\n",
    "    images_per_class=images_per_class,\n",
    "    steps=steps, seed=42\n",
    ")\n",
    "print(f\"# classes: {num_classes}\")\n",
    "BATCH = 128\n",
    "\n",
    "\n",
    "DEVICE = 'mps' if torch.backends.mps.is_available() else ('cuda' if torch.cuda.is_available() else 'cpu')\n",
    "import os\n",
    "NUM_WORKERS = min(8, max(1, (os.cpu_count() or 4)//2))\n",
    "PIN = (DEVICE == \"cuda\")  # False on MPS\n",
    "PREFETCH = 2 if NUM_WORKERS > 0 else None\n",
    "\n",
    "cls_train_loader_kwargs = dict(\n",
    "    batch_sampler=cb_sampler,\n",
    "    num_workers=NUM_WORKERS,\n",
    "    persistent_workers=(NUM_WORKERS > 0),\n",
    "    pin_memory=PIN,\n",
    ")\n",
    "if PREFETCH is not None:\n",
    "    cls_train_loader_kwargs[\"prefetch_factor\"] = PREFETCH\n",
    "\n",
    "cls_val_loader_kwargs = dict(\n",
    "    batch_size=BATCH,\n",
    "    shuffle=False,\n",
    "    num_workers=NUM_WORKERS,\n",
    "    persistent_workers=(NUM_WORKERS > 0),\n",
    "    pin_memory=PIN,\n",
    ")\n",
    "if PREFETCH is not None:\n",
    "    cls_val_loader_kwargs[\"prefetch_factor\"] = PREFETCH\n",
    "\n",
    "cls_test_loader_kwargs = dict(\n",
    "    batch_size=BATCH,\n",
    "    shuffle=False,\n",
    "    num_workers=NUM_WORKERS,\n",
    "    persistent_workers=(NUM_WORKERS > 0),\n",
    "    pin_memory=PIN,\n",
    ")\n",
    "if PREFETCH is not None:\n",
    "    cls_test_loader_kwargs[\"prefetch_factor\"] = PREFETCH\n",
    "\n",
    "cls_train_loader = DataLoader(train_ds, **cls_train_loader_kwargs)\n",
    "cls_val_loader   = DataLoader(val_ds,   **cls_val_loader_kwargs)\n",
    "cls_test_loader  = DataLoader(test_ds,  **cls_test_loader_kwargs)"
   ]
  },
  {
   "cell_type": "code",
   "execution_count": null,
   "id": "49f33416",
   "metadata": {},
   "outputs": [],
   "source": [
    "class EncoderFromBackbone(nn.Module):\n",
    "    \"\"\"Wraps the CNN backbone to expose the penultimate feature vector\"\"\"\n",
    "    def __init__(self, backbone: nn.Module, feat_bn: bool = True):\n",
    "        super().__init__()\n",
    "        self.stem = getattr(backbone, 'stem', nn.Identity())\n",
    "        self.body = backbone.model\n",
    "        self.pool = backbone.global_pool\n",
    "        self.flatten = nn.Flatten()\n",
    "\n",
    "        # Prefer feature dim provided by backbone; fallback to first Linear in classifier.\n",
    "        out_dim = getattr(backbone, 'feat_dim', None)\n",
    "        if out_dim is None:\n",
    "            first_linear = None\n",
    "            for m in getattr(backbone, 'classifier', []):\n",
    "                if isinstance(m, nn.Linear):\n",
    "                    first_linear = m\n",
    "                    break\n",
    "            assert first_linear is not None, \"Couldn't infer feature dim: set backbone.feat_dim or start classifier with a Linear.\"\n",
    "            out_dim = first_linear.in_features\n",
    "\n",
    "        self.out_dim = int(out_dim)\n",
    "        self.bn = nn.BatchNorm1d(self.out_dim) if feat_bn else nn.Identity()\n",
    "\n",
    "    def forward(self, x):\n",
    "        x = self.stem(x)\n",
    "        x = self.body(x)\n",
    "        x = self.pool(x)\n",
    "        x = self.flatten(x)\n",
    "        x = x.contiguous()\n",
    "        x = self.bn(x)\n",
    "        return x"
   ]
  },
  {
   "cell_type": "code",
   "execution_count": null,
   "id": "857cfc0f",
   "metadata": {},
   "outputs": [
    {
     "name": "stdout",
     "output_type": "stream",
     "text": [
      "feat_dim = 480\n"
     ]
    }
   ],
   "source": [
    "\n",
    "def build_backbone_expressive():\n",
    "    return ShroomCNNAttentive(\n",
    "        in_ch=3,\n",
    "        block_cfgs=[\n",
    "            (64,True, False,True,True),\n",
    "            (128,True, False,True,True),\n",
    "            (256,True, True, True,True),\n",
    "            (320,True, False,True,True),\n",
    "            (384, True, True, True, True),\n",
    "        ],\n",
    "        mlp_units=[1024, 512],\n",
    "        num_classes=num_classes,     # ignored by EncoderFromBackbone\n",
    "        global_pool=\"gem\",\n",
    "        width_mult=1.25\n",
    "    )\n",
    "\n"
   ]
  },
  {
   "cell_type": "code",
   "execution_count": null,
   "id": "c9751d72",
   "metadata": {},
   "outputs": [
    {
     "name": "stdout",
     "output_type": "stream",
     "text": [
      "feat_dim = 480\n"
     ]
    }
   ],
   "source": [
    "# load pretrained encoder weights\n",
    "ENC_PATH = \"encoder_supcon_v2_best.pth\"\n",
    "enc_state_dict = torch.load(ENC_PATH, map_location=\"cpu\")\n",
    "\n",
    "_tmp = EncoderFromBackbone(build_backbone_expressive())\n",
    "feat_dim = _tmp.out_dim     # should print 480\n",
    "del _tmp\n",
    "print(\"feat_dim =\", feat_dim)"
   ]
  },
  {
   "cell_type": "code",
   "execution_count": null,
   "id": "b25a9404",
   "metadata": {},
   "outputs": [],
   "source": [
    "class LinearProbe(nn.Module):\n",
    "    \"\"\"Linear probe with a small MLP head on frozen encoder features\"\"\"\n",
    "    def __init__(self, backbone_ctor, encoder_state_dict, feat_dim, num_classes):\n",
    "        super().__init__()\n",
    "        backbone = backbone_ctor()\n",
    "        self.encoder = EncoderFromBackbone(backbone)\n",
    "        self.encoder.load_state_dict(encoder_state_dict, strict=True)\n",
    "        for p in self.encoder.parameters(): \n",
    "            p.requires_grad = False\n",
    "        try:\n",
    "            self.encoder = self.encoder.to(memory_format=torch.channels_last)\n",
    "        except Exception:\n",
    "            pass\n",
    "\n",
    "        self.head = nn.Sequential(\n",
    "            nn.Linear(feat_dim, 512), nn.ReLU(inplace=True), nn.Dropout(0.4),\n",
    "            nn.Linear(512, num_classes)\n",
    "        )\n",
    "    def forward(self, x):\n",
    "        with torch.no_grad():\n",
    "            f = self.encoder(x)\n",
    "        return self.head(f)\n",
    "    \n",
    "class ClassifierWithEncoder(nn.Module):\n",
    "    \"\"\"\n",
    "    Fine-tuning wrapper that can unfreeze encoder blocks while\n",
    "    training a classification head.\n",
    "    \"\"\"\n",
    "    def __init__(self, backbone_ctor, encoder_state_dict, feat_dim, num_classes):\n",
    "        super().__init__()\n",
    "        backbone = backbone_ctor()\n",
    "        self.encoder = EncoderFromBackbone(backbone)\n",
    "        self.encoder.load_state_dict(encoder_state_dict, strict=True)\n",
    "        try:\n",
    "            self.encoder = self.encoder.to(memory_format=torch.channels_last)\n",
    "        except Exception:\n",
    "            pass\n",
    "        self.head = nn.Sequential(\n",
    "            nn.Linear(feat_dim, 512), nn.ReLU(inplace=True), nn.Dropout(0.4),\n",
    "            nn.Linear(512, num_classes)\n",
    "        )\n",
    "\n",
    "    def freeze_encoder(self):\n",
    "        for p in self.encoder.parameters(): p.requires_grad = False\n",
    "\n",
    "    def unfreeze_last_k(self, k=2, bn_affine=True, bn_stats_train=False):\n",
    "        # unfreeze last k blocks in encoder.body \n",
    "        modules = list(self.encoder.body.children())\n",
    "        for m in modules[-k:]:\n",
    "            for p in m.parameters(): p.requires_grad = True\n",
    "\n",
    "        \n",
    "        for m in self.encoder.modules():\n",
    "            if isinstance(m, (nn.BatchNorm2d, nn.BatchNorm1d)):\n",
    "                if bn_affine:\n",
    "                    if m.weight is not None: m.weight.requires_grad = True\n",
    "                    if m.bias  is not None: m.bias.requires_grad  = True\n",
    "                if not bn_stats_train:\n",
    "                    m.eval()   # keep running stats fixed for small batches\n",
    "    def unfreeze_all(self, bn_affine=True, bn_stats_train=False):\n",
    "        for p in self.encoder.parameters():\n",
    "            p.requires_grad = True\n",
    "        for m in self.encoder.modules():\n",
    "            if isinstance(m, (nn.BatchNorm2d, nn.BatchNorm1d)):\n",
    "                if bn_affine:\n",
    "                    if m.weight is not None: m.weight.requires_grad = True\n",
    "                    if m.bias  is not None: m.bias.requires_grad  = True\n",
    "                if not bn_stats_train:\n",
    "                    m.eval()\n",
    "                    \n",
    "    def forward(self, x):\n",
    "        f = self.encoder(x)     # encoder is allowed to grad if unfrozen\n",
    "        return self.head(f)"
   ]
  },
  {
   "cell_type": "code",
   "execution_count": null,
   "id": "b23f6c85",
   "metadata": {},
   "outputs": [],
   "source": [
    "# [MixUp: Zhang et al., 2018]  [CutMix: Yun et al., 2019]\n",
    "\n",
    "def _rand_bbox(H, W, lam, device):\n",
    "    \"\"\"CutMix bbox. lam is area keep ratio; we cut area (1-lam).\"\"\"\n",
    "    cut_rat = math.sqrt(1.0 - lam)\n",
    "    cut_w = int(W * cut_rat)\n",
    "    cut_h = int(H * cut_rat)\n",
    "\n",
    "    # uniform center\n",
    "    cx = torch.randint(0, W, (1,), device=device).item()\n",
    "    cy = torch.randint(0, H, (1,), device=device).item()\n",
    "\n",
    "    x1 = max(cx - cut_w // 2, 0)\n",
    "    y1 = max(cy - cut_h // 2, 0)\n",
    "    x2 = min(cx + cut_w // 2, W)\n",
    "    y2 = min(cy + cut_h // 2, H)\n",
    "    return x1, y1, x2, y2\n",
    "\n",
    "def mixup_or_cutmix(x, y, mixup_alpha=0.2, cutmix_alpha=1.0, p_cutmix=0.3):\n",
    "    \"\"\"\n",
    "    Returns:\n",
    "      x_aug, y_a, lam, y_b\n",
    "    If CutMix not triggered/supported, falls back to MixUp (if alpha>0), else identity.\n",
    "    \"\"\"\n",
    "    if (p_cutmix > 0.0 and cutmix_alpha > 0.0) and (np.random.rand() < p_cutmix):\n",
    "        # ---- CutMix ----\n",
    "        lam = np.random.beta(cutmix_alpha, cutmix_alpha)\n",
    "        B, C, H, W = x.shape\n",
    "        idx = torch.randperm(B, device=x.device)\n",
    "        x1, y1, x2, y2 = _rand_bbox(H, W, lam, x.device)\n",
    "        x[:, :, y1:y2, x1:x2] = x[idx, :, y1:y2, x1:x2]\n",
    "        # adjust lam to the exact pixel ratio actually replaced\n",
    "        lam = 1.0 - ((x2 - x1) * (y2 - y1) / float(H * W))\n",
    "        return x, y, lam, y[idx]\n",
    "    elif mixup_alpha and mixup_alpha > 0.0:\n",
    "        # ---- MixUp ----\n",
    "        lam = np.random.beta(mixup_alpha, mixup_alpha)\n",
    "        idx = torch.randperm(x.size(0), device=x.device)\n",
    "        x = lam * x + (1.0 - lam) * x[idx]\n",
    "        return x, y, lam, y[idx]\n",
    "    else:\n",
    "        # identity\n",
    "        return x, y, 1.0, y\n",
    "    \n",
    "\n",
    "class BalancedSoftmaxCE(nn.Module):\n",
    "    \"\"\"Balanced Softmax Cross-Entropy (Ren et al., NeurIPS 2020)\"\"\"\n",
    "    def __init__(self, counts, label_smoothing=0.1):\n",
    "        super().__init__()\n",
    "        counts = np.asarray(counts, dtype=np.float32)\n",
    "        counts[counts<=0] = 1.0\n",
    "        pri = torch.tensor(counts, dtype=torch.float32)\n",
    "        self.register_buffer(\"log_count\", pri.log().unsqueeze(0))\n",
    "        self.ls = label_smoothing\n",
    "    def forward(self, logits, target):\n",
    "        return F.cross_entropy(logits + self.log_count, target, label_smoothing=self.ls)"
   ]
  },
  {
   "cell_type": "code",
   "execution_count": null,
   "id": "0af32aae",
   "metadata": {},
   "outputs": [],
   "source": [
    "from torch.optim import AdamW\n",
    "from math import pi\n",
    "\n",
    "\n",
    "def train_probe(model, train_loader, val_loader, epochs=15, base_lr=1e-3, weight_decay=1e-4,\n",
    "                mixup_alpha=0.2, mixup_alpha_end=0.05,    # decays linearly to end\n",
    "                cutmix_alpha=1.0, p_cutmix=0.25):\n",
    "    \n",
    "    \"\"\"\n",
    "    Linear-probe training on frozen encoder:\n",
    "     - BalancedSoftmaxCE to mitigate class imbalance\n",
    "     - Cosine LR decay with short warmup [cosine schedule popularized by SGDR, Loshchilov & Hutter, 2017]\n",
    "     - MixUp/CutMix regularization\n",
    "    \"\"\"\n",
    "        \n",
    "    device = DEVICE\n",
    "    model.to(device)\n",
    "\n",
    "\n",
    "    sp_counts = np.bincount(np.asarray(train_ds.labels, dtype=np.int64), minlength=num_classes)\n",
    "    criterion = BalancedSoftmaxCE(sp_counts, label_smoothing=0.1).to(DEVICE)\n",
    "\n",
    "    opt  = AdamW(model.head.parameters(), lr=base_lr, weight_decay=weight_decay)\n",
    "\n",
    "    steps_per_epoch = max(1, len(train_loader))\n",
    "    warmup_steps = steps_per_epoch * 1\n",
    "    total_steps  = steps_per_epoch * epochs\n",
    "    def lr_lambda(step):\n",
    "        if step < warmup_steps:\n",
    "            return (step + 1) / max(1, warmup_steps)\n",
    "        t = (step - warmup_steps) / max(1, total_steps - warmup_steps)\n",
    "        return 0.5 * (1 + np.cos(np.pi * t))\n",
    "    sched = optim.lr_scheduler.LambdaLR(opt, lr_lambda=lr_lambda)\n",
    "\n",
    "    use_amp = (device == \"cuda\")\n",
    "    if use_amp:\n",
    "        bf16_ok = torch.cuda.is_bf16_supported()\n",
    "        amp_dtype = torch.bfloat16 if bf16_ok else torch.float16\n",
    "        scaler = torch.amp.GradScaler(enabled=not bf16_ok)\n",
    "    else:\n",
    "        amp_dtype = None\n",
    "        scaler = None\n",
    "\n",
    "    best_loss=float('inf'); best_sd=None\n",
    "    history = []\n",
    "    global_step = 0\n",
    "\n",
    "    for ep in range(1, epochs+1):\n",
    "        model.train(); runL=acc=n=0\n",
    "        for x,y in tqdm(train_loader, desc=f\"Probe {ep}/{epochs}\", leave=False):\n",
    "            x = x.to(device, non_blocking=True)\n",
    "            y = y.to(device, non_blocking=True)\n",
    "\n",
    "            # Linearly decay mixup over training\n",
    "            frac = min(1.0, global_step / max(1, total_steps - 1))\n",
    "            mix_now = mixup_alpha + (mixup_alpha_end - mixup_alpha) * frac\n",
    "            x_aug, ya, lam, yb = mixup_or_cutmix(x, y, mixup_alpha=mix_now,\n",
    "                                                 cutmix_alpha=cutmix_alpha, p_cutmix=p_cutmix)\n",
    "\n",
    "            opt.zero_grad(set_to_none=True)\n",
    "            if use_amp:\n",
    "                with torch.autocast(device_type=\"cuda\", dtype=amp_dtype):\n",
    "                    out = model(x_aug)\n",
    "                    loss = lam*criterion(out, ya) + (1-lam)*criterion(out, yb)\n",
    "                scaler.scale(loss).backward()\n",
    "                scaler.step(opt); scaler.update()\n",
    "            else:\n",
    "                out = model(x_aug)\n",
    "                loss = lam*criterion(out, ya) + (1-lam)*criterion(out, yb)\n",
    "                loss.backward(); opt.step()\n",
    "\n",
    "            sched.step(); global_step += 1\n",
    "\n",
    "            runL += float(loss)*y.size(0); acc += (out.argmax(1)==y).sum().item(); n += y.size(0)\n",
    "\n",
    "        trL, trA = runL/n, acc/n\n",
    "\n",
    "        model.eval(); vL=vA=m=0\n",
    "        with torch.no_grad():\n",
    "            for x,y in tqdm(val_loader, desc=f\"Probe {ep}/{epochs}\", leave=False):\n",
    "                x = x.to(device, non_blocking=True)\n",
    "                y = y.to(device, non_blocking=True)\n",
    "                out = model(x)\n",
    "                vL += float(criterion(out,y))*y.size(0)\n",
    "                vA += (out.argmax(1)==y).sum().item(); m += y.size(0)\n",
    "        vL, vA = vL/m, vA/m\n",
    "        if vL < best_loss - 1e-4:\n",
    "            best_loss=vL; best_sd={k:v.cpu().clone() for k,v in model.state_dict().items()}\n",
    "        curr_lr = sched.get_last_lr()[0]\n",
    "        print(f\"Epoch {ep:3d}/{epochs:3d} | Train {trL:.4f}/{trA:.4f} | Val {vL:.4f}/{vA:.4f} | LR {curr_lr:.2e}\")\n",
    "        history.append((trL, trA, vL, vA))\n",
    "        if DEVICE == \"mps\":\n",
    "            try:\n",
    "                torch.mps.synchronize()\n",
    "                torch.mps.empty_cache()\n",
    "            except Exception:\n",
    "                pass\n",
    "\n",
    "    if best_sd: model.load_state_dict(best_sd)\n",
    "    return model, history\n",
    "\n",
    "def fine_tune(model, train_loader, val_loader, epochs=10,\n",
    "              lr_head=5e-4, lr_enc=5e-5,\n",
    "              weight_decay_head=1e-4, weight_decay_enc=5e-5,\n",
    "              mixup_alpha=0.2, mixup_alpha_end=0.05,\n",
    "              cutmix_alpha=1.0, p_cutmix=0.25):\n",
    "    \"\"\"\n",
    "    End-to-end fine-tuning:\n",
    "      - Separate LR/WD for encoder (smaller) vs head\n",
    "      - Cosine LR decay (single cycle) with short warmup\n",
    "      - MixUp/CutMix\n",
    "      - Gradient clipping for stability\n",
    "    \"\"\"\n",
    "        \n",
    "    device = DEVICE\n",
    "    model.to(device)\n",
    "\n",
    "    sp_counts = np.bincount(np.asarray(train_ds.labels, dtype=np.int64), minlength=num_classes)\n",
    "    criterion = BalancedSoftmaxCE(sp_counts, label_smoothing=0.1).to(DEVICE)\n",
    "\n",
    "    # encoder param groups\n",
    "    enc_params_decay, enc_params_nod = [], []\n",
    "    for m in model.encoder.modules():\n",
    "        for n, p in m.named_parameters(recurse=False):\n",
    "            if not p.requires_grad: \n",
    "                continue\n",
    "            if isinstance(m, (nn.BatchNorm1d, nn.BatchNorm2d, nn.GroupNorm, nn.LayerNorm)) or n.endswith(\"bias\"):\n",
    "                enc_params_nod.append(p)\n",
    "            else:\n",
    "                enc_params_decay.append(p)\n",
    "    head_params = list(model.head.parameters())\n",
    "\n",
    "    param_groups = []\n",
    "    if enc_params_decay: param_groups.append({\"params\": enc_params_decay, \"lr\": lr_enc, \"weight_decay\": weight_decay_enc})\n",
    "    if enc_params_nod:   param_groups.append({\"params\": enc_params_nod,   \"lr\": lr_enc, \"weight_decay\": 0.0})\n",
    "    param_groups.append({\"params\": head_params, \"lr\": lr_head, \"weight_decay\": weight_decay_head})\n",
    "\n",
    "    opt = optim.AdamW(param_groups)\n",
    "\n",
    "    steps_per_epoch = max(1, len(train_loader))\n",
    "    warmup_steps = steps_per_epoch * 1\n",
    "    total_steps  = steps_per_epoch * epochs\n",
    "    def lr_lambda(step):\n",
    "        if step < warmup_steps: return (step + 1) / max(1, warmup_steps)\n",
    "        t = (step - warmup_steps) / max(1, total_steps - warmup_steps)\n",
    "        return 0.5 * (1 + np.cos(np.pi * t))\n",
    "    sched = optim.lr_scheduler.LambdaLR(opt, lr_lambda=lr_lambda)\n",
    "\n",
    "    use_amp = (DEVICE == \"cuda\")\n",
    "    if use_amp:\n",
    "        bf16_ok = torch.cuda.is_bf16_supported()\n",
    "        amp_dtype = torch.bfloat16 if bf16_ok else torch.float16\n",
    "        scaler = torch.amp.GradScaler(enabled=not bf16_ok)\n",
    "    else:\n",
    "        amp_dtype = None\n",
    "        scaler = None\n",
    "\n",
    "    best = {\"vloss\": float(\"inf\"), \"sd\": None}\n",
    "    hist = []\n",
    "    global_step = 0\n",
    "\n",
    "    for ep in range(1, epochs+1):\n",
    "        model.train(); runL=acc=n=0\n",
    "\n",
    "        for x,y in tqdm(train_loader, desc=f\"FT {ep}/{epochs}\", leave=False):\n",
    "            x = x.to(device, non_blocking=True)\n",
    "            y = y.to(device, non_blocking=True)\n",
    "\n",
    "            # linear decay of mixup strength to end\n",
    "            frac = min(1.0, global_step / max(1, total_steps - 1))\n",
    "            mix_now = mixup_alpha + (mixup_alpha_end - mixup_alpha) * frac\n",
    "            x_aug, ya, lam, yb = mixup_or_cutmix(\n",
    "                x, y,\n",
    "                mixup_alpha=mix_now,\n",
    "                cutmix_alpha=cutmix_alpha, p_cutmix=p_cutmix\n",
    "            )\n",
    "\n",
    "            opt.zero_grad(set_to_none=True)\n",
    "            if use_amp:\n",
    "                with torch.autocast(device_type=\"cuda\", dtype=amp_dtype):\n",
    "                    out  = model(x_aug)\n",
    "                    loss = lam*criterion(out, ya) + (1-lam)*criterion(out, yb)\n",
    "                scaler.scale(loss).backward()\n",
    "                torch.nn.utils.clip_grad_norm_(model.parameters(), 1.0)\n",
    "                scaler.step(opt); scaler.update()\n",
    "            else:\n",
    "                out  = model(x_aug)\n",
    "                loss = lam*criterion(out, ya) + (1-lam)*criterion(out, yb)\n",
    "                loss.backward()\n",
    "                torch.nn.utils.clip_grad_norm_(model.parameters(), 1.0)\n",
    "                opt.step()\n",
    "\n",
    "            sched.step(); global_step += 1\n",
    "\n",
    "            runL += float(loss)*y.size(0); acc += (out.argmax(1)==y).sum().item(); n += y.size(0)\n",
    "\n",
    "        trL, trA = runL/max(1,n), acc/max(1,n)\n",
    "\n",
    "        # validation\n",
    "        model.eval(); vL=vA=m=0\n",
    "        with torch.no_grad():\n",
    "            for x,y in tqdm(val_loader, desc=f\"Probe {ep}/{epochs}\", leave=False):\n",
    "                x = x.to(device, non_blocking=True)\n",
    "                y = y.to(device, non_blocking=True)\n",
    "                out = model(x)\n",
    "                vL += float(criterion(out,y))*y.size(0)\n",
    "                vA += (out.argmax(1)==y).sum().item(); m += y.size(0)\n",
    "        vL, vA = vL/max(1,m), vA/max(1,m)\n",
    "\n",
    "        if vL < best[\"vloss\"] - 1e-4:\n",
    "            best[\"vloss\"] = vL\n",
    "            best[\"sd\"] = {k: v.detach().cpu().clone() for k,v in model.state_dict().items()}\n",
    "\n",
    "        print(f\"Epoch {ep:2d}/{epochs:2d} | Train {trL:.4f}/{trA:.4f} | Val {vL:.4f}/{vA:.4f} | \"\n",
    "              f\"LR(enc/head) {[pg['lr'] for pg in opt.param_groups[:-1]] + [opt.param_groups[-1]['lr']]}\")\n",
    "\n",
    "        hist.append((trL,trA,vL,vA))\n",
    "        if DEVICE == \"mps\":\n",
    "            try:\n",
    "                torch.mps.synchronize()\n",
    "                torch.mps.empty_cache()\n",
    "            except Exception:\n",
    "                pass\n",
    "\n",
    "    if best[\"sd\"] is not None:\n",
    "        model.load_state_dict(best[\"sd\"])\n",
    "    return model, hist"
   ]
  },
  {
   "cell_type": "code",
   "execution_count": null,
   "id": "78aab542",
   "metadata": {},
   "outputs": [],
   "source": [
    "@torch.no_grad()\n",
    "def evaluate_classifier(model, loader, classes, tta_hflip=True):\n",
    "    \"\"\"\n",
    "    Standard eval: top-1/“top-3” (min(3, C)), weighted F1/precision/recall.\n",
    "    \"\"\"\n",
    "    device = DEVICE\n",
    "    model.to(device).eval()\n",
    "    y_true, y_pred, y_logits = [], [], []\n",
    "    for x, y in loader:\n",
    "        x = x.to(device, non_blocking=True).contiguous(memory_format=torch.channels_last)\n",
    "        y = y.to(device, non_blocking=True)\n",
    "\n",
    "        logits = model(x)\n",
    "        if tta_hflip:\n",
    "            xf = torch.flip(x, dims=[-1])\n",
    "            logits = logits + model(xf)\n",
    "            logits = logits * 0.5\n",
    "\n",
    "        preds = logits.argmax(1)\n",
    "        y_logits.append(logits.cpu()); y_pred.append(preds.cpu()); y_true.append(y.cpu())\n",
    "    y_true  = torch.cat(y_true).numpy()\n",
    "    y_pred  = torch.cat(y_pred).numpy()\n",
    "    y_logits= torch.cat(y_logits).numpy()\n",
    "    num_classes = len(classes)\n",
    "    return dict(\n",
    "        top1=accuracy_score(y_true, y_pred),\n",
    "        top3=top_k_accuracy_score(y_true, y_logits, k=min(3, num_classes), labels=list(range(num_classes))),\n",
    "        f1=f1_score(y_true, y_pred, average='weighted', zero_division=0),\n",
    "        precision=precision_score(y_true, y_pred, average='weighted', zero_division=0),\n",
    "        recall=recall_score(y_true, y_pred, average='weighted', zero_division=0),\n",
    "    )"
   ]
  },
  {
   "cell_type": "code",
   "execution_count": 10,
   "id": "f23c6c03",
   "metadata": {},
   "outputs": [
    {
     "data": {
      "application/vnd.jupyter.widget-view+json": {
       "model_id": "00e85eb95a47450a9de16e249cca0ff6",
       "version_major": 2,
       "version_minor": 0
      },
      "text/plain": [
       "Probe 1/16:   0%|          | 0/1172 [00:10<?, ?it/s]"
      ]
     },
     "metadata": {},
     "output_type": "display_data"
    },
    {
     "data": {
      "application/vnd.jupyter.widget-view+json": {
       "model_id": "52552a6593044504958dd142a4de0f28",
       "version_major": 2,
       "version_minor": 0
      },
      "text/plain": [
       "Probe 1/16:   0%|          | 0/122 [00:09<?, ?it/s]"
      ]
     },
     "metadata": {},
     "output_type": "display_data"
    },
    {
     "name": "stdout",
     "output_type": "stream",
     "text": [
      "Epoch   1/ 16 | Train 2.9568/0.3201 | Val 1.9410/0.6881 | LR 5.00e-03\n"
     ]
    },
    {
     "data": {
      "application/vnd.jupyter.widget-view+json": {
       "model_id": "17856696f6d1462d9a2305769dc39b25",
       "version_major": 2,
       "version_minor": 0
      },
      "text/plain": [
       "Probe 2/16:   0%|          | 0/1172 [00:00<?, ?it/s]"
      ]
     },
     "metadata": {},
     "output_type": "display_data"
    },
    {
     "data": {
      "application/vnd.jupyter.widget-view+json": {
       "model_id": "67923c375b3041618be23f008b2abfa1",
       "version_major": 2,
       "version_minor": 0
      },
      "text/plain": [
       "Probe 2/16:   0%|          | 0/122 [00:00<?, ?it/s]"
      ]
     },
     "metadata": {},
     "output_type": "display_data"
    },
    {
     "name": "stdout",
     "output_type": "stream",
     "text": [
      "Epoch   2/ 16 | Train 2.6993/0.3679 | Val 2.1517/0.6535 | LR 4.95e-03\n"
     ]
    },
    {
     "data": {
      "application/vnd.jupyter.widget-view+json": {
       "model_id": "6b581c10866848079a643775f5597743",
       "version_major": 2,
       "version_minor": 0
      },
      "text/plain": [
       "Probe 3/16:   0%|          | 0/1172 [00:00<?, ?it/s]"
      ]
     },
     "metadata": {},
     "output_type": "display_data"
    },
    {
     "data": {
      "application/vnd.jupyter.widget-view+json": {
       "model_id": "082dc6c5993c4079af4dd47bf0fce840",
       "version_major": 2,
       "version_minor": 0
      },
      "text/plain": [
       "Probe 3/16:   0%|          | 0/122 [00:00<?, ?it/s]"
      ]
     },
     "metadata": {},
     "output_type": "display_data"
    },
    {
     "name": "stdout",
     "output_type": "stream",
     "text": [
      "Epoch   3/ 16 | Train 2.7066/0.3665 | Val 1.9442/0.7241 | LR 4.78e-03\n"
     ]
    },
    {
     "data": {
      "application/vnd.jupyter.widget-view+json": {
       "model_id": "783dc7ecb68747cfac3d2632722c2458",
       "version_major": 2,
       "version_minor": 0
      },
      "text/plain": [
       "Probe 4/16:   0%|          | 0/1172 [00:00<?, ?it/s]"
      ]
     },
     "metadata": {},
     "output_type": "display_data"
    },
    {
     "data": {
      "application/vnd.jupyter.widget-view+json": {
       "model_id": "b4ccf718c7234f139f89f385e852f22f",
       "version_major": 2,
       "version_minor": 0
      },
      "text/plain": [
       "Probe 4/16:   0%|          | 0/122 [00:00<?, ?it/s]"
      ]
     },
     "metadata": {},
     "output_type": "display_data"
    },
    {
     "name": "stdout",
     "output_type": "stream",
     "text": [
      "Epoch   4/ 16 | Train 2.6408/0.3853 | Val 1.9062/0.7148 | LR 4.52e-03\n"
     ]
    },
    {
     "data": {
      "application/vnd.jupyter.widget-view+json": {
       "model_id": "798cd50632304901a5a5ee61168acbf7",
       "version_major": 2,
       "version_minor": 0
      },
      "text/plain": [
       "Probe 5/16:   0%|          | 0/1172 [00:00<?, ?it/s]"
      ]
     },
     "metadata": {},
     "output_type": "display_data"
    },
    {
     "data": {
      "application/vnd.jupyter.widget-view+json": {
       "model_id": "85cdda5694db4795b59a45e2aabb38f3",
       "version_major": 2,
       "version_minor": 0
      },
      "text/plain": [
       "Probe 5/16:   0%|          | 0/122 [00:00<?, ?it/s]"
      ]
     },
     "metadata": {},
     "output_type": "display_data"
    },
    {
     "name": "stdout",
     "output_type": "stream",
     "text": [
      "Epoch   5/ 16 | Train 2.5620/0.3843 | Val 1.8964/0.7211 | LR 4.17e-03\n"
     ]
    },
    {
     "data": {
      "application/vnd.jupyter.widget-view+json": {
       "model_id": "6b7a697bd701407f821dacea821a2263",
       "version_major": 2,
       "version_minor": 0
      },
      "text/plain": [
       "Probe 6/16:   0%|          | 0/1172 [00:00<?, ?it/s]"
      ]
     },
     "metadata": {},
     "output_type": "display_data"
    },
    {
     "data": {
      "application/vnd.jupyter.widget-view+json": {
       "model_id": "da6419890f904f5c86931bea96dd3182",
       "version_major": 2,
       "version_minor": 0
      },
      "text/plain": [
       "Probe 6/16:   0%|          | 0/122 [00:00<?, ?it/s]"
      ]
     },
     "metadata": {},
     "output_type": "display_data"
    },
    {
     "name": "stdout",
     "output_type": "stream",
     "text": [
      "Epoch   6/ 16 | Train 2.5677/0.3831 | Val 1.8822/0.7243 | LR 3.75e-03\n"
     ]
    },
    {
     "data": {
      "application/vnd.jupyter.widget-view+json": {
       "model_id": "819992fb49464d759e94d75a1ad4d5a4",
       "version_major": 2,
       "version_minor": 0
      },
      "text/plain": [
       "Probe 7/16:   0%|          | 0/1172 [00:00<?, ?it/s]"
      ]
     },
     "metadata": {},
     "output_type": "display_data"
    },
    {
     "data": {
      "application/vnd.jupyter.widget-view+json": {
       "model_id": "3a3723beb03e486998d845323cf8efe7",
       "version_major": 2,
       "version_minor": 0
      },
      "text/plain": [
       "Probe 7/16:   0%|          | 0/122 [00:00<?, ?it/s]"
      ]
     },
     "metadata": {},
     "output_type": "display_data"
    },
    {
     "name": "stdout",
     "output_type": "stream",
     "text": [
      "Epoch   7/ 16 | Train 2.4685/0.4079 | Val 1.9063/0.7152 | LR 3.27e-03\n"
     ]
    },
    {
     "data": {
      "application/vnd.jupyter.widget-view+json": {
       "model_id": "c160f6914d164662b6e9296a15c33a7d",
       "version_major": 2,
       "version_minor": 0
      },
      "text/plain": [
       "Probe 8/16:   0%|          | 0/1172 [00:00<?, ?it/s]"
      ]
     },
     "metadata": {},
     "output_type": "display_data"
    },
    {
     "data": {
      "application/vnd.jupyter.widget-view+json": {
       "model_id": "38bca1c353cc45409e9197fc57328aff",
       "version_major": 2,
       "version_minor": 0
      },
      "text/plain": [
       "Probe 8/16:   0%|          | 0/122 [00:00<?, ?it/s]"
      ]
     },
     "metadata": {},
     "output_type": "display_data"
    },
    {
     "name": "stdout",
     "output_type": "stream",
     "text": [
      "Epoch   8/ 16 | Train 2.4956/0.4222 | Val 1.7844/0.7435 | LR 2.76e-03\n"
     ]
    },
    {
     "data": {
      "application/vnd.jupyter.widget-view+json": {
       "model_id": "5ad2aacdba084afab90619e0b52daa2c",
       "version_major": 2,
       "version_minor": 0
      },
      "text/plain": [
       "Probe 9/16:   0%|          | 0/1172 [00:00<?, ?it/s]"
      ]
     },
     "metadata": {},
     "output_type": "display_data"
    },
    {
     "data": {
      "application/vnd.jupyter.widget-view+json": {
       "model_id": "e0a20ffe324e49d6839d5e4ede242625",
       "version_major": 2,
       "version_minor": 0
      },
      "text/plain": [
       "Probe 9/16:   0%|          | 0/122 [00:00<?, ?it/s]"
      ]
     },
     "metadata": {},
     "output_type": "display_data"
    },
    {
     "name": "stdout",
     "output_type": "stream",
     "text": [
      "Epoch   9/ 16 | Train 2.3960/0.3964 | Val 1.7688/0.7480 | LR 2.24e-03\n"
     ]
    },
    {
     "data": {
      "application/vnd.jupyter.widget-view+json": {
       "model_id": "76461c1257154950afbf8e260ac60dd2",
       "version_major": 2,
       "version_minor": 0
      },
      "text/plain": [
       "Probe 10/16:   0%|          | 0/1172 [00:00<?, ?it/s]"
      ]
     },
     "metadata": {},
     "output_type": "display_data"
    },
    {
     "data": {
      "application/vnd.jupyter.widget-view+json": {
       "model_id": "7b2a3759c3694b00acb85aa7bbae90c6",
       "version_major": 2,
       "version_minor": 0
      },
      "text/plain": [
       "Probe 10/16:   0%|          | 0/122 [00:00<?, ?it/s]"
      ]
     },
     "metadata": {},
     "output_type": "display_data"
    },
    {
     "name": "stdout",
     "output_type": "stream",
     "text": [
      "Epoch  10/ 16 | Train 2.3481/0.4087 | Val 1.8418/0.7336 | LR 1.73e-03\n"
     ]
    },
    {
     "data": {
      "application/vnd.jupyter.widget-view+json": {
       "model_id": "a9cbc5f0bb3345fb986ca5a9acc24d91",
       "version_major": 2,
       "version_minor": 0
      },
      "text/plain": [
       "Probe 11/16:   0%|          | 0/1172 [00:00<?, ?it/s]"
      ]
     },
     "metadata": {},
     "output_type": "display_data"
    },
    {
     "data": {
      "application/vnd.jupyter.widget-view+json": {
       "model_id": "add6f7acf4e044ef9a76cacd53e31f29",
       "version_major": 2,
       "version_minor": 0
      },
      "text/plain": [
       "Probe 11/16:   0%|          | 0/122 [00:00<?, ?it/s]"
      ]
     },
     "metadata": {},
     "output_type": "display_data"
    },
    {
     "name": "stdout",
     "output_type": "stream",
     "text": [
      "Epoch  11/ 16 | Train 2.2445/0.4215 | Val 1.8092/0.7371 | LR 1.25e-03\n"
     ]
    },
    {
     "data": {
      "application/vnd.jupyter.widget-view+json": {
       "model_id": "a1c95813a8524288b9ce0f61d3c3ad50",
       "version_major": 2,
       "version_minor": 0
      },
      "text/plain": [
       "Probe 12/16:   0%|          | 0/1172 [00:00<?, ?it/s]"
      ]
     },
     "metadata": {},
     "output_type": "display_data"
    },
    {
     "data": {
      "application/vnd.jupyter.widget-view+json": {
       "model_id": "bc75a95e1e744884afeec4e29b2111bf",
       "version_major": 2,
       "version_minor": 0
      },
      "text/plain": [
       "Probe 12/16:   0%|          | 0/122 [00:00<?, ?it/s]"
      ]
     },
     "metadata": {},
     "output_type": "display_data"
    },
    {
     "name": "stdout",
     "output_type": "stream",
     "text": [
      "Epoch  12/ 16 | Train 2.1728/0.4461 | Val 1.7714/0.7463 | LR 8.27e-04\n"
     ]
    },
    {
     "data": {
      "application/vnd.jupyter.widget-view+json": {
       "model_id": "36c339ea353445c49a500b27c3376a5a",
       "version_major": 2,
       "version_minor": 0
      },
      "text/plain": [
       "Probe 13/16:   0%|          | 0/1172 [00:00<?, ?it/s]"
      ]
     },
     "metadata": {},
     "output_type": "display_data"
    },
    {
     "data": {
      "application/vnd.jupyter.widget-view+json": {
       "model_id": "2e817af16d2e42da87fc11bf2c7fd47f",
       "version_major": 2,
       "version_minor": 0
      },
      "text/plain": [
       "Probe 13/16:   0%|          | 0/122 [00:00<?, ?it/s]"
      ]
     },
     "metadata": {},
     "output_type": "display_data"
    },
    {
     "name": "stdout",
     "output_type": "stream",
     "text": [
      "Epoch  13/ 16 | Train 2.1777/0.4345 | Val 1.7335/0.7499 | LR 4.77e-04\n"
     ]
    },
    {
     "data": {
      "application/vnd.jupyter.widget-view+json": {
       "model_id": "b3d6b6eccf00452985a8087117c7eebe",
       "version_major": 2,
       "version_minor": 0
      },
      "text/plain": [
       "Probe 14/16:   0%|          | 0/1172 [00:00<?, ?it/s]"
      ]
     },
     "metadata": {},
     "output_type": "display_data"
    },
    {
     "data": {
      "application/vnd.jupyter.widget-view+json": {
       "model_id": "06273e6419524ffbb3fdd860555c3cf2",
       "version_major": 2,
       "version_minor": 0
      },
      "text/plain": [
       "Probe 14/16:   0%|          | 0/122 [00:00<?, ?it/s]"
      ]
     },
     "metadata": {},
     "output_type": "display_data"
    },
    {
     "name": "stdout",
     "output_type": "stream",
     "text": [
      "Epoch  14/ 16 | Train 2.1473/0.4458 | Val 1.7198/0.7503 | LR 2.16e-04\n"
     ]
    },
    {
     "data": {
      "application/vnd.jupyter.widget-view+json": {
       "model_id": "ee3c8a6bc92f49fa807a80dad3e6158e",
       "version_major": 2,
       "version_minor": 0
      },
      "text/plain": [
       "Probe 15/16:   0%|          | 0/1172 [00:00<?, ?it/s]"
      ]
     },
     "metadata": {},
     "output_type": "display_data"
    },
    {
     "data": {
      "application/vnd.jupyter.widget-view+json": {
       "model_id": "0fc6269c12fe4250bd5219dcf445904b",
       "version_major": 2,
       "version_minor": 0
      },
      "text/plain": [
       "Probe 15/16:   0%|          | 0/122 [00:00<?, ?it/s]"
      ]
     },
     "metadata": {},
     "output_type": "display_data"
    },
    {
     "name": "stdout",
     "output_type": "stream",
     "text": [
      "Epoch  15/ 16 | Train 2.0640/0.4542 | Val 1.7070/0.7548 | LR 5.46e-05\n"
     ]
    },
    {
     "data": {
      "application/vnd.jupyter.widget-view+json": {
       "model_id": "0a19a84c83fb4e2893a1f9cd3a19b2d0",
       "version_major": 2,
       "version_minor": 0
      },
      "text/plain": [
       "Probe 16/16:   0%|          | 0/1172 [00:00<?, ?it/s]"
      ]
     },
     "metadata": {},
     "output_type": "display_data"
    },
    {
     "data": {
      "application/vnd.jupyter.widget-view+json": {
       "model_id": "fddb345064c94ca6857ddd09953e6186",
       "version_major": 2,
       "version_minor": 0
      },
      "text/plain": [
       "Probe 16/16:   0%|          | 0/122 [00:00<?, ?it/s]"
      ]
     },
     "metadata": {},
     "output_type": "display_data"
    },
    {
     "name": "stdout",
     "output_type": "stream",
     "text": [
      "Epoch  16/ 16 | Train 2.0266/0.4533 | Val 1.6938/0.7580 | LR 0.00e+00\n"
     ]
    },
    {
     "data": {
      "image/png": "[encoded data removed]",
      "text/plain": [
       "<Figure size 1000x400 with 1 Axes>"
      ]
     },
     "metadata": {},
     "output_type": "display_data"
    },
    {
     "data": {
      "image/png": "[encoded data removed]",
      "text/plain": [
       "<Figure size 1000x400 with 1 Axes>"
      ]
     },
     "metadata": {},
     "output_type": "display_data"
    }
   ],
   "source": [
    "probe = LinearProbe(build_backbone_expressive, enc_state_dict, feat_dim, num_classes=num_classes)\n",
    "probe, history = train_probe(probe, cls_train_loader, cls_val_loader, epochs=16, base_lr=5e-3)\n",
    "\n",
    "plt.figure(figsize=(10,4))\n",
    "plt.plot([h[0] for h in history], label='Train loss')\n",
    "plt.plot([h[2] for h in history], label='Val loss')\n",
    "plt.legend(); plt.show()\n",
    "plt.figure(figsize=(10,4))\n",
    "plt.plot([h[1] for h in history], label='Train acc')\n",
    "plt.plot([h[3] for h in history], label='Val acc')\n",
    "plt.legend(); plt.show()\n",
    "\n"
   ]
  },
  {
   "cell_type": "code",
   "execution_count": 11,
   "id": "bc9b6d05",
   "metadata": {},
   "outputs": [
    {
     "name": "stdout",
     "output_type": "stream",
     "text": [
      "Loaded probe head into fine-tune model.\n"
     ]
    },
    {
     "data": {
      "application/vnd.jupyter.widget-view+json": {
       "model_id": "032f7d7a85354e569ae916194ef71831",
       "version_major": 2,
       "version_minor": 0
      },
      "text/plain": [
       "FT 1/13:   0%|          | 0/1172 [00:00<?, ?it/s]"
      ]
     },
     "metadata": {},
     "output_type": "display_data"
    },
    {
     "data": {
      "application/vnd.jupyter.widget-view+json": {
       "model_id": "4406ee263de740c59d26a6dfdb6fb60b",
       "version_major": 2,
       "version_minor": 0
      },
      "text/plain": [
       "Probe 1/13:   0%|          | 0/122 [00:00<?, ?it/s]"
      ]
     },
     "metadata": {},
     "output_type": "display_data"
    },
    {
     "name": "stdout",
     "output_type": "stream",
     "text": [
      "Epoch  1/13 | Train 2.1380/0.4128 | Val 1.6513/0.7691 | LR(enc/head) [0.0001, 0.0001, 0.001]\n"
     ]
    },
    {
     "data": {
      "application/vnd.jupyter.widget-view+json": {
       "model_id": "b24fdad6470643a6ab49ba9af1578f81",
       "version_major": 2,
       "version_minor": 0
      },
      "text/plain": [
       "FT 2/13:   0%|          | 0/1172 [00:00<?, ?it/s]"
      ]
     },
     "metadata": {},
     "output_type": "display_data"
    },
    {
     "data": {
      "application/vnd.jupyter.widget-view+json": {
       "model_id": "0dec14c7627244578e4d7b546fb35e39",
       "version_major": 2,
       "version_minor": 0
      },
      "text/plain": [
       "Probe 2/13:   0%|          | 0/122 [00:00<?, ?it/s]"
      ]
     },
     "metadata": {},
     "output_type": "display_data"
    },
    {
     "name": "stdout",
     "output_type": "stream",
     "text": [
      "Epoch  2/13 | Train 1.9749/0.4433 | Val 1.6631/0.7792 | LR(enc/head) [9.829629131445342e-05, 9.829629131445342e-05, 0.0009829629131445341]\n"
     ]
    },
    {
     "data": {
      "application/vnd.jupyter.widget-view+json": {
       "model_id": "83b7c5172b0546d489c3c433ef02645b",
       "version_major": 2,
       "version_minor": 0
      },
      "text/plain": [
       "FT 3/13:   0%|          | 0/1172 [00:00<?, ?it/s]"
      ]
     },
     "metadata": {},
     "output_type": "display_data"
    },
    {
     "data": {
      "application/vnd.jupyter.widget-view+json": {
       "model_id": "2c5435ff20dc432586dc5216e49448ee",
       "version_major": 2,
       "version_minor": 0
      },
      "text/plain": [
       "Probe 3/13:   0%|          | 0/122 [00:00<?, ?it/s]"
      ]
     },
     "metadata": {},
     "output_type": "display_data"
    },
    {
     "name": "stdout",
     "output_type": "stream",
     "text": [
      "Epoch  3/13 | Train 1.9857/0.4473 | Val 1.5607/0.7967 | LR(enc/head) [9.330127018922194e-05, 9.330127018922194e-05, 0.0009330127018922195]\n"
     ]
    },
    {
     "data": {
      "application/vnd.jupyter.widget-view+json": {
       "model_id": "d8b23b1900fd416e9d6f5d7b011c232a",
       "version_major": 2,
       "version_minor": 0
      },
      "text/plain": [
       "FT 4/13:   0%|          | 0/1172 [00:00<?, ?it/s]"
      ]
     },
     "metadata": {},
     "output_type": "display_data"
    },
    {
     "data": {
      "application/vnd.jupyter.widget-view+json": {
       "model_id": "03b1d2fbe8844662890787450c693403",
       "version_major": 2,
       "version_minor": 0
      },
      "text/plain": [
       "Probe 4/13:   0%|          | 0/122 [00:00<?, ?it/s]"
      ]
     },
     "metadata": {},
     "output_type": "display_data"
    },
    {
     "name": "stdout",
     "output_type": "stream",
     "text": [
      "Epoch  4/13 | Train 1.9127/0.4607 | Val 1.6224/0.7881 | LR(enc/head) [8.535533905932738e-05, 8.535533905932738e-05, 0.0008535533905932737]\n"
     ]
    },
    {
     "data": {
      "application/vnd.jupyter.widget-view+json": {
       "model_id": "148ce1f51ff2409c975f17d7a0f1ae05",
       "version_major": 2,
       "version_minor": 0
      },
      "text/plain": [
       "FT 5/13:   0%|          | 0/1172 [00:00<?, ?it/s]"
      ]
     },
     "metadata": {},
     "output_type": "display_data"
    },
    {
     "data": {
      "application/vnd.jupyter.widget-view+json": {
       "model_id": "f318259346794691bc5f490f5fccae30",
       "version_major": 2,
       "version_minor": 0
      },
      "text/plain": [
       "Probe 5/13:   0%|          | 0/122 [00:00<?, ?it/s]"
      ]
     },
     "metadata": {},
     "output_type": "display_data"
    },
    {
     "name": "stdout",
     "output_type": "stream",
     "text": [
      "Epoch  5/13 | Train 1.8792/0.4325 | Val 1.5266/0.8046 | LR(enc/head) [7.500000000000001e-05, 7.500000000000001e-05, 0.00075]\n"
     ]
    },
    {
     "data": {
      "application/vnd.jupyter.widget-view+json": {
       "model_id": "02c73c53c4b34bcfbca318d7fac900ae",
       "version_major": 2,
       "version_minor": 0
      },
      "text/plain": [
       "FT 6/13:   0%|          | 0/1172 [00:00<?, ?it/s]"
      ]
     },
     "metadata": {},
     "output_type": "display_data"
    },
    {
     "data": {
      "application/vnd.jupyter.widget-view+json": {
       "model_id": "955c1fd816b44c0294f701bfbe395502",
       "version_major": 2,
       "version_minor": 0
      },
      "text/plain": [
       "Probe 6/13:   0%|          | 0/122 [00:00<?, ?it/s]"
      ]
     },
     "metadata": {},
     "output_type": "display_data"
    },
    {
     "name": "stdout",
     "output_type": "stream",
     "text": [
      "Epoch  6/13 | Train 1.8068/0.4768 | Val 1.5320/0.8102 | LR(enc/head) [6.294095225512603e-05, 6.294095225512603e-05, 0.0006294095225512603]\n"
     ]
    },
    {
     "data": {
      "application/vnd.jupyter.widget-view+json": {
       "model_id": "dcc733bfe2db4b2385025ca5b001fd24",
       "version_major": 2,
       "version_minor": 0
      },
      "text/plain": [
       "FT 7/13:   0%|          | 0/1172 [00:00<?, ?it/s]"
      ]
     },
     "metadata": {},
     "output_type": "display_data"
    },
    {
     "data": {
      "application/vnd.jupyter.widget-view+json": {
       "model_id": "d01a23e7eb2e45dda4a2887e5d3b381b",
       "version_major": 2,
       "version_minor": 0
      },
      "text/plain": [
       "Probe 7/13:   0%|          | 0/122 [00:00<?, ?it/s]"
      ]
     },
     "metadata": {},
     "output_type": "display_data"
    },
    {
     "name": "stdout",
     "output_type": "stream",
     "text": [
      "Epoch  7/13 | Train 1.7579/0.4726 | Val 1.5652/0.7981 | LR(enc/head) [5e-05, 5e-05, 0.0005]\n"
     ]
    },
    {
     "data": {
      "application/vnd.jupyter.widget-view+json": {
       "model_id": "f9d463e5c80243aca0259da4efcab23a",
       "version_major": 2,
       "version_minor": 0
      },
      "text/plain": [
       "FT 8/13:   0%|          | 0/1172 [00:00<?, ?it/s]"
      ]
     },
     "metadata": {},
     "output_type": "display_data"
    },
    {
     "data": {
      "application/vnd.jupyter.widget-view+json": {
       "model_id": "ffa7ecf1e50241a2b1ed29d128e19867",
       "version_major": 2,
       "version_minor": 0
      },
      "text/plain": [
       "Probe 8/13:   0%|          | 0/122 [00:00<?, ?it/s]"
      ]
     },
     "metadata": {},
     "output_type": "display_data"
    },
    {
     "name": "stdout",
     "output_type": "stream",
     "text": [
      "Epoch  8/13 | Train 1.7152/0.4742 | Val 1.5141/0.8060 | LR(enc/head) [3.705904774487396e-05, 3.705904774487396e-05, 0.0003705904774487396]\n"
     ]
    },
    {
     "data": {
      "application/vnd.jupyter.widget-view+json": {
       "model_id": "bf6c658265c94e318fd9ed8735ab6ec3",
       "version_major": 2,
       "version_minor": 0
      },
      "text/plain": [
       "FT 9/13:   0%|          | 0/1172 [00:00<?, ?it/s]"
      ]
     },
     "metadata": {},
     "output_type": "display_data"
    },
    {
     "data": {
      "application/vnd.jupyter.widget-view+json": {
       "model_id": "717105f6d083491885860206cf258cd1",
       "version_major": 2,
       "version_minor": 0
      },
      "text/plain": [
       "Probe 9/13:   0%|          | 0/122 [00:00<?, ?it/s]"
      ]
     },
     "metadata": {},
     "output_type": "display_data"
    },
    {
     "name": "stdout",
     "output_type": "stream",
     "text": [
      "Epoch  9/13 | Train 1.6481/0.4638 | Val 1.5503/0.7992 | LR(enc/head) [2.500000000000001e-05, 2.500000000000001e-05, 0.0002500000000000001]\n"
     ]
    },
    {
     "data": {
      "application/vnd.jupyter.widget-view+json": {
       "model_id": "ac420e59e79447c1b75ad54c4f52a799",
       "version_major": 2,
       "version_minor": 0
      },
      "text/plain": [
       "FT 10/13:   0%|          | 0/1172 [00:00<?, ?it/s]"
      ]
     },
     "metadata": {},
     "output_type": "display_data"
    },
    {
     "data": {
      "application/vnd.jupyter.widget-view+json": {
       "model_id": "88931f57d1a848dea891b59cf6586fc3",
       "version_major": 2,
       "version_minor": 0
      },
      "text/plain": [
       "Probe 10/13:   0%|          | 0/122 [00:00<?, ?it/s]"
      ]
     },
     "metadata": {},
     "output_type": "display_data"
    },
    {
     "name": "stdout",
     "output_type": "stream",
     "text": [
      "Epoch 10/13 | Train 1.6098/0.4614 | Val 1.4895/0.8180 | LR(enc/head) [1.4644660940672627e-05, 1.4644660940672627e-05, 0.00014644660940672628]\n"
     ]
    },
    {
     "data": {
      "application/vnd.jupyter.widget-view+json": {
       "model_id": "6b0fa2673b784cdba635e23cc7a229bc",
       "version_major": 2,
       "version_minor": 0
      },
      "text/plain": [
       "FT 11/13:   0%|          | 0/1172 [00:00<?, ?it/s]"
      ]
     },
     "metadata": {},
     "output_type": "display_data"
    },
    {
     "data": {
      "application/vnd.jupyter.widget-view+json": {
       "model_id": "ea4d7a4bf956458d98c58c0b75b3ead6",
       "version_major": 2,
       "version_minor": 0
      },
      "text/plain": [
       "Probe 11/13:   0%|          | 0/122 [00:00<?, ?it/s]"
      ]
     },
     "metadata": {},
     "output_type": "display_data"
    },
    {
     "name": "stdout",
     "output_type": "stream",
     "text": [
      "Epoch 11/13 | Train 1.6086/0.4805 | Val 1.4938/0.8064 | LR(enc/head) [6.698729810778065e-06, 6.698729810778065e-06, 6.698729810778065e-05]\n"
     ]
    },
    {
     "data": {
      "application/vnd.jupyter.widget-view+json": {
       "model_id": "856fcf05dfb44b65aaa530fc96ce9343",
       "version_major": 2,
       "version_minor": 0
      },
      "text/plain": [
       "FT 12/13:   0%|          | 0/1172 [00:00<?, ?it/s]"
      ]
     },
     "metadata": {},
     "output_type": "display_data"
    },
    {
     "data": {
      "application/vnd.jupyter.widget-view+json": {
       "model_id": "8b30edd8715a4720865c99390028d607",
       "version_major": 2,
       "version_minor": 0
      },
      "text/plain": [
       "Probe 12/13:   0%|          | 0/122 [00:00<?, ?it/s]"
      ]
     },
     "metadata": {},
     "output_type": "display_data"
    },
    {
     "name": "stdout",
     "output_type": "stream",
     "text": [
      "Epoch 12/13 | Train 1.5254/0.4902 | Val 1.4889/0.8067 | LR(enc/head) [1.70370868554659e-06, 1.70370868554659e-06, 1.70370868554659e-05]\n"
     ]
    },
    {
     "data": {
      "application/vnd.jupyter.widget-view+json": {
       "model_id": "58105f4008ce49a09ef1538ca1a2dcce",
       "version_major": 2,
       "version_minor": 0
      },
      "text/plain": [
       "FT 13/13:   0%|          | 0/1172 [00:00<?, ?it/s]"
      ]
     },
     "metadata": {},
     "output_type": "display_data"
    },
    {
     "data": {
      "application/vnd.jupyter.widget-view+json": {
       "model_id": "28bbd4167fb145669a9eb35d46af912b",
       "version_major": 2,
       "version_minor": 0
      },
      "text/plain": [
       "Probe 13/13:   0%|          | 0/122 [00:00<?, ?it/s]"
      ]
     },
     "metadata": {},
     "output_type": "display_data"
    },
    {
     "name": "stdout",
     "output_type": "stream",
     "text": [
      "Epoch 13/13 | Train 1.5355/0.4752 | Val 1.4938/0.8135 | LR(enc/head) [0.0, 0.0, 0.0]\n"
     ]
    },
    {
     "data": {
      "image/png": "[encoded data removed]",
      "text/plain": [
       "<Figure size 1000x400 with 1 Axes>"
      ]
     },
     "metadata": {},
     "output_type": "display_data"
    },
    {
     "data": {
      "image/png": "[encoded data removed]",
      "text/plain": [
       "<Figure size 1000x400 with 1 Axes>"
      ]
     },
     "metadata": {},
     "output_type": "display_data"
    }
   ],
   "source": [
    "# start from your best probe head weights\n",
    "ft = ClassifierWithEncoder(build_backbone_expressive, enc_state_dict, feat_dim, num_classes)\n",
    "# warm-start head from the trained probe head if you have it:\n",
    "try:\n",
    "    ft.head.load_state_dict(probe.head.state_dict(), strict=True)\n",
    "    print(\"Loaded probe head into fine-tune model.\")\n",
    "except Exception:\n",
    "    pass\n",
    "\n",
    "# unfreeze last 2 blocks; train BN affine but freeze BN running stats (stable for small batches)\n",
    "ft.unfreeze_last_k(k=2, bn_affine=True, bn_stats_train=False)\n",
    "\n",
    "# try 10–15 epochs; head lr 5e-4, encoder lr 5e-5 (10× smaller)\n",
    "ft, ft_hist = fine_tune(\n",
    "    ft, cls_train_loader, cls_val_loader,\n",
    "    epochs=13, lr_head=1e-3, lr_enc=1e-4,\n",
    "    mixup_alpha=0.2, mixup_alpha_end=0.05,   # decay mixup late\n",
    "    cutmix_alpha=1.0, p_cutmix=0.1\n",
    ")\n",
    "\n",
    "plt.figure(figsize=(10,4))\n",
    "plt.plot([h[0] for h in ft_hist], label='Train loss')\n",
    "plt.plot([h[2] for h in ft_hist], label='Val loss')\n",
    "plt.legend(); plt.show()\n",
    "plt.figure(figsize=(10,4))\n",
    "plt.plot([h[1] for h in ft_hist], label='Train acc')\n",
    "plt.plot([h[3] for h in ft_hist], label='Val acc')\n",
    "plt.legend(); plt.show()\n"
   ]
  },
  {
   "cell_type": "code",
   "execution_count": 12,
   "id": "c26750d1",
   "metadata": {},
   "outputs": [
    {
     "data": {
      "application/vnd.jupyter.widget-view+json": {
       "model_id": "9f85635890a644c38fe8a3b0222d9756",
       "version_major": 2,
       "version_minor": 0
      },
      "text/plain": [
       "FT 1/12:   0%|          | 0/1172 [00:00<?, ?it/s]"
      ]
     },
     "metadata": {},
     "output_type": "display_data"
    },
    {
     "data": {
      "application/vnd.jupyter.widget-view+json": {
       "model_id": "5c6d0048ec4f4388a18e9ba7cdbe0cc2",
       "version_major": 2,
       "version_minor": 0
      },
      "text/plain": [
       "Probe 1/12:   0%|          | 0/122 [00:00<?, ?it/s]"
      ]
     },
     "metadata": {},
     "output_type": "display_data"
    },
    {
     "name": "stdout",
     "output_type": "stream",
     "text": [
      "Epoch  1/12 | Train 1.8911/0.4765 | Val 1.5731/0.7978 | LR(enc/head) [5e-05, 5e-05, 0.0005]\n"
     ]
    },
    {
     "data": {
      "application/vnd.jupyter.widget-view+json": {
       "model_id": "a4ec778caef14c458eee5e79c1034e68",
       "version_major": 2,
       "version_minor": 0
      },
      "text/plain": [
       "FT 2/12:   0%|          | 0/1172 [00:00<?, ?it/s]"
      ]
     },
     "metadata": {},
     "output_type": "display_data"
    },
    {
     "data": {
      "application/vnd.jupyter.widget-view+json": {
       "model_id": "962726fd21b34f48a18ab7480918e25a",
       "version_major": 2,
       "version_minor": 0
      },
      "text/plain": [
       "Probe 2/12:   0%|          | 0/122 [00:00<?, ?it/s]"
      ]
     },
     "metadata": {},
     "output_type": "display_data"
    },
    {
     "name": "stdout",
     "output_type": "stream",
     "text": [
      "Epoch  2/12 | Train 1.8611/0.4722 | Val 1.5140/0.8074 | LR(enc/head) [4.898732434036244e-05, 4.898732434036244e-05, 0.0004898732434036243]\n"
     ]
    },
    {
     "data": {
      "application/vnd.jupyter.widget-view+json": {
       "model_id": "578bf75acf43494da66eda73cfbaffb6",
       "version_major": 2,
       "version_minor": 0
      },
      "text/plain": [
       "FT 3/12:   0%|          | 0/1172 [00:00<?, ?it/s]"
      ]
     },
     "metadata": {},
     "output_type": "display_data"
    },
    {
     "data": {
      "application/vnd.jupyter.widget-view+json": {
       "model_id": "8071b047104f472da4b807a7dd1a9d3f",
       "version_major": 2,
       "version_minor": 0
      },
      "text/plain": [
       "Probe 3/12:   0%|          | 0/122 [00:00<?, ?it/s]"
      ]
     },
     "metadata": {},
     "output_type": "display_data"
    },
    {
     "name": "stdout",
     "output_type": "stream",
     "text": [
      "Epoch  3/12 | Train 1.7882/0.4773 | Val 1.5380/0.8008 | LR(enc/head) [4.6031338320779534e-05, 4.6031338320779534e-05, 0.0004603133832077953]\n"
     ]
    },
    {
     "data": {
      "application/vnd.jupyter.widget-view+json": {
       "model_id": "2100cc0d65164e3b9fa845bbaa2ea97a",
       "version_major": 2,
       "version_minor": 0
      },
      "text/plain": [
       "FT 4/12:   0%|          | 0/1172 [00:00<?, ?it/s]"
      ]
     },
     "metadata": {},
     "output_type": "display_data"
    },
    {
     "data": {
      "application/vnd.jupyter.widget-view+json": {
       "model_id": "6e29ccca75b74abaa8db5a5926ceb814",
       "version_major": 2,
       "version_minor": 0
      },
      "text/plain": [
       "Probe 4/12:   0%|          | 0/122 [00:00<?, ?it/s]"
      ]
     },
     "metadata": {},
     "output_type": "display_data"
    },
    {
     "name": "stdout",
     "output_type": "stream",
     "text": [
      "Epoch  4/12 | Train 1.7574/0.4677 | Val 1.5499/0.8062 | LR(enc/head) [4.137151834863213e-05, 4.137151834863213e-05, 0.0004137151834863213]\n"
     ]
    },
    {
     "data": {
      "application/vnd.jupyter.widget-view+json": {
       "model_id": "11019540b7044099a761ca921931ce8d",
       "version_major": 2,
       "version_minor": 0
      },
      "text/plain": [
       "FT 5/12:   0%|          | 0/1172 [00:00<?, ?it/s]"
      ]
     },
     "metadata": {},
     "output_type": "display_data"
    },
    {
     "data": {
      "application/vnd.jupyter.widget-view+json": {
       "model_id": "ba54925b092d4d2da327332bdbe6a92e",
       "version_major": 2,
       "version_minor": 0
      },
      "text/plain": [
       "Probe 5/12:   0%|          | 0/122 [00:00<?, ?it/s]"
      ]
     },
     "metadata": {},
     "output_type": "display_data"
    },
    {
     "name": "stdout",
     "output_type": "stream",
     "text": [
      "Epoch  5/12 | Train 1.7408/0.4907 | Val 1.5507/0.7988 | LR(enc/head) [3.5385375325047166e-05, 3.5385375325047166e-05, 0.00035385375325047166]\n"
     ]
    },
    {
     "data": {
      "application/vnd.jupyter.widget-view+json": {
       "model_id": "3a531f1332d945829d73789bef9420a9",
       "version_major": 2,
       "version_minor": 0
      },
      "text/plain": [
       "FT 6/12:   0%|          | 0/1172 [00:00<?, ?it/s]"
      ]
     },
     "metadata": {},
     "output_type": "display_data"
    },
    {
     "data": {
      "application/vnd.jupyter.widget-view+json": {
       "model_id": "bb9d868d97154af48905bdc7935098a3",
       "version_major": 2,
       "version_minor": 0
      },
      "text/plain": [
       "Probe 6/12:   0%|          | 0/122 [00:00<?, ?it/s]"
      ]
     },
     "metadata": {},
     "output_type": "display_data"
    },
    {
     "name": "stdout",
     "output_type": "stream",
     "text": [
      "Epoch  6/12 | Train 1.7068/0.4972 | Val 1.5237/0.8058 | LR(enc/head) [2.8557870956832132e-05, 2.8557870956832132e-05, 0.00028557870956832135]\n"
     ]
    },
    {
     "data": {
      "application/vnd.jupyter.widget-view+json": {
       "model_id": "8b88b6fd2f454575b637f43596ee530d",
       "version_major": 2,
       "version_minor": 0
      },
      "text/plain": [
       "FT 7/12:   0%|          | 0/1172 [00:00<?, ?it/s]"
      ]
     },
     "metadata": {},
     "output_type": "display_data"
    },
    {
     "data": {
      "application/vnd.jupyter.widget-view+json": {
       "model_id": "fd961f3228734e78bb5ed7296d80541a",
       "version_major": 2,
       "version_minor": 0
      },
      "text/plain": [
       "Probe 7/12:   0%|          | 0/122 [00:00<?, ?it/s]"
      ]
     },
     "metadata": {},
     "output_type": "display_data"
    },
    {
     "name": "stdout",
     "output_type": "stream",
     "text": [
      "Epoch  7/12 | Train 1.6523/0.4858 | Val 1.5277/0.8011 | LR(enc/head) [2.1442129043167874e-05, 2.1442129043167874e-05, 0.00021442129043167875]\n"
     ]
    },
    {
     "data": {
      "application/vnd.jupyter.widget-view+json": {
       "model_id": "bb27758e65d34a3d9b145bdf54e9dbc2",
       "version_major": 2,
       "version_minor": 0
      },
      "text/plain": [
       "FT 8/12:   0%|          | 0/1172 [00:00<?, ?it/s]"
      ]
     },
     "metadata": {},
     "output_type": "display_data"
    },
    {
     "data": {
      "application/vnd.jupyter.widget-view+json": {
       "model_id": "07427ac14710428aaeeb8cd46ac3cd91",
       "version_major": 2,
       "version_minor": 0
      },
      "text/plain": [
       "Probe 8/12:   0%|          | 0/122 [00:00<?, ?it/s]"
      ]
     },
     "metadata": {},
     "output_type": "display_data"
    },
    {
     "name": "stdout",
     "output_type": "stream",
     "text": [
      "Epoch  8/12 | Train 1.6319/0.4751 | Val 1.5091/0.8073 | LR(enc/head) [1.4614624674952842e-05, 1.4614624674952842e-05, 0.0001461462467495284]\n"
     ]
    },
    {
     "data": {
      "application/vnd.jupyter.widget-view+json": {
       "model_id": "9d4c0ec59696492bae34a66ef240c93e",
       "version_major": 2,
       "version_minor": 0
      },
      "text/plain": [
       "FT 9/12:   0%|          | 0/1172 [00:00<?, ?it/s]"
      ]
     },
     "metadata": {},
     "output_type": "display_data"
    },
    {
     "data": {
      "application/vnd.jupyter.widget-view+json": {
       "model_id": "f78ad57a3cf6436a8704f6e45c0a2139",
       "version_major": 2,
       "version_minor": 0
      },
      "text/plain": [
       "Probe 9/12:   0%|          | 0/122 [00:00<?, ?it/s]"
      ]
     },
     "metadata": {},
     "output_type": "display_data"
    },
    {
     "name": "stdout",
     "output_type": "stream",
     "text": [
      "Epoch  9/12 | Train 1.6014/0.4950 | Val 1.5126/0.8070 | LR(enc/head) [8.628481651367872e-06, 8.628481651367872e-06, 8.628481651367872e-05]\n"
     ]
    },
    {
     "data": {
      "application/vnd.jupyter.widget-view+json": {
       "model_id": "b8067f83e96b464493117f62df6381df",
       "version_major": 2,
       "version_minor": 0
      },
      "text/plain": [
       "FT 10/12:   0%|          | 0/1172 [00:00<?, ?it/s]"
      ]
     },
     "metadata": {},
     "output_type": "display_data"
    },
    {
     "data": {
      "application/vnd.jupyter.widget-view+json": {
       "model_id": "26eca184990246dcbfc1776a34293806",
       "version_major": 2,
       "version_minor": 0
      },
      "text/plain": [
       "Probe 10/12:   0%|          | 0/122 [00:00<?, ?it/s]"
      ]
     },
     "metadata": {},
     "output_type": "display_data"
    },
    {
     "name": "stdout",
     "output_type": "stream",
     "text": [
      "Epoch 10/12 | Train 1.5650/0.4956 | Val 1.4912/0.8044 | LR(enc/head) [3.968661679220468e-06, 3.968661679220468e-06, 3.968661679220467e-05]\n"
     ]
    },
    {
     "data": {
      "application/vnd.jupyter.widget-view+json": {
       "model_id": "3c038aba09c541a49236859c749cf265",
       "version_major": 2,
       "version_minor": 0
      },
      "text/plain": [
       "FT 11/12:   0%|          | 0/1172 [00:00<?, ?it/s]"
      ]
     },
     "metadata": {},
     "output_type": "display_data"
    },
    {
     "data": {
      "application/vnd.jupyter.widget-view+json": {
       "model_id": "c9245a6832e94d419ca95e1cd09b9672",
       "version_major": 2,
       "version_minor": 0
      },
      "text/plain": [
       "Probe 11/12:   0%|          | 0/122 [00:00<?, ?it/s]"
      ]
     },
     "metadata": {},
     "output_type": "display_data"
    },
    {
     "name": "stdout",
     "output_type": "stream",
     "text": [
      "Epoch 11/12 | Train 1.5157/0.4808 | Val 1.4942/0.8086 | LR(enc/head) [1.0126756596375686e-06, 1.0126756596375686e-06, 1.0126756596375685e-05]\n"
     ]
    },
    {
     "data": {
      "application/vnd.jupyter.widget-view+json": {
       "model_id": "e4819d67f56c419d904d4630db002549",
       "version_major": 2,
       "version_minor": 0
      },
      "text/plain": [
       "FT 12/12:   0%|          | 0/1172 [00:00<?, ?it/s]"
      ]
     },
     "metadata": {},
     "output_type": "display_data"
    },
    {
     "data": {
      "application/vnd.jupyter.widget-view+json": {
       "model_id": "d7e3024ce514499bb71da634f588b18c",
       "version_major": 2,
       "version_minor": 0
      },
      "text/plain": [
       "Probe 12/12:   0%|          | 0/122 [00:00<?, ?it/s]"
      ]
     },
     "metadata": {},
     "output_type": "display_data"
    },
    {
     "name": "stdout",
     "output_type": "stream",
     "text": [
      "Epoch 12/12 | Train 1.4468/0.5182 | Val 1.4780/0.8074 | LR(enc/head) [0.0, 0.0, 0.0]\n",
      "Val (A): {'top1': 0.8134605532786885, 'top5': 0.9375640368852459, 'f1': 0.8093689798313426, 'precision': 0.8254896429846832, 'recall': 0.8134605532786885}\n"
     ]
    },
    {
     "data": {
      "image/png": "[encoded data removed]",
      "text/plain": [
       "<Figure size 1000x400 with 1 Axes>"
      ]
     },
     "metadata": {},
     "output_type": "display_data"
    },
    {
     "data": {
      "image/png": "[encoded data removed]",
      "text/plain": [
       "<Figure size 1000x400 with 1 Axes>"
      ]
     },
     "metadata": {},
     "output_type": "display_data"
    }
   ],
   "source": [
    "# continue from your 'ft' model after loading probe head\n",
    "ft.unfreeze_last_k(k=3, bn_affine=True, bn_stats_train=False)\n",
    "\n",
    "ft, histA = fine_tune(\n",
    "    ft, cls_train_loader, cls_val_loader,\n",
    "    epochs=12,\n",
    "    lr_head=5e-4, lr_enc=5e-5,\n",
    "    mixup_alpha=0.2, mixup_alpha_end=0.05,   # decay mixup late\n",
    "    cutmix_alpha=1.0, p_cutmix=0.1\n",
    ")\n",
    "\n",
    "valA = evaluate_classifier(ft, cls_val_loader, classes=[idx2label[i] for i in range(num_classes)], tta_hflip=True)\n",
    "print(\"Val (A):\", valA)\n",
    "\n",
    "plt.figure(figsize=(10,4))\n",
    "plt.plot([h[0] for h in histA], label='Train loss')\n",
    "plt.plot([h[2] for h in histA], label='Val loss')\n",
    "plt.legend(); plt.show()\n",
    "plt.figure(figsize=(10,4))\n",
    "plt.plot([h[1] for h in histA], label='Train acc')\n",
    "plt.plot([h[3] for h in histA], label='Val acc')\n",
    "plt.legend(); plt.show()\n"
   ]
  },
  {
   "cell_type": "code",
   "execution_count": 13,
   "id": "50edc117",
   "metadata": {},
   "outputs": [
    {
     "data": {
      "application/vnd.jupyter.widget-view+json": {
       "model_id": "69a21a9b024a420fbcc8c55cb94fb479",
       "version_major": 2,
       "version_minor": 0
      },
      "text/plain": [
       "FT 1/10:   0%|          | 0/1172 [00:00<?, ?it/s]"
      ]
     },
     "metadata": {},
     "output_type": "display_data"
    },
    {
     "data": {
      "application/vnd.jupyter.widget-view+json": {
       "model_id": "dda861c588bf48fb8357221363ce5228",
       "version_major": 2,
       "version_minor": 0
      },
      "text/plain": [
       "Probe 1/10:   0%|          | 0/122 [00:00<?, ?it/s]"
      ]
     },
     "metadata": {},
     "output_type": "display_data"
    },
    {
     "name": "stdout",
     "output_type": "stream",
     "text": [
      "Epoch  1/10 | Train 1.8808/0.4846 | Val 1.5346/0.7955 | LR(enc/head) [9e-05, 9e-05, 0.0009]\n"
     ]
    },
    {
     "data": {
      "application/vnd.jupyter.widget-view+json": {
       "model_id": "04926bf355a94d57a2933a87757f0538",
       "version_major": 2,
       "version_minor": 0
      },
      "text/plain": [
       "FT 2/10:   0%|          | 0/1172 [00:00<?, ?it/s]"
      ]
     },
     "metadata": {},
     "output_type": "display_data"
    },
    {
     "data": {
      "application/vnd.jupyter.widget-view+json": {
       "model_id": "2ab21637942042b78898b841bf8a29a5",
       "version_major": 2,
       "version_minor": 0
      },
      "text/plain": [
       "Probe 2/10:   0%|          | 0/122 [00:00<?, ?it/s]"
      ]
     },
     "metadata": {},
     "output_type": "display_data"
    },
    {
     "name": "stdout",
     "output_type": "stream",
     "text": [
      "Epoch  2/10 | Train 1.8960/0.4868 | Val 1.4895/0.8152 | LR(enc/head) [8.728616793536588e-05, 8.728616793536588e-05, 0.0008728616793536588]\n"
     ]
    },
    {
     "data": {
      "application/vnd.jupyter.widget-view+json": {
       "model_id": "c51f98c249ae40f59bd028d08388bf9c",
       "version_major": 2,
       "version_minor": 0
      },
      "text/plain": [
       "FT 3/10:   0%|          | 0/1172 [00:00<?, ?it/s]"
      ]
     },
     "metadata": {},
     "output_type": "display_data"
    },
    {
     "data": {
      "application/vnd.jupyter.widget-view+json": {
       "model_id": "730eea874313411f91bb0e8f277d5889",
       "version_major": 2,
       "version_minor": 0
      },
      "text/plain": [
       "Probe 3/10:   0%|          | 0/122 [00:00<?, ?it/s]"
      ]
     },
     "metadata": {},
     "output_type": "display_data"
    },
    {
     "name": "stdout",
     "output_type": "stream",
     "text": [
      "Epoch  3/10 | Train 1.8591/0.5124 | Val 1.4904/0.8101 | LR(enc/head) [7.947199994035401e-05, 7.947199994035401e-05, 0.00079471999940354]\n"
     ]
    },
    {
     "data": {
      "application/vnd.jupyter.widget-view+json": {
       "model_id": "2829775460fa438e87210df6a2e82901",
       "version_major": 2,
       "version_minor": 0
      },
      "text/plain": [
       "FT 4/10:   0%|          | 0/1172 [00:00<?, ?it/s]"
      ]
     },
     "metadata": {},
     "output_type": "display_data"
    },
    {
     "data": {
      "application/vnd.jupyter.widget-view+json": {
       "model_id": "9edf920816a64baba867bcaf91a979f9",
       "version_major": 2,
       "version_minor": 0
      },
      "text/plain": [
       "Probe 4/10:   0%|          | 0/122 [00:00<?, ?it/s]"
      ]
     },
     "metadata": {},
     "output_type": "display_data"
    },
    {
     "name": "stdout",
     "output_type": "stream",
     "text": [
      "Epoch  4/10 | Train 1.7277/0.5011 | Val 1.4797/0.8137 | LR(enc/head) [6.75e-05, 6.75e-05, 0.000675]\n"
     ]
    },
    {
     "data": {
      "application/vnd.jupyter.widget-view+json": {
       "model_id": "ac116b25bd9d4995b2311f6e312b837a",
       "version_major": 2,
       "version_minor": 0
      },
      "text/plain": [
       "FT 5/10:   0%|          | 0/1172 [00:00<?, ?it/s]"
      ]
     },
     "metadata": {},
     "output_type": "display_data"
    },
    {
     "data": {
      "application/vnd.jupyter.widget-view+json": {
       "model_id": "2a475096812c451491146c6722e75cb7",
       "version_major": 2,
       "version_minor": 0
      },
      "text/plain": [
       "Probe 5/10:   0%|          | 0/122 [00:00<?, ?it/s]"
      ]
     },
     "metadata": {},
     "output_type": "display_data"
    },
    {
     "name": "stdout",
     "output_type": "stream",
     "text": [
      "Epoch  5/10 | Train 1.6552/0.4776 | Val 1.4957/0.8107 | LR(enc/head) [5.2814167995011876e-05, 5.2814167995011876e-05, 0.0005281416799501188]\n"
     ]
    },
    {
     "data": {
      "application/vnd.jupyter.widget-view+json": {
       "model_id": "63c2c84698b340b8bf87c74e90806165",
       "version_major": 2,
       "version_minor": 0
      },
      "text/plain": [
       "FT 6/10:   0%|          | 0/1172 [00:00<?, ?it/s]"
      ]
     },
     "metadata": {},
     "output_type": "display_data"
    },
    {
     "data": {
      "application/vnd.jupyter.widget-view+json": {
       "model_id": "23b2804f6440489c9c735861ad6d4452",
       "version_major": 2,
       "version_minor": 0
      },
      "text/plain": [
       "Probe 6/10:   0%|          | 0/122 [00:00<?, ?it/s]"
      ]
     },
     "metadata": {},
     "output_type": "display_data"
    },
    {
     "name": "stdout",
     "output_type": "stream",
     "text": [
      "Epoch  6/10 | Train 1.6577/0.4967 | Val 1.5226/0.8113 | LR(enc/head) [3.7185832004988136e-05, 3.7185832004988136e-05, 0.0003718583200498814]\n"
     ]
    },
    {
     "data": {
      "application/vnd.jupyter.widget-view+json": {
       "model_id": "0ca4bf59348f42569528d35fc5997282",
       "version_major": 2,
       "version_minor": 0
      },
      "text/plain": [
       "FT 7/10:   0%|          | 0/1172 [00:00<?, ?it/s]"
      ]
     },
     "metadata": {},
     "output_type": "display_data"
    },
    {
     "data": {
      "application/vnd.jupyter.widget-view+json": {
       "model_id": "a1d7c543e62d41cf8712fea2c4d441c2",
       "version_major": 2,
       "version_minor": 0
      },
      "text/plain": [
       "Probe 7/10:   0%|          | 0/122 [00:00<?, ?it/s]"
      ]
     },
     "metadata": {},
     "output_type": "display_data"
    },
    {
     "name": "stdout",
     "output_type": "stream",
     "text": [
      "Epoch  7/10 | Train 1.5984/0.5244 | Val 1.4927/0.8096 | LR(enc/head) [2.250000000000001e-05, 2.250000000000001e-05, 0.0002250000000000001]\n"
     ]
    },
    {
     "data": {
      "application/vnd.jupyter.widget-view+json": {
       "model_id": "3b411fcbd6414edd928e1d3f34824bf5",
       "version_major": 2,
       "version_minor": 0
      },
      "text/plain": [
       "FT 8/10:   0%|          | 0/1172 [00:00<?, ?it/s]"
      ]
     },
     "metadata": {},
     "output_type": "display_data"
    },
    {
     "data": {
      "application/vnd.jupyter.widget-view+json": {
       "model_id": "9fcaad3c19f64dfaa10adb5ca11e57b3",
       "version_major": 2,
       "version_minor": 0
      },
      "text/plain": [
       "Probe 8/10:   0%|          | 0/122 [00:00<?, ?it/s]"
      ]
     },
     "metadata": {},
     "output_type": "display_data"
    },
    {
     "name": "stdout",
     "output_type": "stream",
     "text": [
      "Epoch  8/10 | Train 1.4965/0.5019 | Val 1.4657/0.8126 | LR(enc/head) [1.0528000059645995e-05, 1.0528000059645995e-05, 0.00010528000059645994]\n"
     ]
    },
    {
     "data": {
      "application/vnd.jupyter.widget-view+json": {
       "model_id": "36b1cd593ac74937971d18c333e3c55d",
       "version_major": 2,
       "version_minor": 0
      },
      "text/plain": [
       "FT 9/10:   0%|          | 0/1172 [00:00<?, ?it/s]"
      ]
     },
     "metadata": {},
     "output_type": "display_data"
    },
    {
     "data": {
      "application/vnd.jupyter.widget-view+json": {
       "model_id": "7c2c17c6b4234c45a379b25ef6f6e219",
       "version_major": 2,
       "version_minor": 0
      },
      "text/plain": [
       "Probe 9/10:   0%|          | 0/122 [00:00<?, ?it/s]"
      ]
     },
     "metadata": {},
     "output_type": "display_data"
    },
    {
     "name": "stdout",
     "output_type": "stream",
     "text": [
      "Epoch  9/10 | Train 1.4585/0.4987 | Val 1.4659/0.8140 | LR(enc/head) [2.7138320646341257e-06, 2.7138320646341257e-06, 2.7138320646341256e-05]\n"
     ]
    },
    {
     "data": {
      "application/vnd.jupyter.widget-view+json": {
       "model_id": "5f9cc47ba8ef4d9b9e017709a1e56343",
       "version_major": 2,
       "version_minor": 0
      },
      "text/plain": [
       "FT 10/10:   0%|          | 0/1172 [00:00<?, ?it/s]"
      ]
     },
     "metadata": {},
     "output_type": "display_data"
    },
    {
     "data": {
      "application/vnd.jupyter.widget-view+json": {
       "model_id": "d27e34d2536b4587bcb2ef5047db2898",
       "version_major": 2,
       "version_minor": 0
      },
      "text/plain": [
       "Probe 10/10:   0%|          | 0/122 [00:00<?, ?it/s]"
      ]
     },
     "metadata": {},
     "output_type": "display_data"
    },
    {
     "name": "stdout",
     "output_type": "stream",
     "text": [
      "Epoch 10/10 | Train 1.4389/0.4956 | Val 1.4980/0.8085 | LR(enc/head) [0.0, 0.0, 0.0]\n",
      "Val (B): {'top1': 0.8182633196721312, 'top5': 0.9403816598360656, 'f1': 0.8168867418101623, 'precision': 0.8323236561664057, 'recall': 0.8182633196721312}\n",
      "Test (B): {'top1': 0.8106186755475855, 'top5': 0.9378122198027411, 'f1': 0.8091851620846152, 'precision': 0.822529644368956, 'recall': 0.8106186755475855}\n"
     ]
    },
    {
     "data": {
      "image/png": "[encoded data removed]",
      "text/plain": [
       "<Figure size 1000x400 with 1 Axes>"
      ]
     },
     "metadata": {},
     "output_type": "display_data"
    },
    {
     "data": {
      "image/png": "[encoded data removed]",
      "text/plain": [
       "<Figure size 1000x400 with 1 Axes>"
      ]
     },
     "metadata": {},
     "output_type": "display_data"
    }
   ],
   "source": [
    "ft.unfreeze_all(bn_affine=True, bn_stats_train=False)\n",
    "\n",
    "ft, histB = fine_tune(\n",
    "    ft, cls_train_loader, cls_val_loader,\n",
    "    epochs=10,\n",
    "    lr_head=9e-4, lr_enc=9e-5,               # 10× ratio stays\n",
    "    mixup_alpha=0.15, mixup_alpha_end=0.0,   # turn off by the end to sharpen\n",
    "    cutmix_alpha=1.0, p_cutmix=0.20\n",
    ")\n",
    "\n",
    "valB  = evaluate_classifier(ft, cls_val_loader,  classes=[idx2label[i] for i in range(num_classes)], tta_hflip=True)\n",
    "testB = evaluate_classifier(ft, cls_test_loader, classes=[idx2label[i] for i in range(num_classes)], tta_hflip=True)\n",
    "print(\"Val (B):\",  valB)\n",
    "print(\"Test (B):\", testB)\n",
    "\n",
    "plt.figure(figsize=(10,4))\n",
    "plt.plot([h[0] for h in histB], label='Train loss')\n",
    "plt.plot([h[2] for h in histB], label='Val loss')\n",
    "plt.legend(); plt.show()\n",
    "plt.figure(figsize=(10,4))\n",
    "plt.plot([h[1] for h in histB], label='Train acc')\n",
    "plt.plot([h[3] for h in histB], label='Val acc')\n",
    "plt.legend(); plt.show()\n"
   ]
  },
  {
   "cell_type": "code",
   "execution_count": 14,
   "id": "a3e1c7c0",
   "metadata": {},
   "outputs": [
    {
     "name": "stdout",
     "output_type": "stream",
     "text": [
      "Val: {'top1': 0.8182633196721312, 'top5': 0.9403816598360656, 'f1': 0.8168867418101623, 'precision': 0.8323236561664057, 'recall': 0.8182633196721312}\n",
      "Test: {'top1': 0.8106186755475855, 'top5': 0.9378122198027411, 'f1': 0.8091851620846152, 'precision': 0.822529644368956, 'recall': 0.8106186755475855}\n"
     ]
    }
   ],
   "source": [
    "classes = [idx2label[i] for i in range(num_classes)]\n",
    "val_metrics  = evaluate_classifier(ft, cls_val_loader,  classes)\n",
    "test_metrics = evaluate_classifier(ft, cls_test_loader, classes)\n",
    "print(\"Val:\",  val_metrics)\n",
    "print(\"Test:\", test_metrics)"
   ]
  },
  {
   "cell_type": "code",
   "execution_count": 16,
   "id": "6d7af209",
   "metadata": {},
   "outputs": [],
   "source": [
    "ft_sd = {k: v.detach().cpu() for k, v in ft.state_dict().items()}\n",
    "torch.save(ft_sd, \"shroom2vec2label.pth\")"
   ]
  },
  {
   "cell_type": "code",
   "execution_count": null,
   "id": "01a9b6ab",
   "metadata": {},
   "outputs": [],
   "source": []
  }
 ],
 "metadata": {
  "kernelspec": {
   "display_name": "cpsc330",
   "language": "python",
   "name": "python3"
  },
  "language_info": {
   "codemirror_mode": {
    "name": "ipython",
    "version": 3
   },
   "file_extension": ".py",
   "mimetype": "text/x-python",
   "name": "python",
   "nbconvert_exporter": "python",
   "pygments_lexer": "ipython3",
   "version": "3.10.0"
  }
 },
 "nbformat": 4,
 "nbformat_minor": 5
}
